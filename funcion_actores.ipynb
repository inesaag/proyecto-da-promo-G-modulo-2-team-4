{
 "cells": [
  {
   "cell_type": "code",
   "execution_count": null,
   "metadata": {},
   "outputs": [],
   "source": [
    "# Importar librerías para tratamiento de datos\n",
    "# -----------------------------------------------------------------------\n",
    "import pandas as pd  # Pandas es una poderosa librería para manipulación y análisis de datos en Python.\n",
    "\n",
    "# Importar librerías para web scraping y manipulación de datos\n",
    "# -----------------------------------------------------------------------\n",
    "from bs4 import BeautifulSoup\n",
    "import requests\n",
    "\n",
    "# Importar librerías para automatización de navegadores web con Selenium\n",
    "# -----------------------------------------------------------------------\n",
    "from selenium import webdriver  # Selenium es una herramienta para automatizar la interacción con navegadores web.\n",
    "from webdriver_manager.chrome import ChromeDriverManager  # ChromeDriverManager gestiona la instalación del controlador de Chrome.\n",
    "from selenium.webdriver.common.keys import Keys  # Keys es útil para simular eventos de teclado en Selenium.\n",
    "from selenium.webdriver.support.ui import Select  # Select se utiliza para interactuar con elementos <select> en páginas web.\n",
    "\n",
    "# Importar librerías para pausar la ejecución\n",
    "# -----------------------------------------------------------------------\n",
    "from time import sleep  # Sleep se utiliza para pausar la ejecución del programa por un número de segundos.\n",
    "\n",
    "# Configuraciones\n",
    "# -----------------------------------------------------------------------\n",
    "pd.set_option('display.max_columns', None)  # Establece una opción de Pandas para mostrar todas las columnas de un DataFrame.\n",
    "\n",
    "import numpy as np\n",
    "\n",
    "import re"
   ]
  },
  {
   "cell_type": "code",
   "execution_count": null,
   "metadata": {},
   "outputs": [],
   "source": [
    "from selenium.webdriver.common.by import By\n",
    "from selenium.webdriver.support.ui import WebDriverWait\n",
    "from selenium.webdriver.support import expected_conditions as EC"
   ]
  },
  {
   "cell_type": "code",
   "execution_count": null,
   "metadata": {},
   "outputs": [],
   "source": [
    "from selenium.webdriver.common.by import By"
   ]
  },
  {
   "cell_type": "code",
   "execution_count": null,
   "metadata": {},
   "outputs": [],
   "source": [
    "df_comedy = pd.read_csv(\"comedy.csv\", index_col = 0)"
   ]
  },
  {
   "cell_type": "code",
   "execution_count": null,
   "metadata": {},
   "outputs": [],
   "source": [
    "comedy_df = df_comedy.values.tolist()"
   ]
  },
  {
   "cell_type": "code",
   "execution_count": null,
   "metadata": {},
   "outputs": [],
   "source": [
    "comedy_df"
   ]
  },
  {
   "cell_type": "code",
   "execution_count": null,
   "metadata": {},
   "outputs": [],
   "source": [
    "lista_peliculas_comedy = []\n",
    "\n",
    "for pelicula in comedy_df:\n",
    "    lista_peliculas_comedy.append (pelicula[1])"
   ]
  },
  {
   "cell_type": "code",
   "execution_count": null,
   "metadata": {},
   "outputs": [],
   "source": [
    "len(lista_peliculas_comedy)"
   ]
  },
  {
   "cell_type": "code",
   "execution_count": null,
   "metadata": {},
   "outputs": [],
   "source": [
    "lista_peliculas_comedy_1 = lista_peliculas_comedy[:500]"
   ]
  },
  {
   "cell_type": "code",
   "execution_count": null,
   "metadata": {},
   "outputs": [],
   "source": [
    "len(lista_peliculas_comedy_1)"
   ]
  },
  {
   "cell_type": "code",
   "execution_count": null,
   "metadata": {},
   "outputs": [],
   "source": [
    "#funcion para optener el reparto de la peli desde google\n",
    "\n",
    "def obtener_actores(lista):\n",
    "    \n",
    "    diccionario = {}\n",
    "    \n",
    "    driver = webdriver.Chrome() \n",
    "\n",
    "    url = \"https://www.google.com/\" \n",
    "\n",
    "    driver.get(url)  \n",
    "\n",
    "    driver.maximize_window()\n",
    "\n",
    "    sleep(1)\n",
    "\n",
    "    driver.find_element(\"css selector\", \"#L2AGLb > div\").click() # Aceptar cookies\n",
    "\n",
    "    sleep(1)\n",
    "\n",
    "    lista_actores = []\n",
    "\n",
    "    for indice, pelicula in enumerate(lista):\n",
    "        lista_actores = []\n",
    "\n",
    "        driver.find_element(\"css selector\", \"#APjFqb\").send_keys(f\"reparto `{pelicula}`\", Keys.ENTER) \n",
    "\n",
    "        sleep(4)\n",
    "\n",
    "        try:\n",
    "            for num in range(1, 9):\n",
    "                nombre_actor = driver.find_element(\"css selector\", f\"#rcnt > div.M8OgIe > div > div > div > div > div > div.uciohe > div:nth-child({num})\").text.split(\"\\n\")[0]\n",
    "                lista_actores.append(nombre_actor)\n",
    "\n",
    "        except:\n",
    "            pass\n",
    "\n",
    "        sleep(4)\n",
    "\n",
    "        driver.back()\n",
    "\n",
    "        # creo un diccionario con la peli y sus actores pero solo lo apendeo si he detectado 1 o mas actores\n",
    "        if len(lista_actores) > 0:\n",
    "            dic_peli = {pelicula: lista_actores}\n",
    "\n",
    "            #añado esa peli al diccionario final\n",
    "            diccionario.update(dic_peli)\n",
    "        \n",
    "        #muestro los resultados\n",
    "        print(indice)\n",
    "        print(pelicula)\n",
    "        print(lista_actores)\n",
    "        print(\"----------\")\n",
    "\n",
    "        if indice % 50 == 0 : #cada 50 películas cierro el navegador y vuelvo a empezar para que no pete\n",
    "            \n",
    "            print(\"reinicio navegador\") \n",
    "\n",
    "            driver.quit()\n",
    "\n",
    "            driver = webdriver.Chrome() \n",
    "\n",
    "            url = \"https://www.google.com/\" \n",
    "\n",
    "            driver.get(url)  \n",
    "\n",
    "            driver.maximize_window()\n",
    "\n",
    "            sleep(1)\n",
    "\n",
    "            driver.find_element(\"css selector\", \"#L2AGLb > div\").click() # Aceptar cookies\n",
    "\n",
    "            sleep(1)\n",
    "        \n",
    "\n",
    "    #driver.quit()  # Cerrar el navegador al finalizar\n",
    "    return diccionario"
   ]
  },
  {
   "cell_type": "code",
   "execution_count": null,
   "metadata": {},
   "outputs": [],
   "source": [
    "# Llamamos a la función para sacar los actores de cada pelicula\n",
    "\n",
    "resultados = obtener_actores(lista_peliculas_comedy_1)\n",
    "print(resultados)"
   ]
  },
  {
   "cell_type": "code",
   "execution_count": null,
   "metadata": {},
   "outputs": [],
   "source": [
    "len(resultados)"
   ]
  },
  {
   "cell_type": "code",
   "execution_count": null,
   "metadata": {},
   "outputs": [],
   "source": [
    "#los he puesto de la manera que queriamos ver la tabla\n",
    "lista_formato_tabla = []"
   ]
  },
  {
   "cell_type": "code",
   "execution_count": null,
   "metadata": {},
   "outputs": [],
   "source": [
    "for pelicula in resultados:\n",
    "    diccionario_nuevo = {\"pelicula\" : pelicula, \"actor\" : resultados[pelicula][0]}\n",
    "    listaa_prueba.append(diccionario_nuevo)\n",
    "    diccionario_nuevo = {\"pelicula\" : pelicula, \"actor\" : resultados[pelicula][1]}\n",
    "    listaa_prueba.append(diccionario_nuevo)\n",
    "    diccionario_nuevo = {\"pelicula\" : pelicula, \"actor\" : resultados[pelicula][2]}\n",
    "    listaa_prueba.append(diccionario_nuevo)\n",
    "    diccionario_nuevo = {\"pelicula\" : pelicula, \"actor\" : resultados[pelicula][3]}\n",
    "    listaa_prueba.append(diccionario_nuevo)\n",
    "    diccionario_nuevo = {\"pelicula\" : pelicula, \"actor\" : resultados[pelicula][4]}\n",
    "    listaa_prueba.append(diccionario_nuevo)\n",
    "    diccionario_nuevo = {\"pelicula\" : pelicula, \"actor\" : resultados[pelicula][5]}\n",
    "    listaa_prueba.append(diccionario_nuevo)\n",
    "    diccionario_nuevo = {\"pelicula\" : pelicula, \"actor\" : resultados[pelicula][6]}\n",
    "    listaa_prueba.append(diccionario_nuevo)\n",
    "    diccionario_nuevo = {\"pelicula\" : pelicula, \"actor\" : resultados[pelicula][7]}\n",
    "    lista_formato_tabla.append(diccionario_nuevo)"
   ]
  },
  {
   "cell_type": "code",
   "execution_count": null,
   "metadata": {},
   "outputs": [],
   "source": [
    "len(lista_formato_tabla)"
   ]
  },
  {
   "cell_type": "code",
   "execution_count": null,
   "metadata": {},
   "outputs": [],
   "source": [
    "resultados_nombre = pd.DataFrame(lista_formato_tabla)"
   ]
  },
  {
   "cell_type": "code",
   "execution_count": null,
   "metadata": {},
   "outputs": [],
   "source": [
    "resultados_nombre"
   ]
  },
  {
   "cell_type": "code",
   "execution_count": null,
   "metadata": {},
   "outputs": [],
   "source": [
    "resultados_nombre.to_csv(\"pelis_actores_500.csv\")"
   ]
  },
  {
   "cell_type": "code",
   "execution_count": null,
   "metadata": {},
   "outputs": [],
   "source": [
    "#con lo obtenido en la anterior búsqueda creamos una lista de actores sin duplicados \n",
    "actores = []\n",
    "resultados2 = resultados.values()\n",
    "resultados2"
   ]
  },
  {
   "cell_type": "code",
   "execution_count": null,
   "metadata": {},
   "outputs": [],
   "source": [
    "for indice, pelicula in enumerate(resultados2):\n",
    "   for actor in pelicula:\n",
    "       if actor not in actores:\n",
    "           actores.append(actor)"
   ]
  },
  {
   "cell_type": "code",
   "execution_count": null,
   "metadata": {},
   "outputs": [],
   "source": [
    "len(actores) "
   ]
  },
  {
   "cell_type": "code",
   "execution_count": null,
   "metadata": {},
   "outputs": [],
   "source": [
    "#modificamos la lista poniendo barrabajas a los espacios para crear las url de wikipedia\n",
    "actores_mod = []"
   ]
  },
  {
   "cell_type": "code",
   "execution_count": null,
   "metadata": {},
   "outputs": [],
   "source": [
    "for actor in actores:\n",
    "    actor2 = actor.replace(\" \", \"_\")\n",
    "    actores_mod.append(actor2)"
   ]
  },
  {
   "cell_type": "code",
   "execution_count": null,
   "metadata": {},
   "outputs": [],
   "source": [
    "#buscamos cada actor en wikipedia para sacar sus datos biográficos\n",
    "actores_datos = []\n",
    "for indice, actor in enumerate(actores_mod):\n",
    "    print(indice)\n",
    "    try:\n",
    "\n",
    "        url_actor = f\"https://es.wikipedia.org/wiki/{actor}\"\n",
    "\n",
    "        respuesta= requests.get(url_actor)\n",
    "\n",
    "        # vemos si todo ha ido bien\n",
    "        print(\"La respuesta de la petición es:\", respuesta.status_code)\n",
    "        \n",
    "        if respuesta.status_code == 200: \n",
    "            premios_pre = []\n",
    "            # nombre\n",
    "            nombre = actor.replace(\"_\", \" \")\n",
    "            print (f\"El nombre es {nombre}\")\n",
    "\n",
    "            # creamos el objeto BeautifulSoup para poder acceder al contenido solicitado\n",
    "            sopa = BeautifulSoup(respuesta.content, 'html.parser')\n",
    "\n",
    "            #nacimiento = sopa.find_all(\"td\")\n",
    "            #print(nacimiento[3])\n",
    "\n",
    "\n",
    "            #buscamos tablas\n",
    "            tabla_bio = sopa.find(\"table\")\n",
    "\n",
    "            # separar la tabla en una lista con distintos datos separados\n",
    "            celdas = tabla_bio.find_all('td')\n",
    "\n",
    "            # Extraer el texto de cada celda y dividirlo por espacios\n",
    "            lista_resultados_pre = [celda.get_text(strip=True, separator=' ') for celda in celdas]\n",
    "            print(lista_resultados_pre)\n",
    "\n",
    "            \n",
    "            meses = [\"enero\", \"febrero\", \"marzo\", \"abril\", \"mayo\", \"junio\", \"julio\", \"agosto\", \"septiembre\", \"octubre\", \"noviembre\", \"diciembre\"]\n",
    "            for elemento in lista_resultados_pre:\n",
    "                #activo desde:\n",
    "                patron = re.compile(r\"^desde\\s\\d{4}$\")\n",
    "                if patron.search(elemento):\n",
    "                    activo = elemento.split()[-1]\n",
    "                    print(f\"Activo desde: {activo}\")\n",
    "\n",
    "                # año nacimiento\n",
    "                for mes in meses:\n",
    "                    if mes in elemento:\n",
    "                        fecha_nacimiento = elemento.split(\"(\")[0]\n",
    "                        print(f\"La fecha de nacimiento es: {fecha_nacimiento}\")\n",
    "\n",
    "                        #pais de nacimiento\n",
    "                        pais_nacimiento = elemento.split()[-1]\n",
    "                        if pais_nacimiento == \"Unidos\":\n",
    "                            pais_nacimiento = \"Estados Unidos\"\n",
    "                        if pais_nacimiento == \"Unido\":\n",
    "                            pais_nacimiento = \"Reino Unido\"\n",
    "                        if pais_nacimiento == \"Dominicana\":\n",
    "                            pais_nacimiento = \"Republica Dominicana\"\n",
    "                        if pais_nacimiento == \"Rico\":\n",
    "                            pais_nacimiento = \"Puerto Rico\"\n",
    "                        print(f\"El país de nacimiento es: {pais_nacimiento}\")\n",
    "\n",
    "                #premios\n",
    "                premios_lista = [\"Oscar\", \"Globo de Oro\", \"BAFTA\", \"León de Oro\",\"Palma de Oro\",\"Oso de Oro\",\"SAG\",\"Critics' Choice\",\"Goya\",\"Oso de Plata\",\"Emmy\", \"Tony\",\"Concha de Plata\",\"Premio \", \"Mejor\", \"Award\"]\n",
    "                \n",
    "                for premio in premios_lista:\n",
    "                    if premio in elemento: \n",
    "                        premios_pre.append(elemento)\n",
    "                        premios = premios_pre\n",
    "\n",
    "            for elemento in premios:\n",
    "                if \"Sindicato\" in elemento:\n",
    "                    premios.remove(elemento)\n",
    "\n",
    "            print(f\"Los premios son: {premios}\")\n",
    "            actor_datos = {\"nombre\": nombre, \"fecha_nacimiento\": fecha_nacimiento, \"pais_nacimiento\" : pais_nacimiento, \"activo desde\" : activo, \"premios\": premios}\n",
    "            actores_datos.append(actor_datos)\n",
    "            print(\"-----------------\")\n",
    "\n",
    "        else:\n",
    "            print(\"sin wikipedia\")\n",
    "    except:\n",
    "        print(\"--------------\")\n",
    "    \n",
    "\n",
    "\n",
    "    print(actores_datos)"
   ]
  }
 ],
 "metadata": {
  "language_info": {
   "name": "python"
  }
 },
 "nbformat": 4,
 "nbformat_minor": 2
}
