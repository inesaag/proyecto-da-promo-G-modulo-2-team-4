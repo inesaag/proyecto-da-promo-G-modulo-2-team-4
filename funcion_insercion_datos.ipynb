{
 "cells": [
  {
   "cell_type": "code",
   "execution_count": 2,
   "metadata": {},
   "outputs": [],
   "source": [
    "import mysql.connector\n",
    "from mysql.connector import errorcode\n",
    "\n",
    "\n",
    "import pandas as pd\n",
    "import numpy as np"
   ]
  },
  {
   "cell_type": "code",
   "execution_count": 3,
   "metadata": {},
   "outputs": [
    {
     "name": "stdout",
     "output_type": "stream",
     "text": [
      "Conexion establecida\n"
     ]
    }
   ],
   "source": [
    "try:\n",
    "  cnx = mysql.connector.connect(user='root', password='AlumnaAdalab',\n",
    "                              host='127.0.0.1')\n",
    "  print(\"Conexion establecida\")\n",
    "\n",
    "except mysql.connector.Error as err:\n",
    "\n",
    "  if err.errno == errorcode.ER_ACCESS_DENIED_ERROR:\n",
    "    print(\"Something is wrong with your user name or password\")\n",
    "  \n",
    "  elif err.errno == errorcode.ER_BAD_DB_ERROR:\n",
    "    print(\"Database does not exist\")\n",
    "  \n",
    "  else:\n",
    "    print(err)"
   ]
  },
  {
   "cell_type": "code",
   "execution_count": 4,
   "metadata": {},
   "outputs": [],
   "source": [
    "df_uni_masiva = pd.read_csv(\"uni_masiva.csv\")"
   ]
  },
  {
   "cell_type": "code",
   "execution_count": 5,
   "metadata": {},
   "outputs": [],
   "source": [
    "lista_uni_para_bbdd = df_uni_masiva.values.tolist()"
   ]
  },
  {
   "cell_type": "code",
   "execution_count": 6,
   "metadata": {},
   "outputs": [],
   "source": [
    "#convertir en lista de tuplas\n",
    "lista_definitiva = [tuple(peli) for peli in lista_uni_para_bbdd]"
   ]
  },
  {
   "cell_type": "code",
   "execution_count": null,
   "metadata": {},
   "outputs": [],
   "source": [
    "def insertar_imdb_rt (usuario, contrasenya, bbdd, lista):\n",
    "    \n",
    "    cnx = mysql.connector.connect(user=usuario, password=contrasenya,\n",
    "                                host='127.0.0.1', database=bbdd)\n",
    "\n",
    "\n",
    "    mycursor = cnx.cursor()\n",
    "    query = \"INSERT INTO imdb_rt (puntuacion_imbd, puntuacion_rt, direccion, guionistas, argumento, duracion_minutos, nombre_pelicula, codigo_imbd) VALUES (%s, %s, %s, %s, %s, %s, %s, %s)\"\n",
    "    val = lista\n",
    "\n",
    "    try: \n",
    "        mycursor.executemany(query, val)\n",
    "        cnx.commit()\n",
    "        print(mycursor.rowcount, \"registro/s insertado/s.\")\n",
    "\n",
    "    except mysql.connector.Error as err:\n",
    "        print(err)\n",
    "        print(\"Error Code:\", err.errno)\n",
    "        print(\"SQLSTATE\", err.sqlstate)\n",
    "        print(\"Message\", err.msg)\n",
    "\n",
    "    cnx.close()\n",
    "\n"
   ]
  },
  {
   "cell_type": "code",
   "execution_count": null,
   "metadata": {},
   "outputs": [],
   "source": [
    "insercion_imdb_tomatoes = insertar_imdb_rt('root', 'AlumnaAdalab', 'bho', lista_definitiva)"
   ]
  },
  {
   "cell_type": "code",
   "execution_count": null,
   "metadata": {},
   "outputs": [],
   "source": [
    "def insertar_api (usuario, contrasenya, bbdd, lista):\n",
    "    \n",
    "    cnx = mysql.connector.connect(user=usuario, password=contrasenya,\n",
    "                                host='127.0.0.1', database=bbdd)\n",
    "\n",
    "\n",
    "    mycursor = cnx.cursor()\n",
    "    query = \"INSERT INTO api(tipo, nombre_peli_api, año_api, mes_api, codigo_imbd, drama, comedia, accion) VALUES (%s, %s, %s, %s, %s, %s, %s, %s)\"\n",
    "    val = lista\n",
    "\n",
    "    try: \n",
    "        mycursor.executemany(query, val)\n",
    "        cnx.commit()\n",
    "        print(mycursor.rowcount, \"registro/s insertado/s.\")\n",
    "\n",
    "    except mysql.connector.Error as err:\n",
    "        print(err)\n",
    "        print(\"Error Code:\", err.errno)\n",
    "        print(\"SQLSTATE\", err.sqlstate)\n",
    "        print(\"Message\", err.msg)\n",
    "\n",
    "    cnx.close()\n",
    "\n"
   ]
  },
  {
   "cell_type": "code",
   "execution_count": null,
   "metadata": {},
   "outputs": [],
   "source": [
    "def insertar_oscars(usuario, contrasenya, bbdd, lista):\n",
    "    \n",
    "    cnx = mysql.connector.connect(user=usuario, password=contrasenya,\n",
    "                                host='127.0.0.1', database=bbdd)\n",
    "\n",
    "\n",
    "    mycursor = cnx.cursor()\n",
    "    query = \"INSERT INTO oscars (anio, mejor_pelicula, mejor_director, mejor_actor, mejor_actriz) VALUES (%s, %s, %s, %s, %s)\"\n",
    "    val = lista\n",
    "\n",
    "    try: \n",
    "        mycursor.executemany(query, val)\n",
    "        cnx.commit()\n",
    "        print(mycursor.rowcount, \"registro/s insertado/s.\")\n",
    "\n",
    "    except mysql.connector.Error as err:\n",
    "        print(err)\n",
    "        print(\"Error Code:\", err.errno)\n",
    "        print(\"SQLSTATE\", err.sqlstate)\n",
    "        print(\"Message\", err.msg)\n",
    "\n",
    "    cnx.close()\n",
    "\n"
   ]
  },
  {
   "cell_type": "code",
   "execution_count": null,
   "metadata": {},
   "outputs": [],
   "source": [
    "def insertar_actore_datos(usuario, contrasenya, bbdd, lista):\n",
    "    \n",
    "    cnx = mysql.connector.connect(user=usuario, password=contrasenya,\n",
    "                                host='127.0.0.1', database=bbdd)\n",
    "\n",
    "\n",
    "    mycursor = cnx.cursor()\n",
    "    query = \"INSERT INTO actores_datos (nombre_actor, año_nacimiento, lugar_nacimiento, activo_desde, premios) VALUES (%s, %s, %s, %s, %s)\"\n",
    "    val = lista\n",
    "\n",
    "    try: \n",
    "        mycursor.executemany(query, val)\n",
    "        cnx.commit()\n",
    "        print(mycursor.rowcount, \"registro/s insertado/s.\")\n",
    "\n",
    "    except mysql.connector.Error as err:\n",
    "        print(err)\n",
    "        print(\"Error Code:\", err.errno)\n",
    "        print(\"SQLSTATE\", err.sqlstate)\n",
    "        print(\"Message\", err.msg)\n",
    "\n",
    "    cnx.close()\n",
    "\n"
   ]
  }
 ],
 "metadata": {
  "kernelspec": {
   "display_name": "Python 3",
   "language": "python",
   "name": "python3"
  },
  "language_info": {
   "codemirror_mode": {
    "name": "ipython",
    "version": 3
   },
   "file_extension": ".py",
   "mimetype": "text/x-python",
   "name": "python",
   "nbconvert_exporter": "python",
   "pygments_lexer": "ipython3",
   "version": "3.11.8"
  }
 },
 "nbformat": 4,
 "nbformat_minor": 2
}
