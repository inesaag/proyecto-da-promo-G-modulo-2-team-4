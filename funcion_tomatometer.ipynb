{
 "cells": [
  {
   "cell_type": "code",
   "execution_count": 1,
   "metadata": {},
   "outputs": [],
   "source": [
    "# Importar librerías para tratamiento de datos\n",
    "# -----------------------------------------------------------------------\n",
    "import pandas as pd  # Pandas es una poderosa librería para manipulación y análisis de datos en Python.\n",
    "\n",
    "# Importar librerías para web scraping y manipulación de datos\n",
    "# -----------------------------------------------------------------------\n",
    "from bs4 import BeautifulSoup\n",
    "import requests\n",
    "\n",
    "# Importar librerías para automatización de navegadores web con Selenium\n",
    "# -----------------------------------------------------------------------\n",
    "from selenium import webdriver  # Selenium es una herramienta para automatizar la interacción con navegadores web.\n",
    "from webdriver_manager.chrome import ChromeDriverManager  # ChromeDriverManager gestiona la instalación del controlador de Chrome.\n",
    "from selenium.webdriver.common.keys import Keys  # Keys es útil para simular eventos de teclado en Selenium.\n",
    "from selenium.webdriver.support.ui import Select  # Select se utiliza para interactuar con elementos <select> en páginas web.\n",
    "\n",
    "# Importar librerías para pausar la ejecución\n",
    "# -----------------------------------------------------------------------\n",
    "from time import sleep  # Sleep se utiliza para pausar la ejecución del programa por un número de segundos.\n",
    "\n",
    "# Configuraciones\n",
    "# -----------------------------------------------------------------------\n",
    "pd.set_option('display.max_columns', None)  # Establece una opción de Pandas para mostrar todas las columnas de un DataFrame.\n",
    "\n",
    "import numpy as np\n",
    "\n",
    "import re\n",
    "import random"
   ]
  },
  {
   "cell_type": "code",
   "execution_count": 2,
   "metadata": {},
   "outputs": [],
   "source": [
    "df_action = pd.read_csv(\"action.csv\", index_col = 0)\n",
    "df_comedy = pd.read_csv(\"comedy.csv\", index_col = 0)\n",
    "df_drama = pd.read_csv(\"drama_no_duplicado.csv\", index_col = 0)"
   ]
  },
  {
   "cell_type": "code",
   "execution_count": 3,
   "metadata": {},
   "outputs": [],
   "source": [
    "primeras_drama_8000_df = df_drama.values.tolist()[0:8000]"
   ]
  },
  {
   "cell_type": "code",
   "execution_count": 4,
   "metadata": {},
   "outputs": [],
   "source": [
    "# Inicializar navegador\n",
    "def datos_tomatoes (lista):\n",
    "\n",
    "    driver = webdriver.Chrome() \n",
    "\n",
    "    # URL Google para extraer la información solicitada. \n",
    "\n",
    "    url = \"https://www.google.com/\" \n",
    "\n",
    "    # Hacer una solicitud GET a la URL especificada.\n",
    "\n",
    "    driver.get(url)  \n",
    "\n",
    "    # Maximizar la ventana\n",
    "\n",
    "    driver.maximize_window()\n",
    "    \n",
    "\n",
    "\n",
    "    sleep(5)\n",
    "\n",
    "    # Aceptar cookies\n",
    "\n",
    "    driver.find_element(\"css selector\", \"#L2AGLb > div\").click()\n",
    "\n",
    "    # Creamos lista vacía para introducir el resultado de las puntuaciones (tomatometer) de cada pelicula.\n",
    "\n",
    "    total_puntuacion_tomatoes = []\n",
    "\n",
    "    # Iniciamos bucle for por cada pelicula de los csv que tenemos accediendo por su indice.\n",
    "\n",
    "    for indice,c in enumerate(lista): \n",
    "        \n",
    "\n",
    "        sleep(random.randint(3,10))\n",
    "        #creamos un string para pasarle a Google el nombre y el año de la pelicula extraidos de IMDB\n",
    "        peticion = f\"'Tomatometer de {c[1]} del año {c[2]}'\"\n",
    "        #incluimos el string en la barra de busqueda de Google\n",
    "        driver.find_element(\"css selector\",\"#APjFqb\").send_keys(peticion, Keys.ENTER)  \n",
    "\n",
    "        #puntuación (tomatometer)\n",
    "        \n",
    "        try:\n",
    "\n",
    "            #creamos una variable con el nombre de la primera pelicula que aparece en Google\n",
    "            nombre_peli_google = driver.find_element(\"css selector\",\"#rso > div:nth-child(1) > div > div > div.kb0PBd.cvP2Ce.jGGQ5e > div > div > span > a > h3\").text\n",
    "            \n",
    "\n",
    "            #si el nombre es igual al nombre de la pelicula que pedimos la añadimos a la lista\n",
    "            if nombre_peli_google == c[1]:\n",
    "                \n",
    "                puntuacion = driver.find_element(\"css selector\",\"#rso > div:nth-child(1) > div > div > div:nth-child(3) > div > span:nth-child(2)\").text.replace(\"%\",\"\").replace(\"Valoración: \", \"\")\n",
    "                total_puntuacion_tomatoes.append(puntuacion)\n",
    "                print(puntuacion)\n",
    "            #si el nombre no coincide lo intentamos con la segunda opcion que aparece en google\n",
    "            else:\n",
    "                try:\n",
    "                    nombre_peli_google2 = driver.find_element(\"css selector\",\"#rso > div:nth-child(2) > div > div > div.kb0PBd.cvP2Ce.jGGQ5e > div > div > span > a > h3\").text\n",
    "\n",
    "                    if nombre_peli_google2 == c[1]:\n",
    "                \n",
    "                        puntuacion = driver.find_element(\"css selector\",\"#rso > div:nth-child(2) > div > div > div:nth-child(3) > div > span:nth-child(2)\").text.replace(\"%\",\"\").replace(\"Valoración: \", \"\")\n",
    "                        total_puntuacion_tomatoes.append(puntuacion)\n",
    "                        print(puntuacion)\n",
    "                    else:\n",
    "                        total_puntuacion_tomatoes.append(\"No tiene datos\")\n",
    "                        print(\"No tiene datos\")\n",
    "                except:\n",
    "                    total_puntuacion_tomatoes.append(\"No tiene datos\")\n",
    "                    print(\"No tiene datos\")\n",
    "        except: \n",
    "\n",
    "            total_puntuacion_tomatoes.append(\"No tiene datos\")\n",
    "            print(\"No tiene datos\")\n",
    "        \n",
    "        print(indice, c[1], c[2], c[4])\n",
    "        # Salimos a la pag.principal del navegador\n",
    "        \n",
    "        driver.back()\n",
    "\n",
    "    return total_puntuacion_tomatoes    # Impresion lista total "
   ]
  },
  {
   "cell_type": "code",
   "execution_count": null,
   "metadata": {},
   "outputs": [],
   "source": [
    "#llamamos a la funcion\n",
    "primeras_8000_drama_tomatoes = datos_tomatoes(primeras_drama_8000_df)"
   ]
  },
  {
   "cell_type": "code",
   "execution_count": null,
   "metadata": {},
   "outputs": [],
   "source": [
    "#convertimos la lista a dataframe\n",
    "df_drama_imdb_resto = pd.DataFrame(primeras_8000_drama_tomatoes)\n",
    "\n",
    "df_drama_imdb_resto"
   ]
  },
  {
   "cell_type": "code",
   "execution_count": 11,
   "metadata": {},
   "outputs": [],
   "source": [
    "#convertimos el dataframe a csv\n",
    "df_drama_imdb_resto.to_csv(\"drama_imdb_resto_pelis.csv\")"
   ]
  }
 ],
 "metadata": {
  "kernelspec": {
   "display_name": "Python 3",
   "language": "python",
   "name": "python3"
  },
  "language_info": {
   "codemirror_mode": {
    "name": "ipython",
    "version": 3
   },
   "file_extension": ".py",
   "mimetype": "text/x-python",
   "name": "python",
   "nbconvert_exporter": "python",
   "pygments_lexer": "ipython3",
   "version": "3.11.8"
  }
 },
 "nbformat": 4,
 "nbformat_minor": 2
}
