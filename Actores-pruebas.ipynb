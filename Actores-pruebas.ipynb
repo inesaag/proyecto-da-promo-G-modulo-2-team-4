{
 "cells": [
  {
   "cell_type": "code",
   "execution_count": 1,
   "metadata": {},
   "outputs": [],
   "source": [
    "# Importar librerías para tratamiento de datos\n",
    "# -----------------------------------------------------------------------\n",
    "import pandas as pd  # Pandas es una poderosa librería para manipulación y análisis de datos en Python.\n",
    "\n",
    "# Importar librerías para web scraping y manipulación de datos\n",
    "# -----------------------------------------------------------------------\n",
    "from bs4 import BeautifulSoup\n",
    "import requests\n",
    "\n",
    "# Importar librerías para automatización de navegadores web con Selenium\n",
    "# -----------------------------------------------------------------------\n",
    "from selenium import webdriver  # Selenium es una herramienta para automatizar la interacción con navegadores web.\n",
    "from webdriver_manager.chrome import ChromeDriverManager  # ChromeDriverManager gestiona la instalación del controlador de Chrome.\n",
    "from selenium.webdriver.common.keys import Keys  # Keys es útil para simular eventos de teclado en Selenium.\n",
    "from selenium.webdriver.support.ui import Select  # Select se utiliza para interactuar con elementos <select> en páginas web.\n",
    "\n",
    "# Importar librerías para pausar la ejecución\n",
    "# -----------------------------------------------------------------------\n",
    "from time import sleep  # Sleep se utiliza para pausar la ejecución del programa por un número de segundos.\n",
    "\n",
    "# Configuraciones\n",
    "# -----------------------------------------------------------------------\n",
    "pd.set_option('display.max_columns', None)  # Establece una opción de Pandas para mostrar todas las columnas de un DataFrame.\n",
    "\n",
    "import numpy as np\n",
    "\n",
    "import re"
   ]
  },
  {
   "cell_type": "code",
   "execution_count": 2,
   "metadata": {},
   "outputs": [],
   "source": [
    "from selenium.webdriver.common.by import By\n",
    "from selenium.webdriver.support.ui import WebDriverWait\n",
    "from selenium.webdriver.support import expected_conditions as EC"
   ]
  },
  {
   "cell_type": "code",
   "execution_count": 19,
   "metadata": {},
   "outputs": [],
   "source": [
    "from selenium.webdriver.common.by import By"
   ]
  },
  {
   "cell_type": "code",
   "execution_count": null,
   "metadata": {},
   "outputs": [],
   "source": [
    "#Nombre.\n",
    "#Año nacimiento.\n",
    "#¿Por qué es conocido?\n",
    "#¿Qué hace?\n",
    "#Premios."
   ]
  },
  {
   "cell_type": "code",
   "execution_count": 3,
   "metadata": {},
   "outputs": [],
   "source": [
    "lista_pelis = [\"La máscara del Zorro\", \"Desperado\", \"El gato con botas\"]\n",
    "actores = []"
   ]
  },
  {
   "cell_type": "code",
   "execution_count": 8,
   "metadata": {},
   "outputs": [],
   "source": [
    "# Entramos a la peli (todo esto ya está en la funcion)\n",
    "\n",
    "driver = webdriver.Chrome() \n",
    "\n",
    "url = \"https://www.google.com/\" \n",
    "\n",
    "driver.get(url)  \n",
    "\n",
    "driver.maximize_window()\n",
    "\n",
    "sleep(1)\n",
    "\n",
    "driver.find_element(\"css selector\", \"#L2AGLb > div\").click() # Aceptar cookies\n",
    "\n",
    "sleep(1)\n",
    "for pelicula in lista_pelis:\n",
    "\n",
    "    driver.find_element(\"css selector\",\"#APjFqb\").send_keys(f\"reparto `{pelicula}`\", Keys.ENTER) \n",
    "    \n",
    "    sleep(1)\n",
    "    #driver.find_element(\"xpath\", '//*[@id=\"_b8bhZca7EZKtkdUPha2YuAo_29\"]/a/wp-grid-tile/div[2]/div[1]').text\n",
    "\n",
    "    for num in range (1,9):\n",
    "        nombre_actor = driver.find_element(\"css selector\", f\"#rcnt > div.M8OgIe > div > div > div > div > div > div.uciohe > div:nth-child({num})\").text.split(\"\\n\")[0]\n",
    "        if nombre_actor not in actores:\n",
    "            actores.append(nombre_actor)\n",
    "\n",
    "    driver.back()"
   ]
  },
  {
   "cell_type": "code",
   "execution_count": 9,
   "metadata": {},
   "outputs": [
    {
     "data": {
      "text/plain": [
       "['Antonio Banderas',\n",
       " 'Catherine Zeta-Jones',\n",
       " 'Anthony Hopkins',\n",
       " 'Stuart Wilson',\n",
       " 'Matt Letscher',\n",
       " 'Tony Amendola',\n",
       " 'Victor Rivas Rivers',\n",
       " 'Pedro Armendáriz Jr.',\n",
       " 'Salma Hayek',\n",
       " 'Quentin Tarantino',\n",
       " 'Joaquim de Almeida',\n",
       " 'Steve Buscemi',\n",
       " 'Danny Trejo',\n",
       " 'Carlos Gallardo',\n",
       " 'Cheech Marin',\n",
       " 'Chris Miller',\n",
       " 'Joshua Rush',\n",
       " 'Guillermo del Toro',\n",
       " 'Jessica Schulte',\n",
       " 'Bob Persichetti',\n",
       " 'Jossara Jinaro']"
      ]
     },
     "execution_count": 9,
     "metadata": {},
     "output_type": "execute_result"
    }
   ],
   "source": [
    "actores"
   ]
  }
 ],
 "metadata": {
  "kernelspec": {
   "display_name": "base",
   "language": "python",
   "name": "python3"
  },
  "language_info": {
   "codemirror_mode": {
    "name": "ipython",
    "version": 3
   },
   "file_extension": ".py",
   "mimetype": "text/x-python",
   "name": "python",
   "nbconvert_exporter": "python",
   "pygments_lexer": "ipython3",
   "version": "3.11.5"
  }
 },
 "nbformat": 4,
 "nbformat_minor": 2
}
