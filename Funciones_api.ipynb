{
 "cells": [
  {
   "cell_type": "code",
   "execution_count": 11,
   "metadata": {},
   "outputs": [],
   "source": [
    "import pandas as pd\n",
    "\n",
    "import requests\n",
    "\n",
    "pd.set_option('display.max_columns', None)"
   ]
  },
  {
   "cell_type": "code",
   "execution_count": 12,
   "metadata": {},
   "outputs": [],
   "source": [
    "#creamos una funcion para sacar una url dinámica con todas la páginas\n",
    "\n",
    "def url_dinamica (genero, anio, tipo, clave):\n",
    "\n",
    "    lista_json = []\n",
    "    \n",
    "    for pag in range (1,51):\n",
    "\n",
    "        url = \"https://moviesdatabase.p.rapidapi.com/titles\"\n",
    "        querystring = {\"genre\":genero,\"titleType\":tipo,\"year\":anio,\"page\":pag}\n",
    "        headers = {\n",
    "        \"X-RapidAPI-Key\": clave,\n",
    "        \"X-RapidAPI-Host\": \"moviesdatabase.p.rapidapi.com\"}\n",
    "\n",
    "        response = requests.get(url, headers=headers, params=querystring)\n",
    "\n",
    "        response_json = response.json()\n",
    "\n",
    "        lista_json.append (response_json)\n",
    "       \n",
    "\n",
    "    return lista_json\n"
   ]
  },
  {
   "cell_type": "markdown",
   "metadata": {},
   "source": [
    "MOVIE"
   ]
  },
  {
   "cell_type": "code",
   "execution_count": 13,
   "metadata": {},
   "outputs": [],
   "source": [
    "#HECHO 9:55\n",
    "#creamos un bucle para sacar jsons de varios años llamando a la función anterior, como hay límite sacaremos en esta ronda del 2010 al 2023\n",
    "lista_json_anios = []\n",
    "\n",
    "for anio in range(2010,2024):\n",
    "    #añadimos el tipo y género que queremos buscar \n",
    "    #cada una le pone su API KEY\n",
    "    url2 = url_dinamica(\"Drama\", anio, \"movie\",\"54b0a47db5mshf6ed07e25abb30dp19e0edjsn935796beb60a\")\n",
    "    lista_json_anios.append(url2)"
   ]
  },
  {
   "cell_type": "code",
   "execution_count": 20,
   "metadata": {},
   "outputs": [],
   "source": [
    "#HECHO 11:29\n",
    "\n",
    "#repetimos lo que hemos hecho en la celda anterior para sacar los datos del 2000 al 2009\n",
    "lista_json_anios1 = []\n",
    "\n",
    "for anio in range(2000,2010):\n",
    "    #añadimos el tipo y género que queremos buscar \n",
    "    #cada una le pone su API KEY\n",
    "    url2 = url_dinamica(\"Drama\", anio, \"movie\",\"54b0a47db5mshf6ed07e25abb30dp19e0edjsn935796beb60a\")\n",
    "    lista_json_anios1.append(url2)"
   ]
  },
  {
   "cell_type": "markdown",
   "metadata": {},
   "source": [
    "SHORT"
   ]
  },
  {
   "cell_type": "code",
   "execution_count": 29,
   "metadata": {},
   "outputs": [],
   "source": [
    "#HECHO 12:30\n",
    "\n",
    "#creamos un bucle para sacar jsons de varios años llamando a la función anterior, como hay límite sacaremos en esta ronda del 2010 al 2023\n",
    "lista_json_anios2 = []\n",
    "\n",
    "for anio in range(2010,2024):\n",
    "    #añadimos el tipo y género que queremos buscar \n",
    "    #cada una le pone su API KEY\n",
    "    url2 = url_dinamica(\"Drama\", anio, \"short\",\"54b0a47db5mshf6ed07e25abb30dp19e0edjsn935796beb60a\")\n",
    "    lista_json_anios2.append(url2)"
   ]
  },
  {
   "cell_type": "code",
   "execution_count": 37,
   "metadata": {},
   "outputs": [],
   "source": [
    "#HECHO 13:48\n",
    "\n",
    "#repetimos lo que hemos hecho en la celda anterior para sacar los datos del 2000 al 2009\n",
    "lista_json_anios3 = []\n",
    "\n",
    "for anio in range(2000,2010):\n",
    "    #añadimos el tipo y género que queremos buscar \n",
    "    #cada una le pone su API KEY\n",
    "    url2 = url_dinamica(\"Drama\", anio, \"short\",\"54b0a47db5mshf6ed07e25abb30dp19e0edjsn935796beb60a\")\n",
    "    lista_json_anios3.append(url2)"
   ]
  },
  {
   "cell_type": "code",
   "execution_count": null,
   "metadata": {},
   "outputs": [],
   "source": [
    "#comprobamos que las últimas páginas tienen datos\n",
    "lista_json_anios[-1]"
   ]
  },
  {
   "cell_type": "code",
   "execution_count": null,
   "metadata": {},
   "outputs": [],
   "source": [
    "#comprobamos que las últimas páginas tienen datos\n",
    "lista_json_anios1[-1]"
   ]
  },
  {
   "cell_type": "code",
   "execution_count": null,
   "metadata": {},
   "outputs": [],
   "source": [
    "lista_json_anios2[-1]"
   ]
  },
  {
   "cell_type": "code",
   "execution_count": null,
   "metadata": {},
   "outputs": [],
   "source": [
    "lista_json_anios3[-1]"
   ]
  },
  {
   "cell_type": "code",
   "execution_count": 39,
   "metadata": {},
   "outputs": [],
   "source": [
    "#unificamos ambas listas con lo sacado de la API\n",
    "lista_json_anios = lista_json_anios + lista_json_anios1 + lista_json_anios2 + lista_json_anios3"
   ]
  },
  {
   "cell_type": "code",
   "execution_count": 40,
   "metadata": {},
   "outputs": [],
   "source": [
    "#creamos una función para sacar los datos que queremos de los json\n",
    "\n",
    "def busqueda_info (lista):\n",
    "    datos = []\n",
    "    #un primer bucle para iterar por cada año\n",
    "    for num in range (0,len(lista)):\n",
    "        #iteramos por cada película\n",
    "        for pelicula in lista[num][\"results\"]:\n",
    "            lista_para_tupla = []\n",
    "            lista_para_tupla.append(pelicula[\"titleType\"][\"text\"])\n",
    "            lista_para_tupla.append(pelicula['originalTitleText']['text'])\n",
    "            \n",
    "            try: #si el valor de año es nulo cogemos el otro dato de año que tiene el json\n",
    "                lista_para_tupla.append(pelicula[\"releaseDate\"][\"year\"])\n",
    "            except:\n",
    "                lista_para_tupla.append(pelicula[\"releaseYear\"][\"year\"])\n",
    "\n",
    "            try:#si el valor de mes es nulo, appendeamos 0\n",
    "                lista_para_tupla.append(pelicula['releaseDate']['month'])\n",
    "            except:\n",
    "                lista_para_tupla.append(0)\n",
    "\n",
    "            lista_para_tupla.append(pelicula['id'])\n",
    "\n",
    "            #convertimos en tupla\n",
    "            tupla = tuple(lista_para_tupla)\n",
    "            \n",
    "            #añadimos la tupla a la lista \n",
    "            datos.append(tupla)\n",
    "            \n",
    "                \n",
    "    return datos"
   ]
  },
  {
   "cell_type": "code",
   "execution_count": null,
   "metadata": {},
   "outputs": [],
   "source": [
    "#llamamos a la funcion anterior\n",
    "\n",
    "datos_final = []\n",
    "\n",
    "fin =len(lista_json_anios)\n",
    "\n",
    "for num in range(0,fin):\n",
    "    lista3 = busqueda_info(lista_json_anios[num])\n",
    "    datos_final = datos_final + lista3\n",
    "\n",
    "datos_final"
   ]
  },
  {
   "cell_type": "code",
   "execution_count": 42,
   "metadata": {},
   "outputs": [
    {
     "data": {
      "text/plain": [
       "82"
      ]
     },
     "execution_count": 42,
     "metadata": {},
     "output_type": "execute_result"
    }
   ],
   "source": [
    "len(lista_json_anios)"
   ]
  },
  {
   "cell_type": "code",
   "execution_count": 43,
   "metadata": {},
   "outputs": [],
   "source": [
    "encabezado = [\"Tipo\", \"Título\", \"Año\", \"Mes\", \"ID\"]"
   ]
  },
  {
   "cell_type": "code",
   "execution_count": 44,
   "metadata": {},
   "outputs": [
    {
     "data": {
      "text/html": [
       "<div>\n",
       "<style scoped>\n",
       "    .dataframe tbody tr th:only-of-type {\n",
       "        vertical-align: middle;\n",
       "    }\n",
       "\n",
       "    .dataframe tbody tr th {\n",
       "        vertical-align: top;\n",
       "    }\n",
       "\n",
       "    .dataframe thead th {\n",
       "        text-align: right;\n",
       "    }\n",
       "</style>\n",
       "<table border=\"1\" class=\"dataframe\">\n",
       "  <thead>\n",
       "    <tr style=\"text-align: right;\">\n",
       "      <th></th>\n",
       "      <th>Tipo</th>\n",
       "      <th>Título</th>\n",
       "      <th>Año</th>\n",
       "      <th>Mes</th>\n",
       "      <th>ID</th>\n",
       "    </tr>\n",
       "  </thead>\n",
       "  <tbody>\n",
       "    <tr>\n",
       "      <th>0</th>\n",
       "      <td>Movie</td>\n",
       "      <td>Pál Adrienn</td>\n",
       "      <td>2011.0</td>\n",
       "      <td>6.0</td>\n",
       "      <td>tt0146592</td>\n",
       "    </tr>\n",
       "    <tr>\n",
       "      <th>1</th>\n",
       "      <td>Movie</td>\n",
       "      <td>Oda az igazság</td>\n",
       "      <td>2010.0</td>\n",
       "      <td>2.0</td>\n",
       "      <td>tt0154039</td>\n",
       "    </tr>\n",
       "    <tr>\n",
       "      <th>2</th>\n",
       "      <td>Movie</td>\n",
       "      <td>A zöld sárkány gyermekei</td>\n",
       "      <td>2011.0</td>\n",
       "      <td>4.0</td>\n",
       "      <td>tt0162942</td>\n",
       "    </tr>\n",
       "    <tr>\n",
       "      <th>3</th>\n",
       "      <td>Movie</td>\n",
       "      <td>The Final Journey</td>\n",
       "      <td>2010.0</td>\n",
       "      <td>9.0</td>\n",
       "      <td>tt0230212</td>\n",
       "    </tr>\n",
       "    <tr>\n",
       "      <th>4</th>\n",
       "      <td>Movie</td>\n",
       "      <td>In My Sleep</td>\n",
       "      <td>2010.0</td>\n",
       "      <td>4.0</td>\n",
       "      <td>tt0326965</td>\n",
       "    </tr>\n",
       "    <tr>\n",
       "      <th>...</th>\n",
       "      <td>...</td>\n",
       "      <td>...</td>\n",
       "      <td>...</td>\n",
       "      <td>...</td>\n",
       "      <td>...</td>\n",
       "    </tr>\n",
       "    <tr>\n",
       "      <th>40995</th>\n",
       "      <td>Short</td>\n",
       "      <td>When in Rome</td>\n",
       "      <td>2009.0</td>\n",
       "      <td>2.0</td>\n",
       "      <td>tt1362332</td>\n",
       "    </tr>\n",
       "    <tr>\n",
       "      <th>40996</th>\n",
       "      <td>Short</td>\n",
       "      <td>Perspective</td>\n",
       "      <td>2009.0</td>\n",
       "      <td>0.0</td>\n",
       "      <td>tt1362288</td>\n",
       "    </tr>\n",
       "    <tr>\n",
       "      <th>40997</th>\n",
       "      <td>Short</td>\n",
       "      <td>Communion</td>\n",
       "      <td>2009.0</td>\n",
       "      <td>NaN</td>\n",
       "      <td>tt1362385</td>\n",
       "    </tr>\n",
       "    <tr>\n",
       "      <th>40998</th>\n",
       "      <td>Short</td>\n",
       "      <td>Closure</td>\n",
       "      <td>2009.0</td>\n",
       "      <td>6.0</td>\n",
       "      <td>tt1362383</td>\n",
       "    </tr>\n",
       "    <tr>\n",
       "      <th>40999</th>\n",
       "      <td>Short</td>\n",
       "      <td>A Second Chance</td>\n",
       "      <td>2009.0</td>\n",
       "      <td>4.0</td>\n",
       "      <td>tt1362306</td>\n",
       "    </tr>\n",
       "  </tbody>\n",
       "</table>\n",
       "<p>41000 rows × 5 columns</p>\n",
       "</div>"
      ],
      "text/plain": [
       "        Tipo                    Título     Año  Mes         ID\n",
       "0      Movie               Pál Adrienn  2011.0  6.0  tt0146592\n",
       "1      Movie            Oda az igazság  2010.0  2.0  tt0154039\n",
       "2      Movie  A zöld sárkány gyermekei  2011.0  4.0  tt0162942\n",
       "3      Movie         The Final Journey  2010.0  9.0  tt0230212\n",
       "4      Movie               In My Sleep  2010.0  4.0  tt0326965\n",
       "...      ...                       ...     ...  ...        ...\n",
       "40995  Short              When in Rome  2009.0  2.0  tt1362332\n",
       "40996  Short               Perspective  2009.0  0.0  tt1362288\n",
       "40997  Short                 Communion  2009.0  NaN  tt1362385\n",
       "40998  Short                   Closure  2009.0  6.0  tt1362383\n",
       "40999  Short           A Second Chance  2009.0  4.0  tt1362306\n",
       "\n",
       "[41000 rows x 5 columns]"
      ]
     },
     "execution_count": 44,
     "metadata": {},
     "output_type": "execute_result"
    }
   ],
   "source": [
    "df_drama_2000_2023 = pd.DataFrame(datos_final, columns = encabezado)\n",
    "\n",
    "df_drama_2000_2023"
   ]
  },
  {
   "cell_type": "code",
   "execution_count": 45,
   "metadata": {},
   "outputs": [],
   "source": [
    "df_drama_2000_2023.to_csv(\"drama.csv\")"
   ]
  }
 ],
 "metadata": {
  "kernelspec": {
   "display_name": "base",
   "language": "python",
   "name": "python3"
  },
  "language_info": {
   "codemirror_mode": {
    "name": "ipython",
    "version": 3
   },
   "file_extension": ".py",
   "mimetype": "text/x-python",
   "name": "python",
   "nbconvert_exporter": "python",
   "pygments_lexer": "ipython3",
   "version": "3.9.12"
  }
 },
 "nbformat": 4,
 "nbformat_minor": 2
}
