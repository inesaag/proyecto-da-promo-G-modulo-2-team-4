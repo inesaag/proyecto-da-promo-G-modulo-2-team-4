{
 "cells": [
  {
   "cell_type": "code",
   "execution_count": 1,
   "metadata": {},
   "outputs": [],
   "source": [
    "import mysql.connector\n",
    "from mysql.connector import errorcode\n",
    "\n",
    "\n",
    "import pandas as pd\n",
    "import numpy as np"
   ]
  },
  {
   "cell_type": "code",
   "execution_count": 2,
   "metadata": {},
   "outputs": [
    {
     "name": "stdout",
     "output_type": "stream",
     "text": [
      "Conexion establecida\n"
     ]
    }
   ],
   "source": [
    "try:\n",
    "  cnx = mysql.connector.connect(user='root', password='AlumnaAdalab',\n",
    "                              host='127.0.0.1')\n",
    "  print(\"Conexion establecida\")\n",
    "\n",
    "except mysql.connector.Error as err:\n",
    "\n",
    "  if err.errno == errorcode.ER_ACCESS_DENIED_ERROR:\n",
    "    print(\"Something is wrong with your user name or password\")\n",
    "  \n",
    "  elif err.errno == errorcode.ER_BAD_DB_ERROR:\n",
    "    print(\"Database does not exist\")\n",
    "  \n",
    "  else:\n",
    "    print(err)"
   ]
  },
  {
   "cell_type": "code",
   "execution_count": 3,
   "metadata": {},
   "outputs": [],
   "source": [
    "df_total_api = pd.read_csv(\"total_api_para_BBDD.csv\", index_col = 0)"
   ]
  },
  {
   "cell_type": "code",
   "execution_count": 4,
   "metadata": {},
   "outputs": [
    {
     "data": {
      "text/html": [
       "<div>\n",
       "<style scoped>\n",
       "    .dataframe tbody tr th:only-of-type {\n",
       "        vertical-align: middle;\n",
       "    }\n",
       "\n",
       "    .dataframe tbody tr th {\n",
       "        vertical-align: top;\n",
       "    }\n",
       "\n",
       "    .dataframe thead th {\n",
       "        text-align: right;\n",
       "    }\n",
       "</style>\n",
       "<table border=\"1\" class=\"dataframe\">\n",
       "  <thead>\n",
       "    <tr style=\"text-align: right;\">\n",
       "      <th></th>\n",
       "      <th>0</th>\n",
       "      <th>1</th>\n",
       "      <th>2</th>\n",
       "      <th>3</th>\n",
       "      <th>4</th>\n",
       "      <th>5</th>\n",
       "    </tr>\n",
       "  </thead>\n",
       "  <tbody>\n",
       "    <tr>\n",
       "      <th>0</th>\n",
       "      <td>comedia</td>\n",
       "      <td>pelicula</td>\n",
       "      <td>This Wretched Life</td>\n",
       "      <td>2010.0</td>\n",
       "      <td>7.0</td>\n",
       "      <td>tt0331312</td>\n",
       "    </tr>\n",
       "    <tr>\n",
       "      <th>1</th>\n",
       "      <td>comedia</td>\n",
       "      <td>pelicula</td>\n",
       "      <td>Blind Sided</td>\n",
       "      <td>2010.0</td>\n",
       "      <td>0.0</td>\n",
       "      <td>tt0337882</td>\n",
       "    </tr>\n",
       "    <tr>\n",
       "      <th>2</th>\n",
       "      <td>comedia</td>\n",
       "      <td>pelicula</td>\n",
       "      <td>Anderson's Cross</td>\n",
       "      <td>2010.0</td>\n",
       "      <td>5.0</td>\n",
       "      <td>tt0393049</td>\n",
       "    </tr>\n",
       "    <tr>\n",
       "      <th>3</th>\n",
       "      <td>comedia</td>\n",
       "      <td>pelicula</td>\n",
       "      <td>Tangled</td>\n",
       "      <td>2010.0</td>\n",
       "      <td>12.0</td>\n",
       "      <td>tt0398286</td>\n",
       "    </tr>\n",
       "    <tr>\n",
       "      <th>4</th>\n",
       "      <td>comedia</td>\n",
       "      <td>pelicula</td>\n",
       "      <td>Venus &amp; Vegas</td>\n",
       "      <td>2010.0</td>\n",
       "      <td>11.0</td>\n",
       "      <td>tt0423474</td>\n",
       "    </tr>\n",
       "  </tbody>\n",
       "</table>\n",
       "</div>"
      ],
      "text/plain": [
       "         0         1                   2       3     4          5\n",
       "0  comedia  pelicula  This Wretched Life  2010.0   7.0  tt0331312\n",
       "1  comedia  pelicula         Blind Sided  2010.0   0.0  tt0337882\n",
       "2  comedia  pelicula    Anderson's Cross  2010.0   5.0  tt0393049\n",
       "3  comedia  pelicula             Tangled  2010.0  12.0  tt0398286\n",
       "4  comedia  pelicula       Venus & Vegas  2010.0  11.0  tt0423474"
      ]
     },
     "execution_count": 4,
     "metadata": {},
     "output_type": "execute_result"
    }
   ],
   "source": [
    "df_total_api.head()"
   ]
  },
  {
   "cell_type": "code",
   "execution_count": 5,
   "metadata": {},
   "outputs": [],
   "source": [
    "lista_api_para_bbdd = df_total_api.values.tolist()"
   ]
  },
  {
   "cell_type": "code",
   "execution_count": 6,
   "metadata": {},
   "outputs": [],
   "source": [
    "lista_definitiva = [tuple(peli) for peli in lista_api_para_bbdd]"
   ]
  },
  {
   "cell_type": "code",
   "execution_count": 7,
   "metadata": {},
   "outputs": [
    {
     "data": {
      "text/plain": [
       "[('comedia', 'pelicula', 'This Wretched Life', 2010.0, 7.0, 'tt0331312'),\n",
       " ('comedia', 'pelicula', 'Blind Sided', 2010.0, 0.0, 'tt0337882'),\n",
       " ('comedia', 'pelicula', \"Anderson's Cross\", 2010.0, 5.0, 'tt0393049'),\n",
       " ('comedia', 'pelicula', 'Tangled', 2010.0, 12.0, 'tt0398286')]"
      ]
     },
     "execution_count": 7,
     "metadata": {},
     "output_type": "execute_result"
    }
   ],
   "source": [
    "lista_definitiva[:4]"
   ]
  },
  {
   "cell_type": "code",
   "execution_count": 23,
   "metadata": {},
   "outputs": [
    {
     "name": "stdout",
     "output_type": "stream",
     "text": [
      "69414 registro/s insertado/s.\n"
     ]
    }
   ],
   "source": [
    "cnx = mysql.connector.connect(user='root', password='AlumnaAdalab',\n",
    "                              host='127.0.0.1', database='bho')\n",
    "\n",
    "\n",
    "mycursor = cnx.cursor()\n",
    "query = \"INSERT INTO api (genero, tipo, nombre_peli_api, año_api, mes_api, codigo_imbd) VALUES (%s, %s, %s, %s, %s, %s)\"\n",
    "val = lista_definitiva\n",
    "\n",
    "try: \n",
    "    mycursor.executemany(query, val)\n",
    "    cnx.commit()\n",
    "    print(mycursor.rowcount, \"registro/s insertado/s.\")\n",
    "\n",
    "except mysql.connector.Error as err:\n",
    "    print(err)\n",
    "    print(\"Error Code:\", err.errno)\n",
    "    print(\"SQLSTATE\", err.sqlstate)\n",
    "    print(\"Message\", err.msg)\n",
    "\n"
   ]
  },
  {
   "cell_type": "code",
   "execution_count": 3,
   "metadata": {},
   "outputs": [],
   "source": [
    "cnx = mysql.connector.connect(user='root', password='AlumnaAdalab',\n",
    "                              host='127.0.0.1', database='bho')\n",
    "\n",
    "cnx.close()"
   ]
  },
  {
   "cell_type": "code",
   "execution_count": 8,
   "metadata": {},
   "outputs": [],
   "source": [
    "lista_definitiva_2 = []\n",
    "for pelicula in lista_definitiva:\n",
    "    lista = list(pelicula)\n",
    "    if lista[0] == \"drama\":\n",
    "        lista.append(\"1\")\n",
    "        lista.append(\"0\")\n",
    "        lista.append(\"0\")\n",
    "    elif lista[0] == \"comedia\":\n",
    "        lista.append(\"0\")\n",
    "        lista.append(\"1\")\n",
    "        lista.append(\"0\")\n",
    "    elif lista[0] == \"accion\":\n",
    "        lista.append(\"0\")\n",
    "        lista.append(\"0\")\n",
    "        lista.append(\"1\")\n",
    "    tupla = tuple(lista)\n",
    "    lista_definitiva_2.append(tupla)"
   ]
  },
  {
   "cell_type": "code",
   "execution_count": 10,
   "metadata": {},
   "outputs": [
    {
     "data": {
      "text/plain": [
       "69414"
      ]
     },
     "execution_count": 10,
     "metadata": {},
     "output_type": "execute_result"
    }
   ],
   "source": [
    "len(lista_definitiva_2)"
   ]
  },
  {
   "cell_type": "code",
   "execution_count": 13,
   "metadata": {},
   "outputs": [
    {
     "data": {
      "text/html": [
       "<div>\n",
       "<style scoped>\n",
       "    .dataframe tbody tr th:only-of-type {\n",
       "        vertical-align: middle;\n",
       "    }\n",
       "\n",
       "    .dataframe tbody tr th {\n",
       "        vertical-align: top;\n",
       "    }\n",
       "\n",
       "    .dataframe thead th {\n",
       "        text-align: right;\n",
       "    }\n",
       "</style>\n",
       "<table border=\"1\" class=\"dataframe\">\n",
       "  <thead>\n",
       "    <tr style=\"text-align: right;\">\n",
       "      <th></th>\n",
       "      <th>0</th>\n",
       "      <th>1</th>\n",
       "      <th>2</th>\n",
       "      <th>3</th>\n",
       "      <th>4</th>\n",
       "      <th>5</th>\n",
       "      <th>6</th>\n",
       "      <th>7</th>\n",
       "      <th>8</th>\n",
       "    </tr>\n",
       "  </thead>\n",
       "  <tbody>\n",
       "    <tr>\n",
       "      <th>0</th>\n",
       "      <td>comedia</td>\n",
       "      <td>pelicula</td>\n",
       "      <td>This Wretched Life</td>\n",
       "      <td>2010.0</td>\n",
       "      <td>7.0</td>\n",
       "      <td>tt0331312</td>\n",
       "      <td>0</td>\n",
       "      <td>1</td>\n",
       "      <td>0</td>\n",
       "    </tr>\n",
       "    <tr>\n",
       "      <th>1</th>\n",
       "      <td>comedia</td>\n",
       "      <td>pelicula</td>\n",
       "      <td>Blind Sided</td>\n",
       "      <td>2010.0</td>\n",
       "      <td>0.0</td>\n",
       "      <td>tt0337882</td>\n",
       "      <td>0</td>\n",
       "      <td>1</td>\n",
       "      <td>0</td>\n",
       "    </tr>\n",
       "    <tr>\n",
       "      <th>2</th>\n",
       "      <td>comedia</td>\n",
       "      <td>pelicula</td>\n",
       "      <td>Anderson's Cross</td>\n",
       "      <td>2010.0</td>\n",
       "      <td>5.0</td>\n",
       "      <td>tt0393049</td>\n",
       "      <td>0</td>\n",
       "      <td>1</td>\n",
       "      <td>0</td>\n",
       "    </tr>\n",
       "    <tr>\n",
       "      <th>3</th>\n",
       "      <td>comedia</td>\n",
       "      <td>pelicula</td>\n",
       "      <td>Tangled</td>\n",
       "      <td>2010.0</td>\n",
       "      <td>12.0</td>\n",
       "      <td>tt0398286</td>\n",
       "      <td>0</td>\n",
       "      <td>1</td>\n",
       "      <td>0</td>\n",
       "    </tr>\n",
       "    <tr>\n",
       "      <th>4</th>\n",
       "      <td>comedia</td>\n",
       "      <td>pelicula</td>\n",
       "      <td>Venus &amp; Vegas</td>\n",
       "      <td>2010.0</td>\n",
       "      <td>11.0</td>\n",
       "      <td>tt0423474</td>\n",
       "      <td>0</td>\n",
       "      <td>1</td>\n",
       "      <td>0</td>\n",
       "    </tr>\n",
       "    <tr>\n",
       "      <th>...</th>\n",
       "      <td>...</td>\n",
       "      <td>...</td>\n",
       "      <td>...</td>\n",
       "      <td>...</td>\n",
       "      <td>...</td>\n",
       "      <td>...</td>\n",
       "      <td>...</td>\n",
       "      <td>...</td>\n",
       "      <td>...</td>\n",
       "    </tr>\n",
       "    <tr>\n",
       "      <th>69409</th>\n",
       "      <td>drama</td>\n",
       "      <td>corto</td>\n",
       "      <td>When in Rome</td>\n",
       "      <td>2009.0</td>\n",
       "      <td>2.0</td>\n",
       "      <td>tt1362332</td>\n",
       "      <td>1</td>\n",
       "      <td>0</td>\n",
       "      <td>0</td>\n",
       "    </tr>\n",
       "    <tr>\n",
       "      <th>69410</th>\n",
       "      <td>drama</td>\n",
       "      <td>corto</td>\n",
       "      <td>Perspective</td>\n",
       "      <td>2009.0</td>\n",
       "      <td>0.0</td>\n",
       "      <td>tt1362288</td>\n",
       "      <td>1</td>\n",
       "      <td>0</td>\n",
       "      <td>0</td>\n",
       "    </tr>\n",
       "    <tr>\n",
       "      <th>69411</th>\n",
       "      <td>drama</td>\n",
       "      <td>corto</td>\n",
       "      <td>Communion</td>\n",
       "      <td>2009.0</td>\n",
       "      <td>NaN</td>\n",
       "      <td>tt1362385</td>\n",
       "      <td>1</td>\n",
       "      <td>0</td>\n",
       "      <td>0</td>\n",
       "    </tr>\n",
       "    <tr>\n",
       "      <th>69412</th>\n",
       "      <td>drama</td>\n",
       "      <td>corto</td>\n",
       "      <td>Closure</td>\n",
       "      <td>2009.0</td>\n",
       "      <td>6.0</td>\n",
       "      <td>tt1362383</td>\n",
       "      <td>1</td>\n",
       "      <td>0</td>\n",
       "      <td>0</td>\n",
       "    </tr>\n",
       "    <tr>\n",
       "      <th>69413</th>\n",
       "      <td>drama</td>\n",
       "      <td>corto</td>\n",
       "      <td>A Second Chance</td>\n",
       "      <td>2009.0</td>\n",
       "      <td>4.0</td>\n",
       "      <td>tt1362306</td>\n",
       "      <td>1</td>\n",
       "      <td>0</td>\n",
       "      <td>0</td>\n",
       "    </tr>\n",
       "  </tbody>\n",
       "</table>\n",
       "<p>69414 rows × 9 columns</p>\n",
       "</div>"
      ],
      "text/plain": [
       "             0         1                   2       3     4          5  6  7  8\n",
       "0      comedia  pelicula  This Wretched Life  2010.0   7.0  tt0331312  0  1  0\n",
       "1      comedia  pelicula         Blind Sided  2010.0   0.0  tt0337882  0  1  0\n",
       "2      comedia  pelicula    Anderson's Cross  2010.0   5.0  tt0393049  0  1  0\n",
       "3      comedia  pelicula             Tangled  2010.0  12.0  tt0398286  0  1  0\n",
       "4      comedia  pelicula       Venus & Vegas  2010.0  11.0  tt0423474  0  1  0\n",
       "...        ...       ...                 ...     ...   ...        ... .. .. ..\n",
       "69409    drama     corto        When in Rome  2009.0   2.0  tt1362332  1  0  0\n",
       "69410    drama     corto         Perspective  2009.0   0.0  tt1362288  1  0  0\n",
       "69411    drama     corto           Communion  2009.0   NaN  tt1362385  1  0  0\n",
       "69412    drama     corto             Closure  2009.0   6.0  tt1362383  1  0  0\n",
       "69413    drama     corto     A Second Chance  2009.0   4.0  tt1362306  1  0  0\n",
       "\n",
       "[69414 rows x 9 columns]"
      ]
     },
     "execution_count": 13,
     "metadata": {},
     "output_type": "execute_result"
    }
   ],
   "source": [
    "#convertimos la lista a dataframe\n",
    "df_api = pd.DataFrame(lista_definitiva_2)\n",
    "\n",
    "df_api"
   ]
  },
  {
   "cell_type": "code",
   "execution_count": 14,
   "metadata": {},
   "outputs": [],
   "source": [
    "#convertimos el dataframe a csv\n",
    "df_api.to_csv(\"api_total_genero_separado.csv\")"
   ]
  },
  {
   "cell_type": "code",
   "execution_count": 15,
   "metadata": {},
   "outputs": [
    {
     "name": "stdout",
     "output_type": "stream",
     "text": [
      "Conexion establecida\n"
     ]
    }
   ],
   "source": [
    "try:\n",
    "  cnx = mysql.connector.connect(user='root', password='AlumnaAdalab',\n",
    "                              host='127.0.0.1')\n",
    "  print(\"Conexion establecida\")\n",
    "\n",
    "except mysql.connector.Error as err:\n",
    "\n",
    "  if err.errno == errorcode.ER_ACCESS_DENIED_ERROR:\n",
    "    print(\"Something is wrong with your user name or password\")\n",
    "  \n",
    "  elif err.errno == errorcode.ER_BAD_DB_ERROR:\n",
    "    print(\"Database does not exist\")\n",
    "  \n",
    "  else:\n",
    "    print(err)"
   ]
  },
  {
   "cell_type": "code",
   "execution_count": 20,
   "metadata": {},
   "outputs": [],
   "source": [
    "cnx = mysql.connector.connect(user='root', password='AlumnaAdalab',\n",
    "                              host='127.0.0.1', database='bho')\n",
    "\n",
    "\n",
    "mycursor = cnx.cursor()\n",
    "query = \"CREATE TABLE intermedia (genero ENUM ('comedia', 'drama', 'accion'), tipo ENUM ('pelicula', 'corto'), nombre_peli_api VARCHAR (200), año_api YEAR, mes_api INT, codigo_imbd VARCHAR(10), drama INT, comedia INT, accion INT)\"\n",
    "\n",
    "\n",
    "try: \n",
    "    mycursor.execute(query)\n",
    "    # cnx.commit()\n",
    "\n",
    "except mysql.connector.Error as err:\n",
    "    print(err)\n",
    "    print(\"Error Code:\", err.errno)\n",
    "    print(\"SQLSTATE\", err.sqlstate)\n",
    "    print(\"Message\", err.msg)"
   ]
  },
  {
   "cell_type": "code",
   "execution_count": 21,
   "metadata": {},
   "outputs": [
    {
     "name": "stdout",
     "output_type": "stream",
     "text": [
      "69414 registro/s insertado/s.\n"
     ]
    }
   ],
   "source": [
    "cnx = mysql.connector.connect(user='root', password='AlumnaAdalab',\n",
    "                              host='127.0.0.1', database='bho')\n",
    "\n",
    "\n",
    "mycursor = cnx.cursor()\n",
    "query = \"INSERT INTO intermedia (genero, tipo, nombre_peli_api, año_api, mes_api, codigo_imbd, drama, comedia, accion) VALUES (%s, %s, %s, %s, %s, %s, %s, %s, %s)\"\n",
    "val = lista_definitiva_2\n",
    "\n",
    "try: \n",
    "    mycursor.executemany(query, val)\n",
    "    cnx.commit()\n",
    "    print(mycursor.rowcount, \"registro/s insertado/s.\")\n",
    "\n",
    "except mysql.connector.Error as err:\n",
    "    print(err)\n",
    "    print(\"Error Code:\", err.errno)\n",
    "    print(\"SQLSTATE\", err.sqlstate)\n",
    "    print(\"Message\", err.msg)"
   ]
  }
 ],
 "metadata": {
  "kernelspec": {
   "display_name": "Python 3",
   "language": "python",
   "name": "python3"
  },
  "language_info": {
   "codemirror_mode": {
    "name": "ipython",
    "version": 3
   },
   "file_extension": ".py",
   "mimetype": "text/x-python",
   "name": "python",
   "nbconvert_exporter": "python",
   "pygments_lexer": "ipython3",
   "version": "3.11.8"
  }
 },
 "nbformat": 4,
 "nbformat_minor": 2
}
