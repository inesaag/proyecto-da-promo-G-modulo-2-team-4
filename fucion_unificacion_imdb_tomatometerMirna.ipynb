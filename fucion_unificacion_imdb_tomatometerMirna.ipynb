{
 "cells": [
  {
   "cell_type": "code",
   "execution_count": 2,
   "metadata": {},
   "outputs": [],
   "source": [
    "# Importar librerías para tratamiento de datos\n",
    "# -----------------------------------------------------------------------\n",
    "import pandas as pd  # Pandas es una poderosa librería para manipulación y análisis de datos en Python.\n",
    "\n",
    "# Importar librerías para web scraping y manipulación de datos\n",
    "# -----------------------------------------------------------------------\n",
    "# from bs4 import BeautifulSoup\n",
    "import requests\n",
    "\n",
    "# Importar librerías para automatización de navegadores web con Selenium\n",
    "# -----------------------------------------------------------------------\n",
    "from selenium import webdriver  # Selenium es una herramienta para automatizar la interacción con navegadores web.\n",
    "from webdriver_manager.chrome import ChromeDriverManager  # ChromeDriverManager gestiona la instalación del controlador de Chrome.\n",
    "from selenium.webdriver.common.keys import Keys  # Keys es útil para simular eventos de teclado en Selenium.\n",
    "from selenium.webdriver.support.ui import Select  # Select se utiliza para interactuar con elementos <select> en páginas web.\n",
    "\n",
    "# Importar librerías para pausar la ejecución\n",
    "# -----------------------------------------------------------------------\n",
    "from time import sleep  # Sleep se utiliza para pausar la ejecución del programa por un número de segundos.\n",
    "\n",
    "# Configuraciones\n",
    "# -----------------------------------------------------------------------\n",
    "pd.set_option('display.max_columns', None)  # Establece una opción de Pandas para mostrar todas las columnas de un DataFrame.\n",
    "\n",
    "import numpy as np\n",
    "\n",
    "import re\n",
    "import random"
   ]
  },
  {
   "cell_type": "code",
   "execution_count": 5,
   "metadata": {},
   "outputs": [],
   "source": [
    "df_action = pd.read_csv(\"action.csv\", index_col = 0)\n",
    "df_imdb = pd.read_csv(\"action_1000_pelis.csv\", index_col = 0)\n",
    "df_tomatoes = pd.read_csv(\"action_1001_tomatoes.csv\", index_col = 0)"
   ]
  },
  {
   "cell_type": "markdown",
   "metadata": {},
   "source": [
    "convertimos tanto el dataframe de los datos de la API como el de IMDB como el de Rotten tomatoes a lista"
   ]
  },
  {
   "cell_type": "code",
   "execution_count": 6,
   "metadata": {},
   "outputs": [],
   "source": [
    "primeras_action_1000_df = df_action.values.tolist()[0:1001]"
   ]
  },
  {
   "cell_type": "code",
   "execution_count": 7,
   "metadata": {},
   "outputs": [],
   "source": [
    "primeras_1000_action_imdb = df_imdb.values.tolist()"
   ]
  },
  {
   "cell_type": "code",
   "execution_count": 8,
   "metadata": {},
   "outputs": [],
   "source": [
    "primeras_1000_action_tomatoes = df_tomatoes.values.tolist()"
   ]
  },
  {
   "cell_type": "code",
   "execution_count": 12,
   "metadata": {},
   "outputs": [
    {
     "data": {
      "text/plain": [
       "[1000, 'Movie', 'Aap Mujhe Achche Lagne Lage', 2002.0, 4.0, 'tt0247911']"
      ]
     },
     "execution_count": 12,
     "metadata": {},
     "output_type": "execute_result"
    }
   ],
   "source": [
    "primeras_action_1000_df[-1]"
   ]
  },
  {
   "cell_type": "code",
   "execution_count": 13,
   "metadata": {},
   "outputs": [
    {
     "data": {
      "text/plain": [
       "['3.1',\n",
       " 'Vikram Bhatt',\n",
       " 'Robin Bhatt, Girish Dhamija, Sanjeev Duggal',\n",
       " 'The daughter of a rich criminal industrial tycoon falls in love with a college boy. The tycoon, what a surprise, objects...',\n",
       " '180',\n",
       " 'Aap Mujhe Achche Lagne Lage']"
      ]
     },
     "execution_count": 13,
     "metadata": {},
     "output_type": "execute_result"
    }
   ],
   "source": [
    "primeras_1000_action_imdb[-1]"
   ]
  },
  {
   "cell_type": "code",
   "execution_count": 14,
   "metadata": {},
   "outputs": [
    {
     "data": {
      "text/plain": [
       "['No tiene datos']"
      ]
     },
     "execution_count": 14,
     "metadata": {},
     "output_type": "execute_result"
    }
   ],
   "source": [
    "primeras_1000_action_tomatoes[-1]"
   ]
  },
  {
   "cell_type": "code",
   "execution_count": 15,
   "metadata": {},
   "outputs": [],
   "source": [
    "# Incluir puntuacion tomatoes en la tupla de imdb\n",
    "def fase2_unificada (lista_imdb, lista_tomatoes, lista_df):\n",
    "\n",
    "    lista_final_fase2 = []\n",
    "\n",
    "    for indice, tupla in enumerate(lista_imdb):\n",
    "        lista_incluir_tomatometer = list(tupla)\n",
    "        lista_incluir_tomatometer.append(lista_df[indice][5]) ## incluimos codigo imdb por si hace falta para cruzar en la BBDD\n",
    "        lista_incluir_tomatometer.insert(1, lista_tomatoes[indice])\n",
    "        tupla_completa = tuple(lista_incluir_tomatometer)\n",
    "        lista_final_fase2.append(tupla_completa)\n",
    "        \n",
    "\n",
    "    return lista_final_fase2"
   ]
  },
  {
   "cell_type": "code",
   "execution_count": 17,
   "metadata": {},
   "outputs": [],
   "source": [
    "#llamamos a la funcion y le damos las listas anteriores\n",
    "\n",
    "primeras_1000_action_todo = fase2_unificada(primeras_1000_action_imdb,primeras_1000_action_tomatoes,primeras_action_1000_df )"
   ]
  },
  {
   "cell_type": "code",
   "execution_count": 18,
   "metadata": {},
   "outputs": [
    {
     "data": {
      "text/plain": [
       "('6.6',\n",
       " ['68'],\n",
       " 'Jonathan Mostow',\n",
       " 'Jonathan Mostow, Sam Montgomery, David Ayer',\n",
       " 'Un submarino alemán es abordado por submarinistas americanos disfrazados que intentan capturar su máquina de cifrado Enigma.',\n",
       " '116',\n",
       " 'U-571',\n",
       " 'tt0141926')"
      ]
     },
     "execution_count": 18,
     "metadata": {},
     "output_type": "execute_result"
    }
   ],
   "source": [
    "primeras_1000_action_todo[0]"
   ]
  },
  {
   "cell_type": "code",
   "execution_count": 19,
   "metadata": {},
   "outputs": [],
   "source": [
    "#SI LA PÙNTUACION DE ROTTEN TOMATOES ESTA DENTRO DE UNA LISTA HAZ ESTO\n",
    "primeras_1000_action_todo_definitiva = []\n",
    "for peli in primeras_1000_action_todo:\n",
    "    lista = list(peli)\n",
    "    lista[1]= lista[1][0]\n",
    "    tupla = tuple(lista)\n",
    "    primeras_1000_action_todo_definitiva.append(tupla)"
   ]
  },
  {
   "cell_type": "code",
   "execution_count": null,
   "metadata": {},
   "outputs": [],
   "source": [
    "#el encabezado para el dataframe\n",
    "#encabezado = [\"Puntuacion IMDB\", \"Puntuacion Rotten Tomatoes\", \"Direccion\", \"Guionistas\", \"Argumento\", \"Duracion\", \"Nombre\" \"Codigo IMDB\"]"
   ]
  },
  {
   "cell_type": "code",
   "execution_count": 20,
   "metadata": {},
   "outputs": [
    {
     "data": {
      "text/html": [
       "<div>\n",
       "<style scoped>\n",
       "    .dataframe tbody tr th:only-of-type {\n",
       "        vertical-align: middle;\n",
       "    }\n",
       "\n",
       "    .dataframe tbody tr th {\n",
       "        vertical-align: top;\n",
       "    }\n",
       "\n",
       "    .dataframe thead th {\n",
       "        text-align: right;\n",
       "    }\n",
       "</style>\n",
       "<table border=\"1\" class=\"dataframe\">\n",
       "  <thead>\n",
       "    <tr style=\"text-align: right;\">\n",
       "      <th></th>\n",
       "      <th>0</th>\n",
       "      <th>1</th>\n",
       "      <th>2</th>\n",
       "      <th>3</th>\n",
       "      <th>4</th>\n",
       "      <th>5</th>\n",
       "      <th>6</th>\n",
       "      <th>7</th>\n",
       "    </tr>\n",
       "  </thead>\n",
       "  <tbody>\n",
       "    <tr>\n",
       "      <th>0</th>\n",
       "      <td>6.6</td>\n",
       "      <td>68</td>\n",
       "      <td>Jonathan Mostow</td>\n",
       "      <td>Jonathan Mostow, Sam Montgomery, David Ayer</td>\n",
       "      <td>Un submarino alemán es abordado por submarinis...</td>\n",
       "      <td>116</td>\n",
       "      <td>U-571</td>\n",
       "      <td>tt0141926</td>\n",
       "    </tr>\n",
       "    <tr>\n",
       "      <th>1</th>\n",
       "      <td>4.1</td>\n",
       "      <td>No tiene datos</td>\n",
       "      <td>Lorenzo Doumani</td>\n",
       "      <td>Lorenzo Doumani</td>\n",
       "      <td>Inspired by her father, a former boxer whose f...</td>\n",
       "      <td>99</td>\n",
       "      <td>K.O. Fuera de combate</td>\n",
       "      <td>tt0143344</td>\n",
       "    </tr>\n",
       "    <tr>\n",
       "      <th>2</th>\n",
       "      <td>4.6</td>\n",
       "      <td>No tiene datos</td>\n",
       "      <td>Douglas Aarniokoski</td>\n",
       "      <td>Gregory Widen</td>\n",
       "      <td>Los inmortales Connor y Duncan MacLeod deben u...</td>\n",
       "      <td>87</td>\n",
       "      <td>Los inmortales: Juego final</td>\n",
       "      <td>tt0144964</td>\n",
       "    </tr>\n",
       "    <tr>\n",
       "      <th>3</th>\n",
       "      <td>4.5</td>\n",
       "      <td>No tiene datos</td>\n",
       "      <td>Alan Jacobs</td>\n",
       "      <td>Jeff Wolverton</td>\n",
       "      <td>The story of the legendary sailor who helps a ...</td>\n",
       "      <td>82</td>\n",
       "      <td>Simbad</td>\n",
       "      <td>tt0144608</td>\n",
       "    </tr>\n",
       "    <tr>\n",
       "      <th>4</th>\n",
       "      <td>4.1</td>\n",
       "      <td>50</td>\n",
       "      <td>Tom Putnam</td>\n",
       "      <td>Michael S. Harbour</td>\n",
       "      <td>Steven Byzinsky is convinced he's a blaxploita...</td>\n",
       "      <td>90</td>\n",
       "      <td>Shafted!</td>\n",
       "      <td>tt0147486</td>\n",
       "    </tr>\n",
       "    <tr>\n",
       "      <th>...</th>\n",
       "      <td>...</td>\n",
       "      <td>...</td>\n",
       "      <td>...</td>\n",
       "      <td>...</td>\n",
       "      <td>...</td>\n",
       "      <td>...</td>\n",
       "      <td>...</td>\n",
       "      <td>...</td>\n",
       "    </tr>\n",
       "    <tr>\n",
       "      <th>996</th>\n",
       "      <td>6.1</td>\n",
       "      <td>No tiene datos</td>\n",
       "      <td>Lee Tamahori</td>\n",
       "      <td>Ian Fleming</td>\n",
       "      <td>James Bond es enviado a investigar la conexión...</td>\n",
       "      <td>133</td>\n",
       "      <td>Muere otro día</td>\n",
       "      <td>tt0246460</td>\n",
       "    </tr>\n",
       "    <tr>\n",
       "      <th>997</th>\n",
       "      <td>5.1</td>\n",
       "      <td>21</td>\n",
       "      <td>Hank Whetstone</td>\n",
       "      <td>Hank Whetstone</td>\n",
       "      <td>What if a computer disc held a code so powerfu...</td>\n",
       "      <td>97</td>\n",
       "      <td>The Code Conspiracy</td>\n",
       "      <td>tt0247254</td>\n",
       "    </tr>\n",
       "    <tr>\n",
       "      <th>998</th>\n",
       "      <td>3.1</td>\n",
       "      <td>67</td>\n",
       "      <td>John McTiernan</td>\n",
       "      <td>William Harrison</td>\n",
       "      <td>En 2005 un deporte violento que puede tener co...</td>\n",
       "      <td>98</td>\n",
       "      <td>Rollerball</td>\n",
       "      <td>tt0246894</td>\n",
       "    </tr>\n",
       "    <tr>\n",
       "      <th>999</th>\n",
       "      <td>6.7</td>\n",
       "      <td>No tiene datos</td>\n",
       "      <td>Lasse Spang Olsen</td>\n",
       "      <td>Anders Thomas Jensen</td>\n",
       "      <td>Fresh out of a Danish prison, Harald bosses hi...</td>\n",
       "      <td>95</td>\n",
       "      <td>Gamle mænd i nye biler</td>\n",
       "      <td>tt0246692</td>\n",
       "    </tr>\n",
       "    <tr>\n",
       "      <th>1000</th>\n",
       "      <td>3.1</td>\n",
       "      <td>No tiene datos</td>\n",
       "      <td>Vikram Bhatt</td>\n",
       "      <td>Robin Bhatt, Girish Dhamija, Sanjeev Duggal</td>\n",
       "      <td>The daughter of a rich criminal industrial tyc...</td>\n",
       "      <td>180</td>\n",
       "      <td>Aap Mujhe Achche Lagne Lage</td>\n",
       "      <td>tt0247911</td>\n",
       "    </tr>\n",
       "  </tbody>\n",
       "</table>\n",
       "<p>1001 rows × 8 columns</p>\n",
       "</div>"
      ],
      "text/plain": [
       "        0               1                    2  \\\n",
       "0     6.6              68      Jonathan Mostow   \n",
       "1     4.1  No tiene datos      Lorenzo Doumani   \n",
       "2     4.6  No tiene datos  Douglas Aarniokoski   \n",
       "3     4.5  No tiene datos          Alan Jacobs   \n",
       "4     4.1              50           Tom Putnam   \n",
       "...   ...             ...                  ...   \n",
       "996   6.1  No tiene datos         Lee Tamahori   \n",
       "997   5.1              21       Hank Whetstone   \n",
       "998   3.1              67       John McTiernan   \n",
       "999   6.7  No tiene datos    Lasse Spang Olsen   \n",
       "1000  3.1  No tiene datos         Vikram Bhatt   \n",
       "\n",
       "                                                3  \\\n",
       "0     Jonathan Mostow, Sam Montgomery, David Ayer   \n",
       "1                                 Lorenzo Doumani   \n",
       "2                                   Gregory Widen   \n",
       "3                                  Jeff Wolverton   \n",
       "4                              Michael S. Harbour   \n",
       "...                                           ...   \n",
       "996                                   Ian Fleming   \n",
       "997                                Hank Whetstone   \n",
       "998                              William Harrison   \n",
       "999                          Anders Thomas Jensen   \n",
       "1000  Robin Bhatt, Girish Dhamija, Sanjeev Duggal   \n",
       "\n",
       "                                                      4    5  \\\n",
       "0     Un submarino alemán es abordado por submarinis...  116   \n",
       "1     Inspired by her father, a former boxer whose f...   99   \n",
       "2     Los inmortales Connor y Duncan MacLeod deben u...   87   \n",
       "3     The story of the legendary sailor who helps a ...   82   \n",
       "4     Steven Byzinsky is convinced he's a blaxploita...   90   \n",
       "...                                                 ...  ...   \n",
       "996   James Bond es enviado a investigar la conexión...  133   \n",
       "997   What if a computer disc held a code so powerfu...   97   \n",
       "998   En 2005 un deporte violento que puede tener co...   98   \n",
       "999   Fresh out of a Danish prison, Harald bosses hi...   95   \n",
       "1000  The daughter of a rich criminal industrial tyc...  180   \n",
       "\n",
       "                                6          7  \n",
       "0                           U-571  tt0141926  \n",
       "1           K.O. Fuera de combate  tt0143344  \n",
       "2     Los inmortales: Juego final  tt0144964  \n",
       "3                          Simbad  tt0144608  \n",
       "4                        Shafted!  tt0147486  \n",
       "...                           ...        ...  \n",
       "996                Muere otro día  tt0246460  \n",
       "997           The Code Conspiracy  tt0247254  \n",
       "998                    Rollerball  tt0246894  \n",
       "999        Gamle mænd i nye biler  tt0246692  \n",
       "1000  Aap Mujhe Achche Lagne Lage  tt0247911  \n",
       "\n",
       "[1001 rows x 8 columns]"
      ]
     },
     "execution_count": 20,
     "metadata": {},
     "output_type": "execute_result"
    }
   ],
   "source": [
    "#convertimos a dataframe\n",
    "df_action_primeras_1000_completo = pd.DataFrame(primeras_1000_action_todo_definitiva)\n",
    "\n",
    "df_action_primeras_1000_completo"
   ]
  },
  {
   "cell_type": "code",
   "execution_count": 21,
   "metadata": {},
   "outputs": [],
   "source": [
    "#convertimos a csv\n",
    "df_action_primeras_1000_completo.to_csv(\"primeras_1000_action_definitiva_pelis.csv\")"
   ]
  }
 ],
 "metadata": {
  "kernelspec": {
   "display_name": "Python 3",
   "language": "python",
   "name": "python3"
  },
  "language_info": {
   "codemirror_mode": {
    "name": "ipython",
    "version": 3
   },
   "file_extension": ".py",
   "mimetype": "text/x-python",
   "name": "python",
   "nbconvert_exporter": "python",
   "pygments_lexer": "ipython3",
   "version": "3.8.10"
  }
 },
 "nbformat": 4,
 "nbformat_minor": 2
}
