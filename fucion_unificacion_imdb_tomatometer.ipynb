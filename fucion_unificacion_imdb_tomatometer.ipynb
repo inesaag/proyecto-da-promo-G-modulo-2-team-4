{
 "cells": [
  {
   "cell_type": "code",
   "execution_count": 1,
   "metadata": {},
   "outputs": [],
   "source": [
    "# Importar librerías para tratamiento de datos\n",
    "# -----------------------------------------------------------------------\n",
    "import pandas as pd  # Pandas es una poderosa librería para manipulación y análisis de datos en Python.\n",
    "\n",
    "# Importar librerías para web scraping y manipulación de datos\n",
    "# -----------------------------------------------------------------------\n",
    "from bs4 import BeautifulSoup\n",
    "import requests\n",
    "\n",
    "# Importar librerías para automatización de navegadores web con Selenium\n",
    "# -----------------------------------------------------------------------\n",
    "from selenium import webdriver  # Selenium es una herramienta para automatizar la interacción con navegadores web.\n",
    "from webdriver_manager.chrome import ChromeDriverManager  # ChromeDriverManager gestiona la instalación del controlador de Chrome.\n",
    "from selenium.webdriver.common.keys import Keys  # Keys es útil para simular eventos de teclado en Selenium.\n",
    "from selenium.webdriver.support.ui import Select  # Select se utiliza para interactuar con elementos <select> en páginas web.\n",
    "\n",
    "# Importar librerías para pausar la ejecución\n",
    "# -----------------------------------------------------------------------\n",
    "from time import sleep  # Sleep se utiliza para pausar la ejecución del programa por un número de segundos.\n",
    "\n",
    "# Configuraciones\n",
    "# -----------------------------------------------------------------------\n",
    "pd.set_option('display.max_columns', None)  # Establece una opción de Pandas para mostrar todas las columnas de un DataFrame.\n",
    "\n",
    "import numpy as np\n",
    "\n",
    "import re\n",
    "import random"
   ]
  },
  {
   "cell_type": "code",
   "execution_count": 3,
   "metadata": {},
   "outputs": [],
   "source": [
    "df_drama = pd.read_csv(\"drama_no_duplicado.csv\", index_col = 0)\n",
    "df_imdb = pd.read_csv(\"primer_acto_imbd_drama.csv\", index_col = 0)\n",
    "df_tomatoes = pd.read_csv(\"drama_tomatoes_primeracto.csv\", index_col = 0)"
   ]
  },
  {
   "cell_type": "markdown",
   "metadata": {},
   "source": [
    "convertimos tanto el dataframe de los datos de la API como el de IMDB como el de Rotten tomatoes a lista"
   ]
  },
  {
   "cell_type": "code",
   "execution_count": 10,
   "metadata": {},
   "outputs": [],
   "source": [
    "primeracto_drama_df = df_drama.values.tolist()[8000:10001]"
   ]
  },
  {
   "cell_type": "code",
   "execution_count": 20,
   "metadata": {},
   "outputs": [
    {
     "data": {
      "text/plain": [
       "['Movie', 'Ma quando arrivano le ragazze?', 2005.0, 2.0, 'tt0417930']"
      ]
     },
     "execution_count": 20,
     "metadata": {},
     "output_type": "execute_result"
    }
   ],
   "source": [
    "primeracto_drama_df[-2]"
   ]
  },
  {
   "cell_type": "code",
   "execution_count": 12,
   "metadata": {},
   "outputs": [],
   "source": [
    "primeracto_drama_imdb = df_imdb.values.tolist()"
   ]
  },
  {
   "cell_type": "code",
   "execution_count": 21,
   "metadata": {},
   "outputs": [
    {
     "data": {
      "text/plain": [
       "['6.4',\n",
       " 'Pupi Avati',\n",
       " 'Pupi Avati',\n",
       " \"The movie is about the story of two musicians: Gianca, who plays the saxophone in a desperate attempt to follow his father's footsteps, and Nick, a trumpeter in love with Clifford Brown. They decide to create a band, and Gianca helps Nick in order to exploit his talent. Until Nick proves himself better than his friend.\",\n",
       " '106',\n",
       " 'Ma quando arrivano le ragazze?']"
      ]
     },
     "execution_count": 21,
     "metadata": {},
     "output_type": "execute_result"
    }
   ],
   "source": [
    "primeracto_drama_imdb[-2]"
   ]
  },
  {
   "cell_type": "code",
   "execution_count": 14,
   "metadata": {},
   "outputs": [],
   "source": [
    "primeracto_drama_tomatoes = df_tomatoes.values.tolist()"
   ]
  },
  {
   "cell_type": "code",
   "execution_count": 22,
   "metadata": {},
   "outputs": [
    {
     "data": {
      "text/plain": [
       "['65']"
      ]
     },
     "execution_count": 22,
     "metadata": {},
     "output_type": "execute_result"
    }
   ],
   "source": [
    "primeracto_drama_tomatoes[-2]"
   ]
  },
  {
   "cell_type": "code",
   "execution_count": 25,
   "metadata": {},
   "outputs": [],
   "source": [
    "# Incluir puntuacion tomatoes en la tupla de imdb\n",
    "def fase2_unificada (lista_imdb, lista_tomatoes, lista_df):\n",
    "\n",
    "    lista_final_fase2 = []\n",
    "\n",
    "    for indice, tupla in enumerate(lista_imdb):\n",
    "        lista_incluir_tomatometer = list(tupla)\n",
    "        lista_incluir_tomatometer.append(lista_df[indice][4]) ## incluimos codigo imdb por si hace falta para cruzar en la BBDD\n",
    "        lista_incluir_tomatometer.insert(1, lista_tomatoes[indice])\n",
    "        tupla_completa = tuple(lista_incluir_tomatometer)\n",
    "        lista_final_fase2.append(tupla_completa)\n",
    "        \n",
    "\n",
    "    return lista_final_fase2"
   ]
  },
  {
   "cell_type": "code",
   "execution_count": 26,
   "metadata": {},
   "outputs": [],
   "source": [
    "#llamamos a la funcion y le damos las listas anteriores\n",
    "primeracto_drama_todo = fase2_unificada(primeracto_drama_imdb, primeracto_drama_tomatoes, primeracto_drama_df)"
   ]
  },
  {
   "cell_type": "code",
   "execution_count": 27,
   "metadata": {},
   "outputs": [
    {
     "data": {
      "text/plain": [
       "('5.6',\n",
       " ['No tiene datos'],\n",
       " 'Menahem Golan',\n",
       " 'Fyodor Dostoevsky',\n",
       " \"A modern day adaptation of Dostoyevsky's classic novel about a young student who is forever haunted by the murder he has committed.\",\n",
       " '126',\n",
       " 'Crimen y castigo',\n",
       " 'tt0096056')"
      ]
     },
     "execution_count": 27,
     "metadata": {},
     "output_type": "execute_result"
    }
   ],
   "source": [
    "primeracto_drama_todo[0]"
   ]
  },
  {
   "cell_type": "code",
   "execution_count": 29,
   "metadata": {},
   "outputs": [],
   "source": [
    "#SI LA PÙNTUACION DE ROTTEN TOMATOES ESTA DENTRO DE UNA LISTA HAZ ESTO\n",
    "primeracto_drama_todo_definitiva = []\n",
    "for peli in primeracto_drama_todo:\n",
    "    lista = list(peli)\n",
    "    lista[1]= lista[1][0]\n",
    "    tupla = tuple(lista)\n",
    "    primeracto_drama_todo_definitiva.append(tupla)"
   ]
  },
  {
   "cell_type": "code",
   "execution_count": null,
   "metadata": {},
   "outputs": [],
   "source": [
    "#el encabezado para el dataframe\n",
    "#encabezado = [\"Puntuacion IMDB\", \"Puntuacion Rotten Tomatoes\", \"Direccion\", \"Guionistas\", \"Argumento\", \"Duracion\", \"Nombre\" \"Codigo IMDB\"]"
   ]
  },
  {
   "cell_type": "code",
   "execution_count": 30,
   "metadata": {},
   "outputs": [
    {
     "data": {
      "text/html": [
       "<div>\n",
       "<style scoped>\n",
       "    .dataframe tbody tr th:only-of-type {\n",
       "        vertical-align: middle;\n",
       "    }\n",
       "\n",
       "    .dataframe tbody tr th {\n",
       "        vertical-align: top;\n",
       "    }\n",
       "\n",
       "    .dataframe thead th {\n",
       "        text-align: right;\n",
       "    }\n",
       "</style>\n",
       "<table border=\"1\" class=\"dataframe\">\n",
       "  <thead>\n",
       "    <tr style=\"text-align: right;\">\n",
       "      <th></th>\n",
       "      <th>0</th>\n",
       "      <th>1</th>\n",
       "      <th>2</th>\n",
       "      <th>3</th>\n",
       "      <th>4</th>\n",
       "      <th>5</th>\n",
       "      <th>6</th>\n",
       "      <th>7</th>\n",
       "    </tr>\n",
       "  </thead>\n",
       "  <tbody>\n",
       "    <tr>\n",
       "      <th>0</th>\n",
       "      <td>5.6</td>\n",
       "      <td>No tiene datos</td>\n",
       "      <td>Menahem Golan</td>\n",
       "      <td>Fyodor Dostoevsky</td>\n",
       "      <td>A modern day adaptation of Dostoyevsky's class...</td>\n",
       "      <td>126</td>\n",
       "      <td>Crimen y castigo</td>\n",
       "      <td>tt0096056</td>\n",
       "    </tr>\n",
       "    <tr>\n",
       "      <th>1</th>\n",
       "      <td>6.8</td>\n",
       "      <td>No tiene datos</td>\n",
       "      <td>John Malkovich</td>\n",
       "      <td>Nicholas Shakespeare</td>\n",
       "      <td>Un detective de la policía de un país sudameri...</td>\n",
       "      <td>132</td>\n",
       "      <td>Pasos de baile</td>\n",
       "      <td>tt0118926</td>\n",
       "    </tr>\n",
       "    <tr>\n",
       "      <th>2</th>\n",
       "      <td>6.5</td>\n",
       "      <td>No tiene datos</td>\n",
       "      <td>Jeffrey Delman</td>\n",
       "      <td>Jeffrey Delman, D.H. Morgan, Cynthia Cohen</td>\n",
       "      <td>The seamy side of Los Angeles is revealed thro...</td>\n",
       "      <td>91</td>\n",
       "      <td>Random Shooting in L.A.</td>\n",
       "      <td>tt0119980</td>\n",
       "    </tr>\n",
       "    <tr>\n",
       "      <th>3</th>\n",
       "      <td>7.3</td>\n",
       "      <td>76</td>\n",
       "      <td>Julie Taymor</td>\n",
       "      <td>Hayden Herrera</td>\n",
       "      <td>Una biografía de la artista Frida Kahlo, que c...</td>\n",
       "      <td>123</td>\n",
       "      <td>Frida</td>\n",
       "      <td>tt0120679</td>\n",
       "    </tr>\n",
       "    <tr>\n",
       "      <th>4</th>\n",
       "      <td>5.0</td>\n",
       "      <td>No tiene datos</td>\n",
       "      <td>Shaji Kailas</td>\n",
       "      <td>B. Unnikrishnan</td>\n",
       "      <td>Bhadran, an efficient police officer, fights a...</td>\n",
       "      <td>No tiene datos</td>\n",
       "      <td>Shivam</td>\n",
       "      <td>tt0130255</td>\n",
       "    </tr>\n",
       "    <tr>\n",
       "      <th>...</th>\n",
       "      <td>...</td>\n",
       "      <td>...</td>\n",
       "      <td>...</td>\n",
       "      <td>...</td>\n",
       "      <td>...</td>\n",
       "      <td>...</td>\n",
       "      <td>...</td>\n",
       "      <td>...</td>\n",
       "    </tr>\n",
       "    <tr>\n",
       "      <th>1996</th>\n",
       "      <td>No tiene datos</td>\n",
       "      <td>No tiene datos</td>\n",
       "      <td>Charles Evans</td>\n",
       "      <td>Joanne Davis, Charles Evans, Robert Lewis</td>\n",
       "      <td>Van, an artist lost in grief after the death o...</td>\n",
       "      <td>No tiene datos</td>\n",
       "      <td>Portrait of Eve</td>\n",
       "      <td>tt0420085</td>\n",
       "    </tr>\n",
       "    <tr>\n",
       "      <th>1997</th>\n",
       "      <td>4.8</td>\n",
       "      <td>No tiene datos</td>\n",
       "      <td>Luis Molina Casanova</td>\n",
       "      <td>Luis R. González Argüeso, Adolfo Busó Steffens</td>\n",
       "      <td>A handful of immigrants make a bittersweet pil...</td>\n",
       "      <td>100</td>\n",
       "      <td>El sueño del regreso</td>\n",
       "      <td>tt0420941</td>\n",
       "    </tr>\n",
       "    <tr>\n",
       "      <th>1998</th>\n",
       "      <td>7.1</td>\n",
       "      <td>No tiene datos</td>\n",
       "      <td>Fabián Bielinsky</td>\n",
       "      <td>Fabián Bielinsky</td>\n",
       "      <td>Un ingenio taxidermista planifica el crimen pe...</td>\n",
       "      <td>134</td>\n",
       "      <td>El aura</td>\n",
       "      <td>tt0420509</td>\n",
       "    </tr>\n",
       "    <tr>\n",
       "      <th>1999</th>\n",
       "      <td>6.4</td>\n",
       "      <td>65</td>\n",
       "      <td>Pupi Avati</td>\n",
       "      <td>Pupi Avati</td>\n",
       "      <td>The movie is about the story of two musicians:...</td>\n",
       "      <td>106</td>\n",
       "      <td>Ma quando arrivano le ragazze?</td>\n",
       "      <td>tt0417930</td>\n",
       "    </tr>\n",
       "    <tr>\n",
       "      <th>2000</th>\n",
       "      <td>6.4</td>\n",
       "      <td>No tiene datos</td>\n",
       "      <td>Yuriy Kara</td>\n",
       "      <td>Mikhail A. Bulgakov, Yuriy Kara</td>\n",
       "      <td>Interwoven are a satire of the 1930's under St...</td>\n",
       "      <td>125</td>\n",
       "      <td>Master i Margarita</td>\n",
       "      <td>tt0110476</td>\n",
       "    </tr>\n",
       "  </tbody>\n",
       "</table>\n",
       "<p>2001 rows × 8 columns</p>\n",
       "</div>"
      ],
      "text/plain": [
       "                   0               1                     2  \\\n",
       "0                5.6  No tiene datos         Menahem Golan   \n",
       "1                6.8  No tiene datos        John Malkovich   \n",
       "2                6.5  No tiene datos        Jeffrey Delman   \n",
       "3                7.3              76          Julie Taymor   \n",
       "4                5.0  No tiene datos          Shaji Kailas   \n",
       "...              ...             ...                   ...   \n",
       "1996  No tiene datos  No tiene datos         Charles Evans   \n",
       "1997             4.8  No tiene datos  Luis Molina Casanova   \n",
       "1998             7.1  No tiene datos      Fabián Bielinsky   \n",
       "1999             6.4              65            Pupi Avati   \n",
       "2000             6.4  No tiene datos            Yuriy Kara   \n",
       "\n",
       "                                                   3  \\\n",
       "0                                  Fyodor Dostoevsky   \n",
       "1                               Nicholas Shakespeare   \n",
       "2         Jeffrey Delman, D.H. Morgan, Cynthia Cohen   \n",
       "3                                     Hayden Herrera   \n",
       "4                                    B. Unnikrishnan   \n",
       "...                                              ...   \n",
       "1996       Joanne Davis, Charles Evans, Robert Lewis   \n",
       "1997  Luis R. González Argüeso, Adolfo Busó Steffens   \n",
       "1998                                Fabián Bielinsky   \n",
       "1999                                      Pupi Avati   \n",
       "2000                 Mikhail A. Bulgakov, Yuriy Kara   \n",
       "\n",
       "                                                      4               5  \\\n",
       "0     A modern day adaptation of Dostoyevsky's class...             126   \n",
       "1     Un detective de la policía de un país sudameri...             132   \n",
       "2     The seamy side of Los Angeles is revealed thro...              91   \n",
       "3     Una biografía de la artista Frida Kahlo, que c...             123   \n",
       "4     Bhadran, an efficient police officer, fights a...  No tiene datos   \n",
       "...                                                 ...             ...   \n",
       "1996  Van, an artist lost in grief after the death o...  No tiene datos   \n",
       "1997  A handful of immigrants make a bittersweet pil...             100   \n",
       "1998  Un ingenio taxidermista planifica el crimen pe...             134   \n",
       "1999  The movie is about the story of two musicians:...             106   \n",
       "2000  Interwoven are a satire of the 1930's under St...             125   \n",
       "\n",
       "                                   6          7  \n",
       "0                   Crimen y castigo  tt0096056  \n",
       "1                     Pasos de baile  tt0118926  \n",
       "2            Random Shooting in L.A.  tt0119980  \n",
       "3                              Frida  tt0120679  \n",
       "4                             Shivam  tt0130255  \n",
       "...                              ...        ...  \n",
       "1996                 Portrait of Eve  tt0420085  \n",
       "1997            El sueño del regreso  tt0420941  \n",
       "1998                         El aura  tt0420509  \n",
       "1999  Ma quando arrivano le ragazze?  tt0417930  \n",
       "2000              Master i Margarita  tt0110476  \n",
       "\n",
       "[2001 rows x 8 columns]"
      ]
     },
     "execution_count": 30,
     "metadata": {},
     "output_type": "execute_result"
    }
   ],
   "source": [
    "#convertimos a dataframe\n",
    "df_drama_primeracto_completo = pd.DataFrame(primeracto_drama_todo_definitiva)\n",
    "\n",
    "df_drama_primeracto_completo"
   ]
  },
  {
   "cell_type": "code",
   "execution_count": 11,
   "metadata": {},
   "outputs": [],
   "source": [
    "#convertimos a csv\n",
    "df_drama_primeracto_completo.to_csv(\"drama_primeracto_imbd_tomtatoes_definitiva.csv\")"
   ]
  }
 ],
 "metadata": {
  "kernelspec": {
   "display_name": "Python 3",
   "language": "python",
   "name": "python3"
  },
  "language_info": {
   "codemirror_mode": {
    "name": "ipython",
    "version": 3
   },
   "file_extension": ".py",
   "mimetype": "text/x-python",
   "name": "python",
   "nbconvert_exporter": "python",
   "pygments_lexer": "ipython3",
   "version": "3.11.8"
  }
 },
 "nbformat": 4,
 "nbformat_minor": 2
}
