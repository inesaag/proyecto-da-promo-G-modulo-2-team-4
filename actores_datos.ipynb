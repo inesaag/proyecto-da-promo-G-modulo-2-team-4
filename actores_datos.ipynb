{
 "cells": [
  {
   "cell_type": "code",
   "execution_count": 1,
   "metadata": {},
   "outputs": [],
   "source": [
    "# Importar librerías para tratamiento de datos\n",
    "# -----------------------------------------------------------------------\n",
    "import pandas as pd  # Pandas es una poderosa librería para manipulación y análisis de datos en Python.\n",
    "\n",
    "# Importar librerías para web scraping y manipulación de datos\n",
    "# -----------------------------------------------------------------------\n",
    "from bs4 import BeautifulSoup\n",
    "import requests\n",
    "\n",
    "# Importar librerías para automatización de navegadores web con Selenium\n",
    "# -----------------------------------------------------------------------\n",
    "from selenium import webdriver  # Selenium es una herramienta para automatizar la interacción con navegadores web.\n",
    "from webdriver_manager.chrome import ChromeDriverManager  # ChromeDriverManager gestiona la instalación del controlador de Chrome.\n",
    "from selenium.webdriver.common.keys import Keys  # Keys es útil para simular eventos de teclado en Selenium.\n",
    "from selenium.webdriver.support.ui import Select  # Select se utiliza para interactuar con elementos <select> en páginas web.\n",
    "\n",
    "# Importar librerías para pausar la ejecución\n",
    "# -----------------------------------------------------------------------\n",
    "from time import sleep  # Sleep se utiliza para pausar la ejecución del programa por un número de segundos.\n",
    "\n",
    "# Configuraciones\n",
    "# -----------------------------------------------------------------------\n",
    "pd.set_option('display.max_columns', None)  # Establece una opción de Pandas para mostrar todas las columnas de un DataFrame.\n",
    "\n",
    "import numpy as np\n",
    "\n",
    "import re"
   ]
  },
  {
   "cell_type": "code",
   "execution_count": 2,
   "metadata": {},
   "outputs": [],
   "source": [
    "from selenium.webdriver.common.by import By\n",
    "from selenium.webdriver.support.ui import WebDriverWait\n",
    "from selenium.webdriver.support import expected_conditions as EC"
   ]
  },
  {
   "cell_type": "code",
   "execution_count": 3,
   "metadata": {},
   "outputs": [],
   "source": [
    "from selenium.webdriver.common.by import By"
   ]
  },
  {
   "cell_type": "code",
   "execution_count": null,
   "metadata": {},
   "outputs": [],
   "source": [
    "#Nombre.\n",
    "#Año nacimiento.\n",
    "#¿Por qué es conocido?\n",
    "#¿Qué hace?\n",
    "#Premios."
   ]
  },
  {
   "cell_type": "code",
   "execution_count": 9,
   "metadata": {},
   "outputs": [],
   "source": [
    "actores_pre = ['Jennifer Aniston', 'Antonio Banderas', 'Leonardo DiCaprio', 'Anne Hathaway']\n",
    "\n"
   ]
  },
  {
   "cell_type": "markdown",
   "metadata": {},
   "source": [
    "SELENIUM"
   ]
  },
  {
   "cell_type": "code",
   "execution_count": 8,
   "metadata": {},
   "outputs": [
    {
     "name": "stdout",
     "output_type": "stream",
     "text": [
      "hemos entrado en la página de wikipedia de Jennifer Aniston\n",
      "hemos entrado en la página de wikipedia de Antonio Banderas\n",
      "hemos entrado en la página de wikipedia de Leonardo DiCaprio\n",
      "hemos entrado en la página de wikipedia de Anne Hathaway\n"
     ]
    }
   ],
   "source": [
    "# Entramos en wikipedia\n",
    "\n",
    "driver = webdriver.Chrome() \n",
    "\n",
    "url = \"https://www.google.com/\" \n",
    "\n",
    "driver.get(url)  \n",
    "\n",
    "driver.maximize_window()\n",
    "\n",
    "sleep(1)\n",
    "\n",
    "driver.find_element(\"css selector\", \"#L2AGLb > div\").click() # Aceptar cookies\n",
    "\n",
    "sleep(1)\n",
    "for actor in actores_pre:\n",
    "\n",
    "    sleep(2)\n",
    "    driver.find_element(\"css selector\",\"#APjFqb\").clear()\n",
    "\n",
    "    driver.find_element(\"css selector\",\"#APjFqb\").send_keys(f\"'{actor}' wikipedia\", Keys.ENTER) #buscamos en google el nombre del actor y wikipedia\n",
    "        \n",
    "    sleep(1)\n",
    "\n",
    "    driver.find_element(\"css selector\", \"#rso > div.hlcw0c > div > div > div > div.kb0PBd.cvP2Ce.jGGQ5e > div > div > span > a > h3\").click() #pinchamos en el primer resultado\n",
    "\n",
    "\n",
    "\n",
    "    sleep(3)\n",
    "    print(f\"hemos entrado en la página de wikipedia de {actor}\")\n",
    "\n",
    "    driver.back()"
   ]
  },
  {
   "cell_type": "markdown",
   "metadata": {},
   "source": [
    "BEAUTIFUL SOUP"
   ]
  },
  {
   "cell_type": "code",
   "execution_count": 17,
   "metadata": {},
   "outputs": [],
   "source": [
    "actores= []"
   ]
  },
  {
   "cell_type": "code",
   "execution_count": 18,
   "metadata": {},
   "outputs": [],
   "source": [
    "for actor in actores_pre:\n",
    "    actor2 = actor.replace(\" \", \"_\")\n",
    "    actores.append(actor2)"
   ]
  },
  {
   "cell_type": "code",
   "execution_count": 74,
   "metadata": {},
   "outputs": [
    {
     "data": {
      "text/plain": [
       "['Jennifer_Aniston', 'Antonio_Banderas', 'Leonardo_DiCaprio', 'Anne_Hathaway']"
      ]
     },
     "execution_count": 74,
     "metadata": {},
     "output_type": "execute_result"
    }
   ],
   "source": [
    "actores"
   ]
  },
  {
   "cell_type": "code",
   "execution_count": 75,
   "metadata": {},
   "outputs": [],
   "source": [
    "diccionario_actores = {}"
   ]
  },
  {
   "cell_type": "code",
   "execution_count": 76,
   "metadata": {},
   "outputs": [
    {
     "name": "stdout",
     "output_type": "stream",
     "text": [
      "La respuesta de la petición es: 200\n",
      "0\n",
      "Jennifer Aniston\n",
      "['Jennifer Joanna Aniston', 'Jen y Jenny', '11 de febrero de 1969 (55\\xa0años) Los Ángeles , California , Estados Unidos', 'Bel-Air y Los Ángeles', 'Estadounidense', 'Inglés estadounidense e inglés', 'John Aniston Nancy Dow', 'Brad Pitt ( matr. 2000; div. 2005) Justin Theroux ( matr. 2015; div. 2018) [ 1 ] \\u200b', 'Daniel McDonald Tate Donovan (1995-1998) Brad Pitt (1998-2000) Vince Vaughn (2005-2006) John Mayer (2008-2009) Justin Theroux (2012-2015)', 'Escuela Secundaria Fiorello H. LaGuardia Pedagogía Waldorf LaGuardia Community College (desde 1987)', 'Actriz Comediante Directora Productora', 'desde 1987', 'US$ 350 millones', 'Partido Demócrata', 'SAG-AFTRA', 'Mejor actriz de televisión en una serie cómica o musical 2002 Friends', 'Mejor actriz principal en una serie de comedia 2002 Friends', 'Mejor reparto en una serie cómica 1995 Friends Mejor actriz en una serie dramática 2019 The Morning Show']\n",
      "--------------\n",
      "La respuesta de la petición es: 200\n",
      "1\n",
      "Antonio Banderas\n",
      "['José Antonio Domínguez Banderas', '10 de agosto de 1960 (63\\xa0años) Málaga , España', 'Málaga', 'Española', 'Catolicismo', 'Español', 'José Domínguez Prieto Ana Banderas Gallego', 'Ana Leza ( matr. 1987; div. 1996) Melanie Griffith ( matr. 1996; div. 2015)', 'Nicole Kimpel (desde 2014)', '1', 'Escuela Superior de Arte Dramático de Málaga', 'Cantante , productor de cine , actor de cine , director de cine , modelo , actor y realizador', 'desde 1979', 'Voz', 'SAG-AFTRA', 'www.antoniobanderas.me', 'Mejor interpretación masculina 2019 Dolor y gloria', 'Goya de Honor 2014 Mejor actor protagonista 2019 Dolor y gloria', 'Platino de Honor 2015 Premio a la Trayectoria Profesional 2017 Premio Nacional de Cinematografía', '']\n",
      "--------------\n",
      "La respuesta de la petición es: 200\n",
      "2\n",
      "Leonardo DiCaprio\n",
      "['Leonardo Wilhelm DiCaprio', 'Leo DiCaprio', '11 de noviembre de 1974 (49\\xa0años) Los Ángeles , California , Estados Unidos', 'Los Ángeles y Battery Park City (Manhattan)', 'Estadounidense', 'Helena Christensen (1997) Gisele Bündchen (2000-2005) Bar Refaeli (2005-2011) Blake Lively (2011) Erin Heatherton (2011-2012) Toni Garrn (2013-2014) Kelly Rohrbach (2015-2016) Nina Agdal (2016-2017) Camila Morrone (2017-2022) Gigi Hadid (desde 2022)', 'Actor Productor de cine', '1989-presente', 'SAG-AFTRA', 'Ver lista anexa']\n",
      "--------------\n",
      "La respuesta de la petición es: 200\n",
      "3\n",
      "Anne Hathaway\n",
      "['Anne Jacqueline Hathaway', 'Annie', '12 de noviembre de 1982 (41\\xa0años) Nueva York , Estados Unidos', 'Estadounidense', '1,70 m (5 ′ 7 ″ ) [ 1 ] \\u200b', '56 kg (123 lb ) [ 2 ] \\u200b', 'Castaño', 'Gerald T. Hathaway Kate McCauley Hathaway', 'Adam Shulman ( matr. 2012)', '2', 'Vassar College Millburn High School Academia Estadounidense de Arte Dramático (hasta 1993) Universidad de Nueva York (1995-1998)', 'actriz', '1999 - presente', 'Voz', 'Soprano', 'The Princess Diaries The Devil Wears Prada The Dark Knight Rises Río Río 2', 'Partido Demócrata', 'Mejor actriz de reparto 2012 • Les Misérables', 'Mejor actriz de reparto 2012 • Les Misérables', 'Mejor actriz de reparto 2012 • Les Misérables', 'Mejor actuación de voz 2010 • The Simpsons', 'Mejor actriz de reparto 2012  • Les Misérables', 'Premio de la Crítica Cinematográfica a la Mejor Actriz 2008 • El casamiento de Raquel Premio de la Crítica Cinematográfica a la Mejor Actriz de Reparto 2012 • Les Misérables National Board of Review a la Mejor Actriz 2008 • El casamiento de Raquel National Board of Review al Mejor Reparto 2012 • Les Misérables 2002 • Nicholas Nickleby Premio Satellite a la Mejor Actriz - Musical o Comedia 2010 • Love and Other Drugs', 'Estrella del Paseo de la Fama de Hollywood Hasty Pudding Woman of the Year (2010)', '']\n",
      "--------------\n"
     ]
    }
   ],
   "source": [
    "\n",
    "for indice, actor in enumerate(actores):\n",
    "\n",
    "    url_actor = f\"https://es.wikipedia.org/wiki/{actor}\"\n",
    "\n",
    "    respuesta= requests.get(url_actor)\n",
    "\n",
    "    # vemos si todo ha ido bien\n",
    "    print(\"La respuesta de la petición es:\", respuesta.status_code)\n",
    "\n",
    "    # creamos el objeto BeautifulSoup para poder acceder al contenido solicitado\n",
    "    sopa = BeautifulSoup(respuesta.content, 'html.parser')\n",
    "\n",
    "    #buscamos tablas\n",
    "    tabla_bio = sopa.find(\"table\")\n",
    "\n",
    "    # separar la tabla en una lista con distintos datos separados\n",
    "    celdas = tabla_bio.find_all('td')\n",
    "\n",
    "    # Extraer el texto de cada celda y dividirlo por espacios\n",
    "    lista_resultados_pre = [celda.get_text(strip=True, separator=' ') for celda in celdas]\n",
    "\n",
    "    # limpiar la lista y el nombre:\n",
    "    lista_resultados = lista_resultados_pre[1:-1]\n",
    "    actor_limpio = actor.replace(\"_\", \" \")\n",
    "\n",
    "    #mostrar resultaods:\n",
    "    print(indice)\n",
    "    print(actor_limpio)\n",
    "    print(lista_resultados)\n",
    "    print(\"--------------\")\n",
    "\n",
    "    diccionario_actor = {actor_limpio : lista_resultados}\n",
    "    diccionario_actores.update(diccionario_actor)\n",
    "    "
   ]
  },
  {
   "cell_type": "code",
   "execution_count": 77,
   "metadata": {},
   "outputs": [
    {
     "data": {
      "text/plain": [
       "{'Jennifer Aniston': ['Jennifer Joanna Aniston',\n",
       "  'Jen y Jenny',\n",
       "  '11 de febrero de 1969 (55\\xa0años) Los Ángeles , California , Estados Unidos',\n",
       "  'Bel-Air y Los Ángeles',\n",
       "  'Estadounidense',\n",
       "  'Inglés estadounidense e inglés',\n",
       "  'John Aniston Nancy Dow',\n",
       "  'Brad Pitt ( matr. 2000; div. 2005) Justin Theroux ( matr. 2015; div. 2018) [ 1 ] \\u200b',\n",
       "  'Daniel McDonald Tate Donovan (1995-1998) Brad Pitt (1998-2000) Vince Vaughn (2005-2006) John Mayer (2008-2009) Justin Theroux (2012-2015)',\n",
       "  'Escuela Secundaria Fiorello H. LaGuardia Pedagogía Waldorf LaGuardia Community College (desde 1987)',\n",
       "  'Actriz Comediante Directora Productora',\n",
       "  'desde 1987',\n",
       "  'US$ 350 millones',\n",
       "  'Partido Demócrata',\n",
       "  'SAG-AFTRA',\n",
       "  'Mejor actriz de televisión en una serie cómica o musical 2002 Friends',\n",
       "  'Mejor actriz principal en una serie de comedia 2002 Friends',\n",
       "  'Mejor reparto en una serie cómica 1995 Friends Mejor actriz en una serie dramática 2019 The Morning Show'],\n",
       " 'Antonio Banderas': ['José Antonio Domínguez Banderas',\n",
       "  '10 de agosto de 1960 (63\\xa0años) Málaga , España',\n",
       "  'Málaga',\n",
       "  'Española',\n",
       "  'Catolicismo',\n",
       "  'Español',\n",
       "  'José Domínguez Prieto Ana Banderas Gallego',\n",
       "  'Ana Leza ( matr. 1987; div. 1996) Melanie Griffith ( matr. 1996; div. 2015)',\n",
       "  'Nicole Kimpel (desde 2014)',\n",
       "  '1',\n",
       "  'Escuela Superior de Arte Dramático de Málaga',\n",
       "  'Cantante , productor de cine , actor de cine , director de cine , modelo , actor y realizador',\n",
       "  'desde 1979',\n",
       "  'Voz',\n",
       "  'SAG-AFTRA',\n",
       "  'www.antoniobanderas.me',\n",
       "  'Mejor interpretación masculina 2019 Dolor y gloria',\n",
       "  'Goya de Honor 2014 Mejor actor protagonista 2019 Dolor y gloria',\n",
       "  'Platino de Honor 2015 Premio a la Trayectoria Profesional 2017 Premio Nacional de Cinematografía',\n",
       "  ''],\n",
       " 'Leonardo DiCaprio': ['Leonardo Wilhelm DiCaprio',\n",
       "  'Leo DiCaprio',\n",
       "  '11 de noviembre de 1974 (49\\xa0años) Los Ángeles , California , Estados Unidos',\n",
       "  'Los Ángeles y Battery Park City (Manhattan)',\n",
       "  'Estadounidense',\n",
       "  'Helena Christensen (1997) Gisele Bündchen (2000-2005) Bar Refaeli (2005-2011) Blake Lively (2011) Erin Heatherton (2011-2012) Toni Garrn (2013-2014) Kelly Rohrbach (2015-2016) Nina Agdal (2016-2017) Camila Morrone (2017-2022) Gigi Hadid (desde 2022)',\n",
       "  'Actor Productor de cine',\n",
       "  '1989-presente',\n",
       "  'SAG-AFTRA',\n",
       "  'Ver lista anexa'],\n",
       " 'Anne Hathaway': ['Anne Jacqueline Hathaway',\n",
       "  'Annie',\n",
       "  '12 de noviembre de 1982 (41\\xa0años) Nueva York , Estados Unidos',\n",
       "  'Estadounidense',\n",
       "  '1,70 m (5 ′ 7 ″ ) [ 1 ] \\u200b',\n",
       "  '56 kg (123 lb ) [ 2 ] \\u200b',\n",
       "  'Castaño',\n",
       "  'Gerald T. Hathaway Kate McCauley Hathaway',\n",
       "  'Adam Shulman ( matr. 2012)',\n",
       "  '2',\n",
       "  'Vassar College Millburn High School Academia Estadounidense de Arte Dramático (hasta 1993) Universidad de Nueva York (1995-1998)',\n",
       "  'actriz',\n",
       "  '1999 - presente',\n",
       "  'Voz',\n",
       "  'Soprano',\n",
       "  'The Princess Diaries The Devil Wears Prada The Dark Knight Rises Río Río 2',\n",
       "  'Partido Demócrata',\n",
       "  'Mejor actriz de reparto 2012 • Les Misérables',\n",
       "  'Mejor actriz de reparto 2012 • Les Misérables',\n",
       "  'Mejor actriz de reparto 2012 • Les Misérables',\n",
       "  'Mejor actuación de voz 2010 • The Simpsons',\n",
       "  'Mejor actriz de reparto 2012  • Les Misérables',\n",
       "  'Premio de la Crítica Cinematográfica a la Mejor Actriz 2008 • El casamiento de Raquel Premio de la Crítica Cinematográfica a la Mejor Actriz de Reparto 2012 • Les Misérables National Board of Review a la Mejor Actriz 2008 • El casamiento de Raquel National Board of Review al Mejor Reparto 2012 • Les Misérables 2002 • Nicholas Nickleby Premio Satellite a la Mejor Actriz - Musical o Comedia 2010 • Love and Other Drugs',\n",
       "  'Estrella del Paseo de la Fama de Hollywood Hasty Pudding Woman of the Year (2010)',\n",
       "  '']}"
      ]
     },
     "execution_count": 77,
     "metadata": {},
     "output_type": "execute_result"
    }
   ],
   "source": [
    "diccionario_actores"
   ]
  }
 ],
 "metadata": {
  "kernelspec": {
   "display_name": "base",
   "language": "python",
   "name": "python3"
  },
  "language_info": {
   "codemirror_mode": {
    "name": "ipython",
    "version": 3
   },
   "file_extension": ".py",
   "mimetype": "text/x-python",
   "name": "python",
   "nbconvert_exporter": "python",
   "pygments_lexer": "ipython3",
   "version": "3.11.5"
  }
 },
 "nbformat": 4,
 "nbformat_minor": 2
}
