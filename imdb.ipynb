{
 "cells": [
  {
   "cell_type": "code",
   "execution_count": 1,
   "metadata": {},
   "outputs": [],
   "source": [
    "# Importar librerías para tratamiento de datos\n",
    "# -----------------------------------------------------------------------\n",
    "import pandas as pd  # Pandas es una poderosa librería para manipulación y análisis de datos en Python.\n",
    "\n",
    "# Importar librerías para web scraping y manipulación de datos\n",
    "# -----------------------------------------------------------------------\n",
    "from bs4 import BeautifulSoup\n",
    "import requests\n",
    "\n",
    "# Importar librerías para automatización de navegadores web con Selenium\n",
    "# -----------------------------------------------------------------------\n",
    "from selenium import webdriver  # Selenium es una herramienta para automatizar la interacción con navegadores web.\n",
    "from webdriver_manager.chrome import ChromeDriverManager  # ChromeDriverManager gestiona la instalación del controlador de Chrome.\n",
    "from selenium.webdriver.common.keys import Keys  # Keys es útil para simular eventos de teclado en Selenium.\n",
    "from selenium.webdriver.support.ui import Select  # Select se utiliza para interactuar con elementos <select> en páginas web.\n",
    "\n",
    "# Importar librerías para pausar la ejecución\n",
    "# -----------------------------------------------------------------------\n",
    "from time import sleep  # Sleep se utiliza para pausar la ejecución del programa por un número de segundos.\n",
    "\n",
    "# Configuraciones\n",
    "# -----------------------------------------------------------------------\n",
    "pd.set_option('display.max_columns', None)  # Establece una opción de Pandas para mostrar todas las columnas de un DataFrame.\n",
    "\n",
    "import numpy as np"
   ]
  },
  {
   "cell_type": "code",
   "execution_count": 2,
   "metadata": {},
   "outputs": [],
   "source": [
    "# Puntuacion de IMDB (en caso de que la tenga).😉\n",
    "# Puntuación de Rotten Tomatoes (Tomatometer). PENDIENTE!\n",
    "# Dirección (director/a o directore/as de cada película).😉\n",
    "# Gionistas (de cada película).😉\n",
    "# Argumento.😉\n",
    "# Duración (en minutos).😉\n",
    "# Nombre de la película😉"
   ]
  },
  {
   "cell_type": "code",
   "execution_count": 3,
   "metadata": {},
   "outputs": [],
   "source": [
    "# tt0326965\n",
    "# tt0465637\n",
    "# tt0411951"
   ]
  },
  {
   "cell_type": "code",
   "execution_count": 4,
   "metadata": {},
   "outputs": [],
   "source": [
    "codigos = [\"tt0326965\", \"tt0465637\", \"tt0411951\"]"
   ]
  },
  {
   "cell_type": "code",
   "execution_count": 5,
   "metadata": {},
   "outputs": [
    {
     "name": "stdout",
     "output_type": "stream",
     "text": [
      "5.5\n",
      "Allen Wolf\n",
      "Allen Wolf\n",
      "A sleepwalking sexaholic masseur wakes up covered in blood next to a bloody knife with cops ringing his doorbell.\n",
      "104\n",
      "Mientras duermo\n",
      "---------------------------\n",
      "7.8\n",
      "Ron Althoff Entra en la segunda\n",
      "Error guionista\n",
      "Error argumento\n",
      "Error duración\n",
      "Taken by Force\n",
      "---------------------------\n",
      "4.8\n",
      "Dwight H. Little\n",
      "Alan B. McElroy\n",
      "Jin Kazama es testigo de la muerte de su madre Jun por parte de Tekken.\n",
      "91\n",
      "Tekken\n",
      "---------------------------\n",
      "[('5.5', 'Allen Wolf', 'Allen Wolf', 'A sleepwalking sexaholic masseur wakes up covered in blood next to a bloody knife with cops ringing his doorbell.', 104, 'Mientras duermo'), ('7.8', 'Ron Althoff', 'Taken by Force'), ('4.8', 'Dwight H. Little', 'Alan B. McElroy', 'Jin Kazama es testigo de la muerte de su madre Jun por parte de Tekken.', 91, 'Tekken')]\n"
     ]
    }
   ],
   "source": [
    "driver = webdriver.Chrome() # inicializar navegador\n",
    "\n",
    "url = \"https://www.imdb.com/\" \n",
    "\n",
    "driver.get(url) \n",
    "\n",
    "driver.maximize_window() # hace grande una ventana ¡ojo! con las posiciones de los productos según se abra el navegador = separar inspeccion con dock side en los 3 puntitos. \n",
    "\n",
    "sleep(3)\n",
    "\n",
    "driver.find_element(\"css selector\", \"#__next > div > div > div.sc-jrcTuL.bPmWiM > div > button.icb-btn.sc-bcXHqe.sc-dkrFOg.sc-iBYQkv.dcvrLS.ddtuHe.dRCGjd\").click() # Aceptar cookies\n",
    "\n",
    "total_pelis = []\n",
    "\n",
    "for c in codigos: \n",
    "\n",
    "    driver.find_element(\"css selector\",\"#suggestion-search\").send_keys(c, Keys.ENTER)\n",
    "\n",
    "    pelicula = []\n",
    "\n",
    "    #puntuación\n",
    "\n",
    "    try:\n",
    "\n",
    "        puntuacion = driver.find_element(\"css selector\",\"#__next > main > div > section.ipc-page-background.ipc-page-background--base.sc-304f99f6-0.fSJiHR > section > div:nth-child(4) > section > section > div.sc-491663c0-3.bdjVSf > div.sc-3a4309f8-0.bjXIAP.sc-69e49b85-1.llNLpA > div > div:nth-child(1) > a > span > div > div.sc-bde20123-0.dLwiNw > div.sc-bde20123-2.cdQqzc > span.sc-bde20123-1.cMEQkK\").text.replace(\",\",\".\")\n",
    "        print(puntuacion)\n",
    "        pelicula.append(puntuacion)\n",
    "    except: \n",
    "        print(\"Error puntuación\")\n",
    "\n",
    "    # dirección\n",
    "\n",
    "    try:\n",
    "\n",
    "        direccion = driver.find_element(\"css selector\", \"#__next > main > div > section.ipc-page-background.ipc-page-background--base.sc-304f99f6-0.fSJiHR > section > div:nth-child(4) > section > section > div.sc-491663c0-4.yjUiO > div.sc-491663c0-6.lnlBxO > div.sc-491663c0-10.rbXFE > section > div.sc-69e49b85-3.dIOekc > div > ul > li:nth-child(1) > div > ul > li > a\").text\n",
    "        print(direccion)\n",
    "        pelicula.append(direccion)\n",
    "    except:\n",
    "        direccion = driver.find_element(\"css selector\", \"#__next > main > div > section.ipc-page-background.ipc-page-background--base.sc-304f99f6-0.fSJiHR > section > div:nth-child(4) > section > section > div.sc-491663c0-4.gEsAEH > div.sc-491663c0-6.eQRCDK > div.sc-491663c0-10.emoxHI > section > div.sc-69e49b85-3.dIOekc > div > ul > li:nth-child(1) > div > ul > li > a\").text\n",
    "        print(direccion ,\"Entra en la segunda\")\n",
    "        pelicula.append(direccion)\n",
    "\n",
    "        \n",
    "    # guionista\n",
    "\n",
    "    try:\n",
    "        guionista = driver.find_element(\"css selector\", \"#__next > main > div > section.ipc-page-background.ipc-page-background--base.sc-304f99f6-0.fSJiHR > section > div:nth-child(4) > section > section > div.sc-491663c0-4.yjUiO > div.sc-491663c0-6.lnlBxO > div.sc-491663c0-10.rbXFE > section > div.sc-69e49b85-3.dIOekc > div > ul > li:nth-child(2) > div > ul > li > a\").text\n",
    "        print(guionista)\n",
    "        pelicula.append(guionista)\n",
    "\n",
    "    except:\n",
    "        print(\"Error guionista\")\n",
    "\n",
    "    # argumento\n",
    "        \n",
    "    try:\n",
    "        argumento = driver.find_element(\"css selector\", \"#__next > main > div > section.ipc-page-background.ipc-page-background--base.sc-304f99f6-0.fSJiHR > section > div:nth-child(4) > section > section > div.sc-491663c0-4.yjUiO > div.sc-491663c0-6.lnlBxO > div.sc-491663c0-10.rbXFE > section > p > span.sc-466bb6c-2.chnFO\").text\n",
    "        print(argumento)\n",
    "        pelicula.append(argumento)\n",
    "\n",
    "    except:\n",
    "        print(\"Error argumento\")\n",
    "\n",
    "    # duración (min)\n",
    "\n",
    "    try:\n",
    "        duracion_str = driver.find_element(\"css selector\", \"#__next > main > div > section.ipc-page-background.ipc-page-background--base.sc-304f99f6-0.fSJiHR > section > div:nth-child(4) > section > section > div.sc-491663c0-3.bdjVSf > div.sc-69e49b85-0.jqlHBQ > ul > li:nth-child(3)\").text.replace(\"h\",\"\").replace(\"min\",\"\").split()\n",
    "        duracion = int (duracion_str[0])*60 + int (duracion_str[1])\n",
    "        print(duracion)\n",
    "        pelicula.append(duracion)\n",
    "        \n",
    "    except:\n",
    "        print(\"Error duración\")\n",
    "\n",
    "\n",
    "    # Nombre de la película\n",
    "\n",
    "    try:\n",
    "        nombre_pelicula = driver.find_element(\"css selector\", \"#__next > main > div > section.ipc-page-background.ipc-page-background--base.sc-304f99f6-0.fSJiHR > section > div:nth-child(4) > section > section > div.sc-491663c0-3.bdjVSf > div.sc-69e49b85-0.jqlHBQ > h1 > span\").text\n",
    "        print(nombre_pelicula)\n",
    "        pelicula.append(nombre_pelicula)\n",
    "    except:\n",
    "        print(\"Error nombre\")\n",
    "\n",
    "    pelicula_tupla =  tuple(pelicula)\n",
    "    total_pelis.append(pelicula_tupla)\n",
    "\n",
    "    driver.back()\n",
    "\n",
    "    print(\"---------------------------\")\n",
    "print(total_pelis)    \n",
    "\n",
    "\n",
    "    "
   ]
  },
  {
   "cell_type": "code",
   "execution_count": 6,
   "metadata": {},
   "outputs": [],
   "source": [
    "# original \n",
    "\n",
    "#__next > main > div > section.ipc-page-background.ipc-page-background--base.sc-304f99f6-0.fSJiHR > section > div:nth-child(4) > section > section > div.sc-491663c0-4.yjUiO > div.sc-491663c0-6.lnlBxO > div.sc-491663c0-10.rbXFE > section > div.sc-69e49b85-3.dIOekc > div > ul > li:nth-child(1) > div > ul > li > a\"\n",
    "\n",
    "#__next > main > div > section.ipc-page-background.ipc-page-background--base.sc-304f99f6-0.fSJiHR > section > div:nth-child(4) > section > section > div.sc-491663c0-4.gEsAEH > div.sc-491663c0-6.eQRCDK > div.sc-491663c0-10.emoxHI > section > div.sc-69e49b85-3.dIOekc > div > ul > li:nth-child(1) > div > ul > li > a"
   ]
  },
  {
   "cell_type": "code",
   "execution_count": 7,
   "metadata": {},
   "outputs": [
    {
     "name": "stdout",
     "output_type": "stream",
     "text": [
      "104\n"
     ]
    }
   ],
   "source": [
    "tiempo = \"1h 44min\" \n",
    "tiempo2 = tiempo.replace(\"h\",\"\").replace(\"min\",\"\").split()\n",
    "\n",
    "tiempo3 =int (tiempo2[0])*60 + int (tiempo2[1])\n",
    "\n",
    "print(tiempo3)"
   ]
  }
 ],
 "metadata": {
  "kernelspec": {
   "display_name": "Python 3",
   "language": "python",
   "name": "python3"
  },
  "language_info": {
   "codemirror_mode": {
    "name": "ipython",
    "version": 3
   },
   "file_extension": ".py",
   "mimetype": "text/x-python",
   "name": "python",
   "nbconvert_exporter": "python",
   "pygments_lexer": "ipython3",
   "version": "3.11.8"
  }
 },
 "nbformat": 4,
 "nbformat_minor": 2
}
