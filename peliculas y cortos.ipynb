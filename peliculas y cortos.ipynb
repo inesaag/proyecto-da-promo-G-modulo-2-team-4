{
 "cells": [
  {
   "cell_type": "code",
   "execution_count": 2,
   "metadata": {},
   "outputs": [],
   "source": [
    "import pandas as pd\n",
    "\n",
    "import requests\n",
    "\n",
    "pd.set_option('display.max_columns', None)"
   ]
  },
  {
   "cell_type": "code",
   "execution_count": 82,
   "metadata": {},
   "outputs": [],
   "source": [
    "#Peliculas drama\n",
    "url = \"https://moviesdatabase.p.rapidapi.com/titles\"\n",
    "\n",
    "querystring = {\"genre\":\"Drama\",\"year\":\"2015\",\"titleType\":\"movie\"}\n",
    "\n",
    "headers = {\n",
    "\t\"X-RapidAPI-Key\": \"9f2fee1a7bmshf00c3c6647f4651p16c6c7jsn613596cb0966\",\n",
    "\t\"X-RapidAPI-Host\": \"moviesdatabase.p.rapidapi.com\"\n",
    "}\n",
    "\n",
    "response = requests.get(url, headers=headers, params=querystring)\n",
    "\n",
    "response_json = response.json()\n",
    "\n"
   ]
  },
  {
   "cell_type": "markdown",
   "metadata": {},
   "source": [
    "Tipo             response_json[\"results\"][indice][\"titleType\"][\"text\"]\n",
    "Nombre pelicula  response_json[\"results\"][indice]['originalTitleText']['text']\n",
    "Anio estreno     response_json[\"results\"][indice]['releaseDate']['year']\n",
    "Mes estreno      response_json[\"results\"][indice]['releaseDate']['month']\n",
    "ID pelicula      response_json[\"results\"][indice]['id']\n"
   ]
  },
  {
   "cell_type": "code",
   "execution_count": 94,
   "metadata": {},
   "outputs": [],
   "source": [
    "lista_drama_2015_peliculas = []\n",
    "\n",
    "for pelicula in response_json[\"results\"]:\n",
    "    lista_para_tupla = []\n",
    "    lista_para_tupla.append(pelicula[\"titleType\"][\"text\"])      \n",
    "    lista_para_tupla.append(pelicula['releaseDate']['year'])\n",
    "    lista_para_tupla.append(pelicula['releaseDate']['month'])\n",
    "    lista_para_tupla.append(pelicula['id'])\n",
    "    lista_para_tupla.append(pelicula['originalTitleText']['text'])\n",
    "\n",
    "    tupla = tuple(lista_para_tupla)\n",
    "    lista_drama_2015_peliculas.append(tupla)\n"
   ]
  },
  {
   "cell_type": "code",
   "execution_count": 95,
   "metadata": {},
   "outputs": [
    {
     "data": {
      "text/plain": [
       "[('Movie', 2015, None, 'tt0297400', 'Snowblind'),\n",
       " ('Movie', 2015, 11, 'tt0337926', 'Chatô: O Rei do Brasil'),\n",
       " ('Movie', 2015, 4, 'tt0346045', 'Transeúntes'),\n",
       " ('Movie', 2015, 7, 'tt0420293', 'The Stanford Prison Experiment'),\n",
       " ('Movie', 2016, 6, 'tt0462335', 'High-Rise'),\n",
       " ('Movie', 2016, 7, 'tt0787524', 'The Man Who Knew Infinity'),\n",
       " ('Movie', 2016, 4, 'tt0790770', 'Miles Ahead'),\n",
       " ('Movie', 2016, 1, 'tt0810819', 'The Danish Girl'),\n",
       " ('Movie', 2015, 6, 'tt0977643', 'Chooriyan'),\n",
       " ('Movie', 2015, 8, 'tt10007824', 'Dangebaaz')]"
      ]
     },
     "execution_count": 95,
     "metadata": {},
     "output_type": "execute_result"
    }
   ],
   "source": [
    "lista_drama_2015_peliculas"
   ]
  },
  {
   "cell_type": "code",
   "execution_count": 104,
   "metadata": {},
   "outputs": [],
   "source": [
    "def buscar_genero (patatas):\n",
    "\turl = \"https://moviesdatabase.p.rapidapi.com/titles\"\n",
    "\n",
    "\tquerystring = {\"genre\": patatas,\"startYear\":\"1990\",\"endYear\":\"2022\",\"limit\":\"50\"}\n",
    "\n",
    "\theaders = {\n",
    "\t\t 'X-RapidAPI-Key': '38749e7778mshf50c8af7f83c686p16cd71jsnce1cb2882d2f',\n",
    "    \t 'X-RapidAPI-Host': 'moviesdatabase.p.rapidapi.com'\n",
    "\t}\n",
    "\n",
    "\tresponse = requests.get(url, headers=headers, params=querystring)\n",
    "\n",
    "\treturn response.json()\n"
   ]
  },
  {
   "cell_type": "code",
   "execution_count": 105,
   "metadata": {},
   "outputs": [],
   "source": [
    "prueba = buscar_genero(\"Drama\")"
   ]
  },
  {
   "cell_type": "code",
   "execution_count": null,
   "metadata": {},
   "outputs": [],
   "source": [
    "prueba"
   ]
  },
  {
   "cell_type": "code",
   "execution_count": 113,
   "metadata": {},
   "outputs": [
    {
     "data": {
      "text/plain": [
       "'/titles?titleType=movie&year=2015&genre=Drama&page=2'"
      ]
     },
     "execution_count": 113,
     "metadata": {},
     "output_type": "execute_result"
    }
   ],
   "source": [
    "response_json2[\"next\"]"
   ]
  },
  {
   "cell_type": "code",
   "execution_count": 130,
   "metadata": {},
   "outputs": [],
   "source": [
    "url = \"https://moviesdatabase.p.rapidapi.com/titles\"\n",
    "\n",
    "querystring = {\"genre\":\"drama\",\"titleType\":\"Movies\",\"year\":\"2015\",\"page\":\"3\"}\n",
    "\n",
    "headers = {\n",
    "\t\"X-RapidAPI-Key\": \"9f2fee1a7bmshf00c3c6647f4651p16c6c7jsn613596cb0966\",\n",
    "\t\"X-RapidAPI-Host\": \"moviesdatabase.p.rapidapi.com\"\n",
    "}\n",
    "\n",
    "response3 = requests.get(url, headers=headers, params=querystring)\n",
    "\n",
    "response_json3 = response.json()"
   ]
  },
  {
   "cell_type": "code",
   "execution_count": 131,
   "metadata": {},
   "outputs": [
    {
     "data": {
      "text/plain": [
       "{'page': 1,\n",
       " 'next': '/titles?titleType=movie&year=2015&genre=Drama&page=2',\n",
       " 'entries': 10,\n",
       " 'results': [{'_id': '61e58381e1a8ddbd9641d92d',\n",
       "   'id': 'tt0297400',\n",
       "   'primaryImage': None,\n",
       "   'titleType': {'text': 'Movie',\n",
       "    'id': 'movie',\n",
       "    'isSeries': False,\n",
       "    'isEpisode': False,\n",
       "    '__typename': 'TitleType'},\n",
       "   'titleText': {'text': 'Snowblind', '__typename': 'TitleText'},\n",
       "   'originalTitleText': {'text': 'Snowblind', '__typename': 'TitleText'},\n",
       "   'releaseYear': {'year': 2015, 'endYear': None, '__typename': 'YearRange'},\n",
       "   'releaseDate': {'day': None,\n",
       "    'month': None,\n",
       "    'year': 2015,\n",
       "    '__typename': 'ReleaseDate'}},\n",
       "  {'_id': '61e583ee909c2ca78141f1d7',\n",
       "   'id': 'tt0337926',\n",
       "   'primaryImage': {'id': 'rm2395727616',\n",
       "    'width': 550,\n",
       "    'height': 802,\n",
       "    'url': 'https://m.media-amazon.com/images/M/MV5BNmU0NjFiMzgtYTYxNi00OTcyLTg4MzQtNGExMmMxOTExMjJlXkEyXkFqcGdeQXVyNTU0MjA3NTM@._V1_.jpg',\n",
       "    'caption': {'plainText': 'Chatô: O Rei do Brasil (2015)',\n",
       "     '__typename': 'Markdown'},\n",
       "    '__typename': 'Image'},\n",
       "   'titleType': {'text': 'Movie',\n",
       "    'id': 'movie',\n",
       "    'isSeries': False,\n",
       "    'isEpisode': False,\n",
       "    '__typename': 'TitleType'},\n",
       "   'titleText': {'text': 'Chatô: O Rei do Brasil', '__typename': 'TitleText'},\n",
       "   'originalTitleText': {'text': 'Chatô: O Rei do Brasil',\n",
       "    '__typename': 'TitleText'},\n",
       "   'releaseYear': {'year': 2015, 'endYear': None, '__typename': 'YearRange'},\n",
       "   'releaseDate': {'day': 19,\n",
       "    'month': 11,\n",
       "    'year': 2015,\n",
       "    '__typename': 'ReleaseDate'}},\n",
       "  {'_id': '61e58407b597b91eb941f8b3',\n",
       "   'id': 'tt0346045',\n",
       "   'primaryImage': {'id': 'rm1932125184',\n",
       "    'width': 1200,\n",
       "    'height': 1600,\n",
       "    'url': 'https://m.media-amazon.com/images/M/MV5BNGQwNjI4MDctMWM1ZC00ZTMwLTg3NmEtMGVhZjM1YjIwM2IyXkEyXkFqcGdeQXVyMTA0MjU0Ng@@._V1_.jpg',\n",
       "    'caption': {'plainText': 'Transeúntes (2015)', '__typename': 'Markdown'},\n",
       "    '__typename': 'Image'},\n",
       "   'titleType': {'text': 'Movie',\n",
       "    'id': 'movie',\n",
       "    'isSeries': False,\n",
       "    'isEpisode': False,\n",
       "    '__typename': 'TitleType'},\n",
       "   'titleText': {'text': 'Transeúntes', '__typename': 'TitleText'},\n",
       "   'originalTitleText': {'text': 'Transeúntes', '__typename': 'TitleText'},\n",
       "   'releaseYear': {'year': 2015, 'endYear': None, '__typename': 'YearRange'},\n",
       "   'releaseDate': {'day': 17,\n",
       "    'month': 4,\n",
       "    'year': 2015,\n",
       "    '__typename': 'ReleaseDate'}},\n",
       "  {'_id': '61e584d2d735dff3f94226c9',\n",
       "   'id': 'tt0420293',\n",
       "   'primaryImage': {'id': 'rm2151475712',\n",
       "    'width': 2025,\n",
       "    'height': 3000,\n",
       "    'url': 'https://m.media-amazon.com/images/M/MV5BMTUyNDIyMTA4NV5BMl5BanBnXkFtZTgwODM2MDMxNjE@._V1_.jpg',\n",
       "    'caption': {'plainText': 'The Stanford Prison Experiment (2015)',\n",
       "     '__typename': 'Markdown'},\n",
       "    '__typename': 'Image'},\n",
       "   'titleType': {'text': 'Movie',\n",
       "    'id': 'movie',\n",
       "    'isSeries': False,\n",
       "    'isEpisode': False,\n",
       "    '__typename': 'TitleType'},\n",
       "   'titleText': {'text': 'The Stanford Prison Experiment',\n",
       "    '__typename': 'TitleText'},\n",
       "   'originalTitleText': {'text': 'The Stanford Prison Experiment',\n",
       "    '__typename': 'TitleText'},\n",
       "   'releaseYear': {'year': 2015, 'endYear': None, '__typename': 'YearRange'},\n",
       "   'releaseDate': {'day': 17,\n",
       "    'month': 7,\n",
       "    'year': 2015,\n",
       "    '__typename': 'ReleaseDate'}},\n",
       "  {'_id': '61e58547b597b91eb9424197',\n",
       "   'id': 'tt0462335',\n",
       "   'primaryImage': {'id': 'rm2165840128',\n",
       "    'width': 4051,\n",
       "    'height': 6000,\n",
       "    'url': 'https://m.media-amazon.com/images/M/MV5BMjM3MjM4NzMwMl5BMl5BanBnXkFtZTgwMTQ4MjUzODE@._V1_.jpg',\n",
       "    'caption': {'plainText': 'Jeremy Irons, Elisabeth Moss, Sienna Guillory, James Purefoy, Tom Hiddleston, Sienna Miller, Luke Evans, and Louis Suc in High-Rise (2015)',\n",
       "     '__typename': 'Markdown'},\n",
       "    '__typename': 'Image'},\n",
       "   'titleType': {'text': 'Movie',\n",
       "    'id': 'movie',\n",
       "    'isSeries': False,\n",
       "    'isEpisode': False,\n",
       "    '__typename': 'TitleType'},\n",
       "   'titleText': {'text': 'High-Rise', '__typename': 'TitleText'},\n",
       "   'originalTitleText': {'text': 'High-Rise', '__typename': 'TitleText'},\n",
       "   'releaseYear': {'year': 2015, 'endYear': None, '__typename': 'YearRange'},\n",
       "   'releaseDate': {'day': 30,\n",
       "    'month': 6,\n",
       "    'year': 2016,\n",
       "    '__typename': 'ReleaseDate'}},\n",
       "  {'_id': '61e588eb909c2ca781431051',\n",
       "   'id': 'tt0787524',\n",
       "   'primaryImage': {'id': 'rm3369406976',\n",
       "    'width': 1200,\n",
       "    'height': 1778,\n",
       "    'url': 'https://m.media-amazon.com/images/M/MV5BMTU3Njg4MDM3OV5BMl5BanBnXkFtZTgwMjE5ODM3ODE@._V1_.jpg',\n",
       "    'caption': {'plainText': 'Jeremy Irons and Dev Patel in The Man Who Knew Infinity (2015)',\n",
       "     '__typename': 'Markdown'},\n",
       "    '__typename': 'Image'},\n",
       "   'titleType': {'text': 'Movie',\n",
       "    'id': 'movie',\n",
       "    'isSeries': False,\n",
       "    'isEpisode': False,\n",
       "    '__typename': 'TitleType'},\n",
       "   'titleText': {'text': 'The Man Who Knew Infinity',\n",
       "    '__typename': 'TitleText'},\n",
       "   'originalTitleText': {'text': 'The Man Who Knew Infinity',\n",
       "    '__typename': 'TitleText'},\n",
       "   'releaseYear': {'year': 2015, 'endYear': None, '__typename': 'YearRange'},\n",
       "   'releaseDate': {'day': 7,\n",
       "    'month': 7,\n",
       "    'year': 2016,\n",
       "    '__typename': 'ReleaseDate'}},\n",
       "  {'_id': '61e588ec971a4a15d6431245',\n",
       "   'id': 'tt0790770',\n",
       "   'primaryImage': {'id': 'rm1372198912',\n",
       "    'width': 648,\n",
       "    'height': 960,\n",
       "    'url': 'https://m.media-amazon.com/images/M/MV5BYTU5NDRjNmItZGZlMi00ZjJiLTk5YzAtZmY1ZDc4ZGZhMjFhXkEyXkFqcGdeQXVyNTM0OTY0NTI@._V1_.jpg',\n",
       "    'caption': {'plainText': 'Miles Ahead (2015)', '__typename': 'Markdown'},\n",
       "    '__typename': 'Image'},\n",
       "   'titleType': {'text': 'Movie',\n",
       "    'id': 'movie',\n",
       "    'isSeries': False,\n",
       "    'isEpisode': False,\n",
       "    '__typename': 'TitleType'},\n",
       "   'titleText': {'text': 'Miles Ahead', '__typename': 'TitleText'},\n",
       "   'originalTitleText': {'text': 'Miles Ahead', '__typename': 'TitleText'},\n",
       "   'releaseYear': {'year': 2015, 'endYear': None, '__typename': 'YearRange'},\n",
       "   'releaseDate': {'day': 22,\n",
       "    'month': 4,\n",
       "    'year': 2016,\n",
       "    '__typename': 'ReleaseDate'}},\n",
       "  {'_id': '61e5892395801a78bc431f0b',\n",
       "   'id': 'tt0810819',\n",
       "   'primaryImage': {'id': 'rm3897224704',\n",
       "    'width': 1382,\n",
       "    'height': 2048,\n",
       "    'url': 'https://m.media-amazon.com/images/M/MV5BMjA0NjA4NjE2Nl5BMl5BanBnXkFtZTgwNzIxNTY2NjE@._V1_.jpg',\n",
       "    'caption': {'plainText': 'Eddie Redmayne and Alicia Vikander in The Danish Girl (2015)',\n",
       "     '__typename': 'Markdown'},\n",
       "    '__typename': 'Image'},\n",
       "   'titleType': {'text': 'Movie',\n",
       "    'id': 'movie',\n",
       "    'isSeries': False,\n",
       "    'isEpisode': False,\n",
       "    '__typename': 'TitleType'},\n",
       "   'titleText': {'text': 'The Danish Girl', '__typename': 'TitleText'},\n",
       "   'originalTitleText': {'text': 'The Danish Girl', '__typename': 'TitleText'},\n",
       "   'releaseYear': {'year': 2015, 'endYear': None, '__typename': 'YearRange'},\n",
       "   'releaseDate': {'day': 14,\n",
       "    'month': 1,\n",
       "    'year': 2016,\n",
       "    '__typename': 'ReleaseDate'}},\n",
       "  {'_id': '61e58af3909c2ca781438779',\n",
       "   'id': 'tt0977643',\n",
       "   'primaryImage': {'id': 'rm2464250880',\n",
       "    'width': 800,\n",
       "    'height': 1155,\n",
       "    'url': 'https://m.media-amazon.com/images/M/MV5BNzZlZjNiNjktNDFjZi00NDVlLTkyNTUtZWQ0Mzc2YjAyYzA5XkEyXkFqcGdeQXVyODE5NzE3OTE@._V1_.jpg',\n",
       "    'caption': {'plainText': 'Chooriyan (2015)', '__typename': 'Markdown'},\n",
       "    '__typename': 'Image'},\n",
       "   'titleType': {'text': 'Movie',\n",
       "    'id': 'movie',\n",
       "    'isSeries': False,\n",
       "    'isEpisode': False,\n",
       "    '__typename': 'TitleType'},\n",
       "   'titleText': {'text': 'Chooriyan', '__typename': 'TitleText'},\n",
       "   'originalTitleText': {'text': 'Chooriyan', '__typename': 'TitleText'},\n",
       "   'releaseYear': {'year': 2015, 'endYear': None, '__typename': 'YearRange'},\n",
       "   'releaseDate': {'day': 19,\n",
       "    'month': 6,\n",
       "    'year': 2015,\n",
       "    '__typename': 'ReleaseDate'}},\n",
       "  {'_id': '61e58b3ba66e59642343990d',\n",
       "   'id': 'tt10007824',\n",
       "   'primaryImage': None,\n",
       "   'titleType': {'text': 'Movie',\n",
       "    'id': 'movie',\n",
       "    'isSeries': False,\n",
       "    'isEpisode': False,\n",
       "    '__typename': 'TitleType'},\n",
       "   'titleText': {'text': 'Dangebaaz', '__typename': 'TitleText'},\n",
       "   'originalTitleText': {'text': 'Dangebaaz', '__typename': 'TitleText'},\n",
       "   'releaseYear': {'year': 2015, 'endYear': None, '__typename': 'YearRange'},\n",
       "   'releaseDate': {'day': 17,\n",
       "    'month': 8,\n",
       "    'year': 2015,\n",
       "    '__typename': 'ReleaseDate'}}]}"
      ]
     },
     "execution_count": 131,
     "metadata": {},
     "output_type": "execute_result"
    }
   ],
   "source": [
    "response_json3"
   ]
  },
  {
   "cell_type": "code",
   "execution_count": 108,
   "metadata": {},
   "outputs": [],
   "source": [
    "def busqueda_info (json, lista):\n",
    "\n",
    "    for pelicula in json[\"results\"]:\n",
    "        lista_para_tupla = []\n",
    "        lista_para_tupla.append(pelicula[\"titleType\"][\"text\"])      \n",
    "        lista_para_tupla.append(pelicula['releaseDate']['year'])\n",
    "        lista_para_tupla.append(pelicula['releaseDate']['month'])\n",
    "        lista_para_tupla.append(pelicula['id'])\n",
    "        lista_para_tupla.append(pelicula['originalTitleText']['text'])\n",
    "\n",
    "        tupla = tuple(lista_para_tupla)\n",
    "        lista.append(tupla)\n",
    "\n",
    "    return lista"
   ]
  },
  {
   "cell_type": "code",
   "execution_count": 109,
   "metadata": {},
   "outputs": [],
   "source": [
    "#Peliculas drama\n",
    "url = \"https://moviesdatabase.p.rapidapi.com/titles\"\n",
    "\n",
    "querystring = {\"genre\":\"Drama\",\"year\":\"2015\",\"titleType\":\"movie\"}\n",
    "\n",
    "headers = {\n",
    "\t\"X-RapidAPI-Key\": \"9f2fee1a7bmshf00c3c6647f4651p16c6c7jsn613596cb0966\",\n",
    "\t\"X-RapidAPI-Host\": \"moviesdatabase.p.rapidapi.com\"\n",
    "}\n",
    "\n",
    "response2 = requests.get(url, headers=headers, params=querystring)\n",
    "\n",
    "response_json2 = response2.json()\n"
   ]
  },
  {
   "cell_type": "code",
   "execution_count": 110,
   "metadata": {},
   "outputs": [],
   "source": [
    "lista_limite_50 = []\n",
    "prueba_limite = busqueda_info (response_json2, lista_limite_50)"
   ]
  },
  {
   "cell_type": "code",
   "execution_count": 111,
   "metadata": {},
   "outputs": [
    {
     "data": {
      "text/plain": [
       "[('Movie', 2015, None, 'tt0297400', 'Snowblind'),\n",
       " ('Movie', 2015, 11, 'tt0337926', 'Chatô: O Rei do Brasil'),\n",
       " ('Movie', 2015, 4, 'tt0346045', 'Transeúntes'),\n",
       " ('Movie', 2015, 7, 'tt0420293', 'The Stanford Prison Experiment'),\n",
       " ('Movie', 2016, 6, 'tt0462335', 'High-Rise'),\n",
       " ('Movie', 2016, 7, 'tt0787524', 'The Man Who Knew Infinity'),\n",
       " ('Movie', 2016, 4, 'tt0790770', 'Miles Ahead'),\n",
       " ('Movie', 2016, 1, 'tt0810819', 'The Danish Girl'),\n",
       " ('Movie', 2015, 6, 'tt0977643', 'Chooriyan'),\n",
       " ('Movie', 2015, 8, 'tt10007824', 'Dangebaaz')]"
      ]
     },
     "execution_count": 111,
     "metadata": {},
     "output_type": "execute_result"
    }
   ],
   "source": [
    "prueba_limite"
   ]
  }
 ],
 "metadata": {
  "kernelspec": {
   "display_name": "base",
   "language": "python",
   "name": "python3"
  },
  "language_info": {
   "codemirror_mode": {
    "name": "ipython",
    "version": 3
   },
   "file_extension": ".py",
   "mimetype": "text/x-python",
   "name": "python",
   "nbconvert_exporter": "python",
   "pygments_lexer": "ipython3",
   "version": "3.9.7"
  }
 },
 "nbformat": 4,
 "nbformat_minor": 2
}
