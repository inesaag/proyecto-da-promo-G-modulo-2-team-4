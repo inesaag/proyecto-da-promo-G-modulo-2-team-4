{
 "cells": [
  {
   "cell_type": "code",
   "execution_count": 5,
   "metadata": {},
   "outputs": [],
   "source": [
    "# Importar librerías para tratamiento de datos\n",
    "# -----------------------------------------------------------------------\n",
    "import pandas as pd  # Pandas es una poderosa librería para manipulación y análisis de datos en Python.\n",
    "\n",
    "# Importar librerías para web scraping y manipulación de datos\n",
    "# -----------------------------------------------------------------------\n",
    "# from bs4 import BeautifulSoup\n",
    "import requests\n",
    "\n",
    "# Importar librerías para automatización de navegadores web con Selenium\n",
    "# -----------------------------------------------------------------------\n",
    "from selenium import webdriver  # Selenium es una herramienta para automatizar la interacción con navegadores web.\n",
    "from webdriver_manager.chrome import ChromeDriverManager  # ChromeDriverManager gestiona la instalación del controlador de Chrome.\n",
    "from selenium.webdriver.common.keys import Keys  # Keys es útil para simular eventos de teclado en Selenium.\n",
    "from selenium.webdriver.support.ui import Select  # Select se utiliza para interactuar con elementos <select> en páginas web.\n",
    "\n",
    "# Importar librerías para pausar la ejecución\n",
    "# -----------------------------------------------------------------------\n",
    "from time import sleep  # Sleep se utiliza para pausar la ejecución del programa por un número de segundos.\n",
    "\n",
    "# Configuraciones\n",
    "# -----------------------------------------------------------------------\n",
    "pd.set_option('display.max_columns', None)  # Establece una opción de Pandas para mostrar todas las columnas de un DataFrame.\n",
    "\n",
    "import numpy as np\n",
    "\n",
    "import re\n",
    "import random"
   ]
  },
  {
   "cell_type": "markdown",
   "metadata": {},
   "source": [
    " --1er tramo# df_imdb = pd.read_csv(\"action_1000_pelis.csv\", index_col = 0)\n",
    "# df_tomatoes = pd.read_csv(\"action_1001_tomatoes.csv\", index_col = 0)\n",
    "df_imdb = pd.read_csv(\"action2_1001_2000_pelis.csv\", index_col = 0)\n",
    "# df_tomatoes = pd.read_csv(\"action_2001_tomatoes.csv\", index_col = 0)"
   ]
  },
  {
   "cell_type": "code",
   "execution_count": 52,
   "metadata": {},
   "outputs": [],
   "source": [
    "df_action = pd.read_csv(\"action.csv\", index_col = 0)\n",
    "df_imdb = pd.read_csv(\"action_6001_10000_pelis.csv\", index_col = 0)\n",
    "df_tomatoes = pd.read_csv(\"action_10001_tomatoes.csv\", index_col = 0)"
   ]
  },
  {
   "cell_type": "markdown",
   "metadata": {},
   "source": [
    "convertimos tanto el dataframe de los datos de la API como el de IMDB como el de Rotten tomatoes a lista"
   ]
  },
  {
   "cell_type": "code",
   "execution_count": 53,
   "metadata": {},
   "outputs": [],
   "source": [
    "# primeras_action_1000_df = df_action.values.tolist()[0:1001]\n",
    "# segundas_action_2001_df = df_action.values.tolist()[1001:2001]\n",
    "# terceras_action_6001_df = df_action.values.tolist()[2001:6001]\n",
    "cuartas_action_10001_df = df_action.values.tolist()[6001:10001]"
   ]
  },
  {
   "cell_type": "code",
   "execution_count": 54,
   "metadata": {},
   "outputs": [],
   "source": [
    "cuartas_10001_action_imdb = df_imdb.values.tolist()\n",
    "# primeras_1000_action_imdb = df_imdb.values.tolist()"
   ]
  },
  {
   "cell_type": "code",
   "execution_count": 55,
   "metadata": {},
   "outputs": [],
   "source": [
    "cuartas_10001_action_tomatoes = df_tomatoes.values.tolist()\n",
    "# primeras_1000_action_tomatoes = df_tomatoes.values.tolist()"
   ]
  },
  {
   "cell_type": "code",
   "execution_count": 56,
   "metadata": {},
   "outputs": [
    {
     "data": {
      "text/plain": [
       "4000"
      ]
     },
     "execution_count": 56,
     "metadata": {},
     "output_type": "execute_result"
    }
   ],
   "source": [
    "# primeras_action_1000_df[-1]\n",
    "len(cuartas_action_10001_df)\n",
    "# len(terceras_action_6001_df)"
   ]
  },
  {
   "cell_type": "code",
   "execution_count": 57,
   "metadata": {},
   "outputs": [
    {
     "data": {
      "text/plain": [
       "4000"
      ]
     },
     "execution_count": 57,
     "metadata": {},
     "output_type": "execute_result"
    }
   ],
   "source": [
    "# primeras_1000_action_imdb[-1]\n",
    "# len(terceras_6001_action_imdb)\n",
    "len(cuartas_10001_action_imdb)"
   ]
  },
  {
   "cell_type": "code",
   "execution_count": 58,
   "metadata": {},
   "outputs": [
    {
     "data": {
      "text/plain": [
       "4000"
      ]
     },
     "execution_count": 58,
     "metadata": {},
     "output_type": "execute_result"
    }
   ],
   "source": [
    "# primeras_1000_action_tomatoes[-1]\n",
    "len(cuartas_10001_action_tomatoes)"
   ]
  },
  {
   "cell_type": "code",
   "execution_count": 60,
   "metadata": {},
   "outputs": [],
   "source": [
    "# Incluir puntuacion tomatoes en la tupla de imdb\n",
    "def fase2_unificada (lista_imdb, lista_tomatoes, lista_df):\n",
    "\n",
    "    lista_final_fase2 = []\n",
    "\n",
    "    for indice, tupla in enumerate(lista_imdb):\n",
    "        lista_incluir_tomatometer = list(tupla)\n",
    "        lista_incluir_tomatometer.append(lista_df[indice][5]) ## incluimos codigo imdb por si hace falta para cruzar en la BBDD\n",
    "        lista_incluir_tomatometer.insert(1, lista_tomatoes[indice])\n",
    "        tupla_completa = tuple(lista_incluir_tomatometer)\n",
    "        lista_final_fase2.append(tupla_completa)\n",
    "        \n",
    "\n",
    "    return lista_final_fase2"
   ]
  },
  {
   "cell_type": "code",
   "execution_count": 61,
   "metadata": {},
   "outputs": [],
   "source": [
    "#llamamos a la funcion y le damos las listas anteriores\n",
    "segundas_2001_action_todo = fase2_unificada(cuartas_10001_action_imdb, cuartas_10001_action_tomatoes, cuartas_action_10001_df)\n",
    "\n",
    "# primeras_1000_action_todo = fase2_unificada(primeras_1000_action_imdb,primeras_1000_action_tomatoes,primeras_action_1000_df )"
   ]
  },
  {
   "cell_type": "code",
   "execution_count": 62,
   "metadata": {},
   "outputs": [
    {
     "data": {
      "text/plain": [
       "('5.7',\n",
       " ['45'],\n",
       " 'Fumihiko Sori',\n",
       " 'Jeffrey Scott',\n",
       " \"In the land of Orlais, where battles are fought with swords and magic, a young heroine rises as templars, mages, and dragons clash. Cassandra, a brash and beautiful Seeker, must stop a conspiracy that threatens the realm's most powerful religious order, the Chantry of Andraste. Accused of treasonous crimes and hunted by friend and foe, Cassandra must clear her name an... Leer todo\",\n",
       " '90',\n",
       " 'Dragon Age: Dawn of the Seeker',\n",
       " 'tt1709652')"
      ]
     },
     "execution_count": 62,
     "metadata": {},
     "output_type": "execute_result"
    }
   ],
   "source": [
    "# primeras_1000_action_todo[0] realmente son las terceras\n",
    "segundas_2001_action_todo[0]"
   ]
  },
  {
   "cell_type": "markdown",
   "metadata": {},
   "source": [
    "primeras_1000_action_todo_definitiva = []"
   ]
  },
  {
   "cell_type": "code",
   "execution_count": 63,
   "metadata": {},
   "outputs": [],
   "source": [
    "#SI LA PÙNTUACION DE ROTTEN TOMATOES ESTA DENTRO DE UNA LISTA HAZ ESTO\n",
    "segundas_2001_action_todo_definitiva = []\n",
    "for peli in segundas_2001_action_todo:\n",
    "    lista = list(peli)\n",
    "    lista[1]= lista[1][0]\n",
    "    tupla = tuple(lista)\n",
    "    segundas_2001_action_todo_definitiva.append(tupla)"
   ]
  },
  {
   "cell_type": "code",
   "execution_count": null,
   "metadata": {},
   "outputs": [],
   "source": [
    "#el encabezado para el dataframe\n",
    "#encabezado = [\"Puntuacion IMDB\", \"Puntuacion Rotten Tomatoes\", \"Direccion\", \"Guionistas\", \"Argumento\", \"Duracion\", \"Nombre\" \"Codigo IMDB\"]"
   ]
  },
  {
   "cell_type": "code",
   "execution_count": 64,
   "metadata": {},
   "outputs": [
    {
     "data": {
      "text/html": [
       "<div>\n",
       "<style scoped>\n",
       "    .dataframe tbody tr th:only-of-type {\n",
       "        vertical-align: middle;\n",
       "    }\n",
       "\n",
       "    .dataframe tbody tr th {\n",
       "        vertical-align: top;\n",
       "    }\n",
       "\n",
       "    .dataframe thead th {\n",
       "        text-align: right;\n",
       "    }\n",
       "</style>\n",
       "<table border=\"1\" class=\"dataframe\">\n",
       "  <thead>\n",
       "    <tr style=\"text-align: right;\">\n",
       "      <th></th>\n",
       "      <th>0</th>\n",
       "      <th>1</th>\n",
       "      <th>2</th>\n",
       "      <th>3</th>\n",
       "      <th>4</th>\n",
       "      <th>5</th>\n",
       "      <th>6</th>\n",
       "      <th>7</th>\n",
       "    </tr>\n",
       "  </thead>\n",
       "  <tbody>\n",
       "    <tr>\n",
       "      <th>0</th>\n",
       "      <td>5.7</td>\n",
       "      <td>45</td>\n",
       "      <td>Fumihiko Sori</td>\n",
       "      <td>Jeffrey Scott</td>\n",
       "      <td>In the land of Orlais, where battles are fough...</td>\n",
       "      <td>90</td>\n",
       "      <td>Dragon Age: Dawn of the Seeker</td>\n",
       "      <td>tt1709652</td>\n",
       "    </tr>\n",
       "    <tr>\n",
       "      <th>1</th>\n",
       "      <td>5.2</td>\n",
       "      <td>No tiene datos</td>\n",
       "      <td>Rob Cohen</td>\n",
       "      <td>Marc Moss</td>\n",
       "      <td>Un detective de homicidios es empujado al bord...</td>\n",
       "      <td>101</td>\n",
       "      <td>En la mente del asesino</td>\n",
       "      <td>tt1712170</td>\n",
       "    </tr>\n",
       "    <tr>\n",
       "      <th>2</th>\n",
       "      <td>6.7</td>\n",
       "      <td>No tiene datos</td>\n",
       "      <td>Takeshi Kitano</td>\n",
       "      <td>Takeshi Kitano</td>\n",
       "      <td>As the police launch a full-scale crackdown on...</td>\n",
       "      <td>110</td>\n",
       "      <td>Outrage 2</td>\n",
       "      <td>tt1724962</td>\n",
       "    </tr>\n",
       "    <tr>\n",
       "      <th>3</th>\n",
       "      <td>7.5</td>\n",
       "      <td>No tiene datos</td>\n",
       "      <td>Patrick Sheehan</td>\n",
       "      <td>Patrick Sheehan</td>\n",
       "      <td>A documentary that tells the story of Dale Bro...</td>\n",
       "      <td>82</td>\n",
       "      <td>Man in the Glass: The Dale Brown Story</td>\n",
       "      <td>tt1725029</td>\n",
       "    </tr>\n",
       "    <tr>\n",
       "      <th>4</th>\n",
       "      <td>4.4</td>\n",
       "      <td>25</td>\n",
       "      <td>Mischa Webley</td>\n",
       "      <td>Mischa Webley</td>\n",
       "      <td>The shadow of war follows a troubled Iraq War ...</td>\n",
       "      <td>92</td>\n",
       "      <td>The Kill Hole</td>\n",
       "      <td>tt1727373</td>\n",
       "    </tr>\n",
       "    <tr>\n",
       "      <th>...</th>\n",
       "      <td>...</td>\n",
       "      <td>...</td>\n",
       "      <td>...</td>\n",
       "      <td>...</td>\n",
       "      <td>...</td>\n",
       "      <td>...</td>\n",
       "      <td>...</td>\n",
       "      <td>...</td>\n",
       "    </tr>\n",
       "    <tr>\n",
       "      <th>3995</th>\n",
       "      <td>5.9</td>\n",
       "      <td>54</td>\n",
       "      <td>Khadar Kumar S</td>\n",
       "      <td>Khadar Kumar S</td>\n",
       "      <td>No tiene argumento</td>\n",
       "      <td>161</td>\n",
       "      <td>Veeram</td>\n",
       "      <td>tt11603780</td>\n",
       "    </tr>\n",
       "    <tr>\n",
       "      <th>3996</th>\n",
       "      <td>No tiene datos</td>\n",
       "      <td>20</td>\n",
       "      <td>Guru Deshpande</td>\n",
       "      <td>Prajwal Devaraj</td>\n",
       "      <td>No tiene argumento</td>\n",
       "      <td>No tiene datos</td>\n",
       "      <td>Thackeray</td>\n",
       "      <td>tt11603750</td>\n",
       "    </tr>\n",
       "    <tr>\n",
       "      <th>3997</th>\n",
       "      <td>No tiene datos</td>\n",
       "      <td>No tiene datos</td>\n",
       "      <td>Jack Dalton</td>\n",
       "      <td>Jack Dalton, Sammie Dibbern</td>\n",
       "      <td>136 years after the Second Dark War, a dangero...</td>\n",
       "      <td>108</td>\n",
       "      <td>Conservators IV: Fracture</td>\n",
       "      <td>tt11609616</td>\n",
       "    </tr>\n",
       "    <tr>\n",
       "      <th>3998</th>\n",
       "      <td>5.1</td>\n",
       "      <td>No tiene datos</td>\n",
       "      <td>Francis Nam</td>\n",
       "      <td>Shuang Guo</td>\n",
       "      <td>In Empress Wu's reign, there are several bizar...</td>\n",
       "      <td>93</td>\n",
       "      <td>Di Renjie tan an</td>\n",
       "      <td>tt11621896</td>\n",
       "    </tr>\n",
       "    <tr>\n",
       "      <th>3999</th>\n",
       "      <td>6.2</td>\n",
       "      <td>No tiene datos</td>\n",
       "      <td>Molly Hermann</td>\n",
       "      <td>Steve Alexander, Kirk Chapman, Ron Glasgow</td>\n",
       "      <td>The U.S. expands westward after the Civil War ...</td>\n",
       "      <td>45</td>\n",
       "      <td>Battle of Little Bighorn</td>\n",
       "      <td>tt11634288</td>\n",
       "    </tr>\n",
       "  </tbody>\n",
       "</table>\n",
       "<p>4000 rows × 8 columns</p>\n",
       "</div>"
      ],
      "text/plain": [
       "                   0               1                2  \\\n",
       "0                5.7              45    Fumihiko Sori   \n",
       "1                5.2  No tiene datos        Rob Cohen   \n",
       "2                6.7  No tiene datos   Takeshi Kitano   \n",
       "3                7.5  No tiene datos  Patrick Sheehan   \n",
       "4                4.4              25    Mischa Webley   \n",
       "...              ...             ...              ...   \n",
       "3995             5.9              54   Khadar Kumar S   \n",
       "3996  No tiene datos              20   Guru Deshpande   \n",
       "3997  No tiene datos  No tiene datos      Jack Dalton   \n",
       "3998             5.1  No tiene datos      Francis Nam   \n",
       "3999             6.2  No tiene datos    Molly Hermann   \n",
       "\n",
       "                                               3  \\\n",
       "0                                  Jeffrey Scott   \n",
       "1                                      Marc Moss   \n",
       "2                                 Takeshi Kitano   \n",
       "3                                Patrick Sheehan   \n",
       "4                                  Mischa Webley   \n",
       "...                                          ...   \n",
       "3995                              Khadar Kumar S   \n",
       "3996                             Prajwal Devaraj   \n",
       "3997                 Jack Dalton, Sammie Dibbern   \n",
       "3998                                  Shuang Guo   \n",
       "3999  Steve Alexander, Kirk Chapman, Ron Glasgow   \n",
       "\n",
       "                                                      4               5  \\\n",
       "0     In the land of Orlais, where battles are fough...              90   \n",
       "1     Un detective de homicidios es empujado al bord...             101   \n",
       "2     As the police launch a full-scale crackdown on...             110   \n",
       "3     A documentary that tells the story of Dale Bro...              82   \n",
       "4     The shadow of war follows a troubled Iraq War ...              92   \n",
       "...                                                 ...             ...   \n",
       "3995                                 No tiene argumento             161   \n",
       "3996                                 No tiene argumento  No tiene datos   \n",
       "3997  136 years after the Second Dark War, a dangero...             108   \n",
       "3998  In Empress Wu's reign, there are several bizar...              93   \n",
       "3999  The U.S. expands westward after the Civil War ...              45   \n",
       "\n",
       "                                           6           7  \n",
       "0             Dragon Age: Dawn of the Seeker   tt1709652  \n",
       "1                    En la mente del asesino   tt1712170  \n",
       "2                                  Outrage 2   tt1724962  \n",
       "3     Man in the Glass: The Dale Brown Story   tt1725029  \n",
       "4                              The Kill Hole   tt1727373  \n",
       "...                                      ...         ...  \n",
       "3995                                  Veeram  tt11603780  \n",
       "3996                               Thackeray  tt11603750  \n",
       "3997               Conservators IV: Fracture  tt11609616  \n",
       "3998                        Di Renjie tan an  tt11621896  \n",
       "3999                Battle of Little Bighorn  tt11634288  \n",
       "\n",
       "[4000 rows x 8 columns]"
      ]
     },
     "execution_count": 64,
     "metadata": {},
     "output_type": "execute_result"
    }
   ],
   "source": [
    "#convertimos a dataframe\n",
    "df_action_segundas_2000_completo = pd.DataFrame(segundas_2001_action_todo_definitiva)\n",
    "\n",
    "df_action_segundas_2000_completo"
   ]
  },
  {
   "cell_type": "code",
   "execution_count": 65,
   "metadata": {},
   "outputs": [],
   "source": [
    "#convertimos a csv\n",
    "df_action_segundas_2000_completo.to_csv(\"cuartas_10001_action_definitiva_pelis.csv\")"
   ]
  },
  {
   "cell_type": "code",
   "execution_count": null,
   "metadata": {},
   "outputs": [],
   "source": []
  },
  {
   "cell_type": "code",
   "execution_count": 2,
   "metadata": {},
   "outputs": [
    {
     "ename": "SyntaxError",
     "evalue": "(unicode error) 'unicodeescape' codec can't decode bytes in position 0-1: truncated \\UXXXXXXXX escape (2280895342.py, line 1)",
     "output_type": "error",
     "traceback": [
      "\u001b[1;36m  Cell \u001b[1;32mIn[2], line 1\u001b[1;36m\u001b[0m\n\u001b[1;33m    archivo1 =\"\\Users\\MIRNA\\Desktop\\Promo g\\Modulo 2\\proyecto-da-promo-G-modulo-2-team-4\\primeras_1000_action_definitiva_pelis.csv\"\u001b[0m\n\u001b[1;37m              ^\u001b[0m\n\u001b[1;31mSyntaxError\u001b[0m\u001b[1;31m:\u001b[0m (unicode error) 'unicodeescape' codec can't decode bytes in position 0-1: truncated \\UXXXXXXXX escape\n"
     ]
    }
   ],
   "source": [
    "archivo1 =\"\\Users\\MIRNA\\Desktop\\Promo g\\Modulo 2\\proyecto-da-promo-G-modulo-2-team-4\\primeras_1000_action_definitiva_pelis.csv\"\n",
    "archivo2 =\"\\Users\\MIRNA\\Desktop\\Promo g\\Modulo 2\\proyecto-da-promo-G-modulo-2-team-4\\segundas_2001_action_definitiva_pelis.csv\"\n",
    "archivo3 =\"\\Users\\MIRNA\\Desktop\\Promo g\\Modulo 2\\proyecto-da-promo-G-modulo-2-team-4\\terceras_6001_action_definitiva_pelis.csv\"\n",
    "archivo4 =\"\\Users\\MIRNA\\Desktop\\Promo g\\Modulo 2\\proyecto-da-promo-G-modulo-2-team-4\\cuartas_10001_action_definitiva_pelis.csv\""
   ]
  },
  {
   "cell_type": "code",
   "execution_count": null,
   "metadata": {},
   "outputs": [],
   "source": [
    "# Lee cada archivo CSV en un DataFrame\n",
    "df1 = pd.read_csv('archivo1.csv')\n",
    "df2 = pd.read_csv('archivo2.csv')\n",
    "df3 = pd.read_csv('archivo3.csv')\n",
    "\n",
    "# Une los DataFrames utilizando el método concat\n",
    "# Puedes especificar más parámetros según tus necesidades, como axis (eje), join, etc.\n",
    "result = pd.concat([df1, df2, df3], ignore_index=True)\n",
    "\n",
    "# Guarda el resultado en un nuevo archivo CSV\n",
    "result.to_csv('resultado.csv', index=False)"
   ]
  },
  {
   "cell_type": "code",
   "execution_count": 9,
   "metadata": {},
   "outputs": [],
   "source": [
    "df1 = pd.read_csv(\"primeras_1000_action_definitiva_pelis.csv\")\n",
    "df2 = pd.read_csv('segundas_2001_action_definitiva_pelis.csv')\n",
    "df3 = pd.read_csv('terceras_6001_action_definitiva_pelis.csv')\n",
    "df4 = pd.read_csv('cuartas_10001_action_definitiva_pelis.csv')\n",
    "\n",
    "result = pd.concat([df1, df2, df3, df4], ignore_index=True)\n",
    "\n",
    "result.to_csv('action_10001_imdb_tomatoes_DEFINITIVA.csv', index=False)\n",
    "\n",
    "\n"
   ]
  }
 ],
 "metadata": {
  "kernelspec": {
   "display_name": "Python 3",
   "language": "python",
   "name": "python3"
  },
  "language_info": {
   "codemirror_mode": {
    "name": "ipython",
    "version": 3
   },
   "file_extension": ".py",
   "mimetype": "text/x-python",
   "name": "python",
   "nbconvert_exporter": "python",
   "pygments_lexer": "ipython3",
   "version": "3.8.10"
  }
 },
 "nbformat": 4,
 "nbformat_minor": 2
}
