{
 "cells": [
  {
   "cell_type": "code",
   "execution_count": 1,
   "metadata": {},
   "outputs": [],
   "source": [
    "import mysql.connector\n",
    "from mysql.connector import errorcode\n",
    "\n",
    "\n",
    "import pandas as pd\n",
    "import numpy as np"
   ]
  },
  {
   "cell_type": "code",
   "execution_count": 2,
   "metadata": {},
   "outputs": [
    {
     "name": "stdout",
     "output_type": "stream",
     "text": [
      "Conexion establecida\n"
     ]
    }
   ],
   "source": [
    "try:\n",
    "  cnx = mysql.connector.connect(user='root', password='AlumnaAdalab',\n",
    "                              host='127.0.0.1')\n",
    "  print(\"Conexion establecida\")\n",
    "\n",
    "except mysql.connector.Error as err:\n",
    "\n",
    "  if err.errno == errorcode.ER_ACCESS_DENIED_ERROR:\n",
    "    print(\"Something is wrong with your user name or password\")\n",
    "  \n",
    "  elif err.errno == errorcode.ER_BAD_DB_ERROR:\n",
    "    print(\"Database does not exist\")\n",
    "  \n",
    "  else:\n",
    "    print(err)"
   ]
  },
  {
   "cell_type": "code",
   "execution_count": 3,
   "metadata": {},
   "outputs": [],
   "source": [
    "df_actor_peli = pd.read_csv(\"pelis_actores.csv\")"
   ]
  },
  {
   "cell_type": "code",
   "execution_count": 4,
   "metadata": {},
   "outputs": [
    {
     "data": {
      "text/html": [
       "<div>\n",
       "<style scoped>\n",
       "    .dataframe tbody tr th:only-of-type {\n",
       "        vertical-align: middle;\n",
       "    }\n",
       "\n",
       "    .dataframe tbody tr th {\n",
       "        vertical-align: top;\n",
       "    }\n",
       "\n",
       "    .dataframe thead th {\n",
       "        text-align: right;\n",
       "    }\n",
       "</style>\n",
       "<table border=\"1\" class=\"dataframe\">\n",
       "  <thead>\n",
       "    <tr style=\"text-align: right;\">\n",
       "      <th></th>\n",
       "      <th>pelicula</th>\n",
       "      <th>actor</th>\n",
       "    </tr>\n",
       "  </thead>\n",
       "  <tbody>\n",
       "    <tr>\n",
       "      <th>0</th>\n",
       "      <td>In My Sleep</td>\n",
       "      <td>Philip Winchester</td>\n",
       "    </tr>\n",
       "    <tr>\n",
       "      <th>1</th>\n",
       "      <td>In My Sleep</td>\n",
       "      <td>Lacey Chabert</td>\n",
       "    </tr>\n",
       "    <tr>\n",
       "      <th>2</th>\n",
       "      <td>In My Sleep</td>\n",
       "      <td>Abigail Spencer</td>\n",
       "    </tr>\n",
       "    <tr>\n",
       "      <th>3</th>\n",
       "      <td>In My Sleep</td>\n",
       "      <td>Kelly Overton</td>\n",
       "    </tr>\n",
       "    <tr>\n",
       "      <th>4</th>\n",
       "      <td>In My Sleep</td>\n",
       "      <td>Tony Hale</td>\n",
       "    </tr>\n",
       "  </tbody>\n",
       "</table>\n",
       "</div>"
      ],
      "text/plain": [
       "      pelicula              actor\n",
       "0  In My Sleep  Philip Winchester\n",
       "1  In My Sleep      Lacey Chabert\n",
       "2  In My Sleep    Abigail Spencer\n",
       "3  In My Sleep      Kelly Overton\n",
       "4  In My Sleep          Tony Hale"
      ]
     },
     "execution_count": 4,
     "metadata": {},
     "output_type": "execute_result"
    }
   ],
   "source": [
    "df_actor_peli .head()"
   ]
  },
  {
   "cell_type": "code",
   "execution_count": 5,
   "metadata": {},
   "outputs": [],
   "source": [
    "lista_pelis_actores = df_actor_peli .values.tolist()"
   ]
  },
  {
   "cell_type": "code",
   "execution_count": null,
   "metadata": {},
   "outputs": [],
   "source": [
    "lista_pelis_actores"
   ]
  },
  {
   "cell_type": "code",
   "execution_count": 16,
   "metadata": {},
   "outputs": [
    {
     "name": "stdout",
     "output_type": "stream",
     "text": [
      "[\"Anderson's Cross\", 'Jerome Elston Scott']\n",
      "[\"Anderson's Cross\", 'Nicholas Downs']\n",
      "[\"Anderson's Cross\", 'Heather Bergdahl']\n",
      "[\"Anderson's Cross\", 'Michael Warren']\n",
      "[\"Anderson's Cross\", 'Joyce Guy']\n",
      "[\"Anderson's Cross\", 'Joanna Cassidy']\n",
      "[\"Anderson's Cross\", 'Bill Moseley']\n",
      "[\"Anderson's Cross\", 'Micah Stuart']\n",
      "[\"Anderson's Cross\", 'Jerome Elston Scott']\n",
      "[\"Anderson's Cross\", 'Nicholas Downs']\n",
      "[\"Anderson's Cross\", 'Heather Bergdahl']\n",
      "[\"Anderson's Cross\", 'Michael Warren']\n",
      "[\"Anderson's Cross\", 'Joyce Guy']\n",
      "[\"Anderson's Cross\", 'Joanna Cassidy']\n",
      "[\"Anderson's Cross\", 'Bill Moseley']\n",
      "[\"Anderson's Cross\", 'Micah Stuart']\n"
     ]
    }
   ],
   "source": [
    "for peli in lista_pelis_actores:\n",
    "    if peli[0] == \"Anderson's Cross\":\n",
    "        print(peli)"
   ]
  },
  {
   "cell_type": "code",
   "execution_count": 7,
   "metadata": {},
   "outputs": [],
   "source": [
    "lista_definitiva = [tuple(peli) for peli in lista_pelis_actores]"
   ]
  },
  {
   "cell_type": "code",
   "execution_count": null,
   "metadata": {},
   "outputs": [],
   "source": [
    "lista_definitiva"
   ]
  },
  {
   "cell_type": "code",
   "execution_count": 10,
   "metadata": {},
   "outputs": [
    {
     "name": "stdout",
     "output_type": "stream",
     "text": [
      "4072 registro/s insertado/s.\n"
     ]
    }
   ],
   "source": [
    "cnx = mysql.connector.connect(user='root', password='AlumnaAdalab',\n",
    "                              host='127.0.0.1', database='bho')\n",
    "\n",
    "\n",
    "mycursor = cnx.cursor()\n",
    "query = \"INSERT INTO peli_act(pelicula, actor) VALUES(%s, %s)\"\n",
    "val = lista_definitiva\n",
    "\n",
    "try: \n",
    "    mycursor.executemany(query, val)\n",
    "    cnx.commit()\n",
    "    print(mycursor.rowcount, \"registro/s insertado/s.\")\n",
    "\n",
    "except mysql.connector.Error as err:\n",
    "    print(err)\n",
    "    print(\"Error Code:\", err.errno)\n",
    "    print(\"SQLSTATE\", err.sqlstate)\n",
    "    print(\"Message\", err.msg)\n",
    "\n"
   ]
  },
  {
   "cell_type": "code",
   "execution_count": 30,
   "metadata": {},
   "outputs": [],
   "source": [
    "cnx = mysql.connector.connect(user='root', password='AlumnaAdalab',\n",
    "                              host='127.0.0.1', database='bho')\n",
    "\n",
    "cnx.close()"
   ]
  }
 ],
 "metadata": {
  "kernelspec": {
   "display_name": "Python 3",
   "language": "python",
   "name": "python3"
  },
  "language_info": {
   "codemirror_mode": {
    "name": "ipython",
    "version": 3
   },
   "file_extension": ".py",
   "mimetype": "text/x-python",
   "name": "python",
   "nbconvert_exporter": "python",
   "pygments_lexer": "ipython3",
   "version": "3.11.8"
  }
 },
 "nbformat": 4,
 "nbformat_minor": 2
}
