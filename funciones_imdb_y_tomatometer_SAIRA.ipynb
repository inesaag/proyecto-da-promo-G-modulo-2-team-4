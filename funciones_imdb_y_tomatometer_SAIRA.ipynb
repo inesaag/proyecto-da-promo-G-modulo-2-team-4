{
 "cells": [
  {
   "cell_type": "code",
   "execution_count": 1,
   "metadata": {},
   "outputs": [],
   "source": [
    "# Importar librerías para tratamiento de datos\n",
    "# -----------------------------------------------------------------------\n",
    "import pandas as pd  # Pandas es una poderosa librería para manipulación y análisis de datos en Python.\n",
    "\n",
    "# Importar librerías para web scraping y manipulación de datos\n",
    "# -----------------------------------------------------------------------\n",
    "from bs4 import BeautifulSoup\n",
    "import requests\n",
    "\n",
    "# Importar librerías para automatización de navegadores web con Selenium\n",
    "# -----------------------------------------------------------------------\n",
    "from selenium import webdriver  # Selenium es una herramienta para automatizar la interacción con navegadores web.\n",
    "from webdriver_manager.chrome import ChromeDriverManager  # ChromeDriverManager gestiona la instalación del controlador de Chrome.\n",
    "from selenium.webdriver.common.keys import Keys  # Keys es útil para simular eventos de teclado en Selenium.\n",
    "from selenium.webdriver.support.ui import Select  # Select se utiliza para interactuar con elementos <select> en páginas web.\n",
    "\n",
    "# Importar librerías para pausar la ejecución\n",
    "# -----------------------------------------------------------------------\n",
    "from time import sleep  # Sleep se utiliza para pausar la ejecución del programa por un número de segundos.\n",
    "\n",
    "# Configuraciones\n",
    "# -----------------------------------------------------------------------\n",
    "pd.set_option('display.max_columns', None)  # Establece una opción de Pandas para mostrar todas las columnas de un DataFrame.\n",
    "\n",
    "import numpy as np\n",
    "\n",
    "import re\n",
    "import random"
   ]
  },
  {
   "cell_type": "code",
   "execution_count": 2,
   "metadata": {},
   "outputs": [],
   "source": [
    "df_action = pd.read_csv(\"action.csv\", index_col = 0)\n",
    "df_comedy = pd.read_csv(\"comedy.csv\", index_col = 0)\n",
    "df_drama = pd.read_csv(\"drama_no_duplicado.csv\", index_col = 0)"
   ]
  },
  {
   "cell_type": "markdown",
   "metadata": {},
   "source": [
    "Sacar todo el df drama 0(incluido) 8000 (SIN INCLUIR) registros"
   ]
  },
  {
   "cell_type": "code",
   "execution_count": 18,
   "metadata": {},
   "outputs": [],
   "source": [
    "primeras_drama_8000_df = df_drama.values.tolist()[0:8000]"
   ]
  },
  {
   "cell_type": "code",
   "execution_count": 15,
   "metadata": {},
   "outputs": [],
   "source": [
    "df1 = pd.read_csv(\"tomatoes_drama_de_0_a_5985.csv\", index_col = 0)\n",
    "df2 = pd.read_csv(\"TOTAL_SAIRA_tomatoes_drama_resto.csv\", index_col = 0)\n"
   ]
  },
  {
   "cell_type": "code",
   "execution_count": 16,
   "metadata": {},
   "outputs": [],
   "source": [
    "drama_df_0_a_7999 = pd.concat([df1, df2])"
   ]
  },
  {
   "cell_type": "code",
   "execution_count": 17,
   "metadata": {},
   "outputs": [],
   "source": [
    "drama_df_0_a_7999.to_csv(\"TOTAL_SAIRA_tomatoes_drama_de_0_a_7999.csv\")"
   ]
  },
  {
   "cell_type": "code",
   "execution_count": 5,
   "metadata": {},
   "outputs": [
    {
     "data": {
      "text/plain": [
       "7999"
      ]
     },
     "execution_count": 5,
     "metadata": {},
     "output_type": "execute_result"
    }
   ],
   "source": [
    "len (drama_df_0_a_7999)"
   ]
  },
  {
   "cell_type": "code",
   "execution_count": 11,
   "metadata": {},
   "outputs": [
    {
     "data": {
      "text/plain": [
       "21414"
      ]
     },
     "execution_count": 11,
     "metadata": {},
     "output_type": "execute_result"
    }
   ],
   "source": [
    "len (df_action)"
   ]
  },
  {
   "cell_type": "code",
   "execution_count": 9,
   "metadata": {},
   "outputs": [
    {
     "data": {
      "text/plain": [
       "24000"
      ]
     },
     "execution_count": 9,
     "metadata": {},
     "output_type": "execute_result"
    }
   ],
   "source": [
    "len (df_comedy)"
   ]
  },
  {
   "cell_type": "code",
   "execution_count": 10,
   "metadata": {},
   "outputs": [
    {
     "data": {
      "text/plain": [
       "41000"
      ]
     },
     "execution_count": 10,
     "metadata": {},
     "output_type": "execute_result"
    }
   ],
   "source": [
    "len (df_drama)"
   ]
  },
  {
   "cell_type": "code",
   "execution_count": 41,
   "metadata": {},
   "outputs": [
    {
     "data": {
      "text/plain": [
       "Tipo      41000\n",
       "Título    41000\n",
       "Año       40928\n",
       "Mes       37018\n",
       "ID        41000\n",
       "dtype: int64"
      ]
     },
     "execution_count": 41,
     "metadata": {},
     "output_type": "execute_result"
    }
   ],
   "source": [
    "df_drama.count()"
   ]
  },
  {
   "cell_type": "code",
   "execution_count": 47,
   "metadata": {},
   "outputs": [],
   "source": [
    "df_drama.drop_duplicates(subset=['ID']).to_csv('drama_no_duplicado.csv')"
   ]
  },
  {
   "cell_type": "code",
   "execution_count": 46,
   "metadata": {},
   "outputs": [
    {
     "data": {
      "text/html": [
       "<div>\n",
       "<style scoped>\n",
       "    .dataframe tbody tr th:only-of-type {\n",
       "        vertical-align: middle;\n",
       "    }\n",
       "\n",
       "    .dataframe tbody tr th {\n",
       "        vertical-align: top;\n",
       "    }\n",
       "\n",
       "    .dataframe thead th {\n",
       "        text-align: right;\n",
       "    }\n",
       "</style>\n",
       "<table border=\"1\" class=\"dataframe\">\n",
       "  <thead>\n",
       "    <tr style=\"text-align: right;\">\n",
       "      <th></th>\n",
       "      <th>Tipo</th>\n",
       "      <th>Título</th>\n",
       "      <th>Año</th>\n",
       "      <th>Mes</th>\n",
       "    </tr>\n",
       "    <tr>\n",
       "      <th>ID</th>\n",
       "      <th></th>\n",
       "      <th></th>\n",
       "      <th></th>\n",
       "      <th></th>\n",
       "    </tr>\n",
       "  </thead>\n",
       "  <tbody>\n",
       "    <tr>\n",
       "      <th>tt0011216</th>\n",
       "      <td>1</td>\n",
       "      <td>1</td>\n",
       "      <td>1</td>\n",
       "      <td>1</td>\n",
       "    </tr>\n",
       "    <tr>\n",
       "      <th>tt0062336</th>\n",
       "      <td>1</td>\n",
       "      <td>1</td>\n",
       "      <td>1</td>\n",
       "      <td>1</td>\n",
       "    </tr>\n",
       "    <tr>\n",
       "      <th>tt0069049</th>\n",
       "      <td>1</td>\n",
       "      <td>1</td>\n",
       "      <td>1</td>\n",
       "      <td>1</td>\n",
       "    </tr>\n",
       "    <tr>\n",
       "      <th>tt0079644</th>\n",
       "      <td>3</td>\n",
       "      <td>3</td>\n",
       "      <td>3</td>\n",
       "      <td>0</td>\n",
       "    </tr>\n",
       "    <tr>\n",
       "      <th>tt0083060</th>\n",
       "      <td>1</td>\n",
       "      <td>1</td>\n",
       "      <td>1</td>\n",
       "      <td>1</td>\n",
       "    </tr>\n",
       "    <tr>\n",
       "      <th>...</th>\n",
       "      <td>...</td>\n",
       "      <td>...</td>\n",
       "      <td>...</td>\n",
       "      <td>...</td>\n",
       "    </tr>\n",
       "    <tr>\n",
       "      <th>tt8679660</th>\n",
       "      <td>1</td>\n",
       "      <td>1</td>\n",
       "      <td>1</td>\n",
       "      <td>0</td>\n",
       "    </tr>\n",
       "    <tr>\n",
       "      <th>tt8810748</th>\n",
       "      <td>1</td>\n",
       "      <td>1</td>\n",
       "      <td>1</td>\n",
       "      <td>1</td>\n",
       "    </tr>\n",
       "    <tr>\n",
       "      <th>tt9389916</th>\n",
       "      <td>1</td>\n",
       "      <td>1</td>\n",
       "      <td>1</td>\n",
       "      <td>1</td>\n",
       "    </tr>\n",
       "    <tr>\n",
       "      <th>tt9707052</th>\n",
       "      <td>1</td>\n",
       "      <td>1</td>\n",
       "      <td>1</td>\n",
       "      <td>1</td>\n",
       "    </tr>\n",
       "    <tr>\n",
       "      <th>tt9876600</th>\n",
       "      <td>1</td>\n",
       "      <td>1</td>\n",
       "      <td>1</td>\n",
       "      <td>0</td>\n",
       "    </tr>\n",
       "  </tbody>\n",
       "</table>\n",
       "<p>24000 rows × 4 columns</p>\n",
       "</div>"
      ],
      "text/plain": [
       "           Tipo  Título  Año  Mes\n",
       "ID                               \n",
       "tt0011216     1       1    1    1\n",
       "tt0062336     1       1    1    1\n",
       "tt0069049     1       1    1    1\n",
       "tt0079644     3       3    3    0\n",
       "tt0083060     1       1    1    1\n",
       "...         ...     ...  ...  ...\n",
       "tt8679660     1       1    1    0\n",
       "tt8810748     1       1    1    1\n",
       "tt9389916     1       1    1    1\n",
       "tt9707052     1       1    1    1\n",
       "tt9876600     1       1    1    0\n",
       "\n",
       "[24000 rows x 4 columns]"
      ]
     },
     "execution_count": 46,
     "metadata": {},
     "output_type": "execute_result"
    }
   ],
   "source": [
    "df_drama.groupby(['ID']).count()"
   ]
  },
  {
   "cell_type": "code",
   "execution_count": 5,
   "metadata": {},
   "outputs": [],
   "source": [
    "def datos_imdb (lista):\n",
    "    # Inicializar navegador\n",
    "\n",
    "    driver = webdriver.Chrome() \n",
    "\n",
    "    # URL IMbd para extraer la información solicitada. \n",
    "\n",
    "    url = \"https://www.imdb.com/\" \n",
    "\n",
    "    # Hacer una solicitud GET a la URL especificada.\n",
    "\n",
    "    driver.get(url)  \n",
    "\n",
    "    # Maximizar la ventana - ¡ojo! con las posiciones de los productos según se abra el navegador = separar inspeccion con dock side en los 3 puntitos. \n",
    "\n",
    "    driver.maximize_window()\n",
    "\n",
    "    sleep(5)\n",
    "\n",
    "    # Aceptar cookies\n",
    "\n",
    "    driver.find_element(\"css selector\", \"#__next > div > div > div.sc-jrcTuL.bPmWiM > div > button.icb-btn.sc-bcXHqe.sc-dkrFOg.sc-iBYQkv.dcvrLS.ddtuHe.dRCGjd\").click() # Aceptar cookies\n",
    "\n",
    "    # Creamos lista vacía para introducir el resultado de todas las peliculas con todos sus datos.\n",
    "\n",
    "    #total_pelis = []\n",
    "\n",
    "    # Iniciamos bucle for por cada código accediendo por su indice.\n",
    "    \n",
    "    \n",
    "    for indice, peli in enumerate(lista):\n",
    "        try:\n",
    "            sleep(3)\n",
    "            driver.find_element(\"css selector\",\"#suggestion-search\").send_keys(peli[4], Keys.ENTER)  # Se introduce cada código en el campo de búsqueda y accede a la busqueda de la info que le vamos a pedir. \n",
    "        except Exception as err:\n",
    "            print(f\"{err}: 404\")\n",
    "            driver.find_element(\"css selector\",\"#error > div.error_message > a\").click()\n",
    "            sleep(3)\n",
    "\n",
    "            driver.find_element(\"css selector\",\"#suggestion-search\").send_keys(peli[4], Keys.ENTER)\n",
    "           \n",
    "        pelicula = [] #Lista vacía para ir introduciendo todos los datos de cada pelicula\n",
    "        \n",
    "        #puntuación\n",
    "\n",
    "        try:\n",
    "\n",
    "            puntuacion = driver.find_element(\"css selector\",\"#__next > main > div > section.ipc-page-background.ipc-page-background--base.sc-304f99f6-0.fSJiHR > section > div:nth-child(4) > section > section > div.sc-491663c0-3.bdjVSf > div.sc-3a4309f8-0.bjXIAP.sc-69e49b85-1.llNLpA > div > div:nth-child(1) > a > span > div > div.sc-bde20123-0.dLwiNw > div.sc-bde20123-2.cdQqzc > span.sc-bde20123-1.cMEQkK\").text.replace(\",\",\".\")\n",
    "            \n",
    "            pelicula.append(puntuacion)\n",
    "        except: \n",
    "            \n",
    "            pelicula.append(\"No tiene datos\")\n",
    "\n",
    "        # Ejecutamos Try/Except para obtener los datos de dirección, argumento, guionista y nombre de la película de la misma forma.\n",
    "        # Se indica en el try/except varios selectores diferentes según localizados en la web en donde se pueda localizar cada dato. \n",
    "        # Con el except itera en varias opciones en el caso de que el primer try no haya funcionado , ejecutara el que encuentre, y sino imprime el mensaje de no hay datos. \n",
    "\n",
    "        # Dirección\n",
    "\n",
    "        try:\n",
    "            direccion = driver.find_element(\"css selector\", \"#__next > main > div > section.ipc-page-background.ipc-page-background--base.sc-304f99f6-0.fSJiHR > section > div:nth-child(4) > section > section > div.sc-491663c0-4.yjUiO > div.sc-491663c0-6.lnlBxO > div.sc-491663c0-10.rbXFE > section > div.sc-69e49b85-3.dIOekc > div > ul > li:nth-child(1) > div > ul > li > a\").text\n",
    "            \n",
    "            pelicula.append(direccion)\n",
    "\n",
    "        except:\n",
    "\n",
    "            try:\n",
    "                direccion = driver.find_element(\"css selector\", \"#__next > main > div > section.ipc-page-background.ipc-page-background--base.sc-304f99f6-0.fSJiHR > section > div:nth-child(4) > section > section > div.sc-491663c0-4.gEsAEH > div.sc-491663c0-6.eQRCDK > div.sc-491663c0-10.emoxHI > section > div.sc-69e49b85-3.dIOekc > div > ul > li:nth-child(1) > div > ul > li > a\").text\n",
    "                \n",
    "                pelicula.append(direccion)\n",
    "\n",
    "            except:\n",
    "\n",
    "                try:\n",
    "                    direccion = driver.find_element(\"css selector\", \"#__next > main > div > section.ipc-page-background.ipc-page-background--base.sc-304f99f6-0.fSJiHR > section > div:nth-child(4) > section > section > div.sc-491663c0-4.fVGakt > div > div.sc-491663c0-10.RRTJr > section > div.sc-69e49b85-3.dIOekc > div > ul > li:nth-child(1) > div > ul > li > a\").text\n",
    "                    \n",
    "                    pelicula.append(direccion)\n",
    "\n",
    "                except:\n",
    "                    \n",
    "                    pelicula.append(\"No tiene datos\")\n",
    "\n",
    "            \n",
    "        # Guionista\n",
    "\n",
    "        try:\n",
    "            guionista = driver.find_element(\"css selector\", \"#__next > main > div > section.ipc-page-background.ipc-page-background--base.sc-304f99f6-0.fSJiHR > section > div:nth-child(4) > section > section > div.sc-491663c0-4.yjUiO > div.sc-491663c0-6.lnlBxO > div.sc-491663c0-10.rbXFE > section > div.sc-69e49b85-3.dIOekc > div > ul > li:nth-child(2) > div > ul > li > a\").text\n",
    "            patron = re.compile(r'([a-z])([A-Z])')\n",
    "            # Usamos re.sub() para insertar una coma entre el nombre en minúsculas y la letra mayúscula\n",
    "            resultado = re.sub(patron, r'\\1, \\2', guionista)\n",
    "            \n",
    "            pelicula.append(resultado)\n",
    "\n",
    "        except:\n",
    "\n",
    "            try:\n",
    "                guionista = driver.find_element(\"css selector\", \"#__next > main > div > section.ipc-page-background.ipc-page-background--base.sc-304f99f6-0.fSJiHR > section > div:nth-child(4) > section > section > div.sc-491663c0-4.gEsAEH > div.sc-491663c0-6.eQRCDK > div.sc-491663c0-10.emoxHI > section > div.sc-69e49b85-3.dIOekc > div > ul > li:nth-child(2) > div > ul\").text\n",
    "                patron = re.compile(r'([a-z])([A-Z])')\n",
    "                # Usamos re.sub() para insertar una coma entre el nombre en minúsculas y la letra mayúscula\n",
    "                resultado = re.sub(patron, r'\\1, \\2', guionista)\n",
    "                \n",
    "                pelicula.append(resultado)\n",
    "\n",
    "            except:\n",
    "\n",
    "                try:\n",
    "                    guionista = driver.find_element(\"css selector\", \"#__next > main > div > section.ipc-page-background.ipc-page-background--base.sc-304f99f6-0.fSJiHR > section > div:nth-child(4) > section > section > div.sc-491663c0-4.fVGakt > div > div.sc-491663c0-10.RRTJr > section > div.sc-69e49b85-3.dIOekc > div > ul > li:nth-child(2) > div\").text\n",
    "                    \n",
    "                    pelicula.append(guionista)\n",
    "                except:\n",
    "                    \n",
    "                    pelicula.append(\"No tiene datos\")\n",
    "\n",
    "        # Argumento\n",
    "            \n",
    "        try:\n",
    "            \n",
    "            argumento = driver.find_element(\"css selector\", \"#__next > main > div > section.ipc-page-background.ipc-page-background--base.sc-304f99f6-0.fSJiHR > section > div:nth-child(4) > section > section > div.sc-491663c0-4.yjUiO > div.sc-491663c0-6.lnlBxO > div.sc-491663c0-10.rbXFE > section > p > span.sc-466bb6c-2.chnFO\").text\n",
    "            \n",
    "            if argumento != \"\":\n",
    "\n",
    "                pelicula.append(argumento)\n",
    "\n",
    "            elif argumento == \"\":\n",
    "                pelicula.append(\"No tiene argumento\")\n",
    "                \n",
    "        except:\n",
    "            \n",
    "            try:\n",
    "                argumento = driver.find_element(\"css selector\", \"#__next > main > div > section.ipc-page-background.ipc-page-background--base.sc-304f99f6-0.fSJiHR > section > div:nth-child(4) > section > section > div.sc-491663c0-4.gEsAEH > div.sc-491663c0-6.eQRCDK > div.sc-491663c0-10.emoxHI > section > p > span.sc-466bb6c-2.chnFO\").text\n",
    "                \n",
    "                if argumento != \"\":\n",
    "\n",
    "                    pelicula.append(argumento)\n",
    "\n",
    "                elif argumento == \"\":\n",
    "                    pelicula.append(\"No tiene argumento\") \n",
    "\n",
    "            except:\n",
    "                \n",
    "                pelicula.append(\"No tiene datos\")\n",
    "\n",
    "\n",
    "        # Duración (min)\n",
    "        # 3 opciones de selector; \n",
    "\n",
    "        try:  \n",
    "            try: # Primer selector, mayoría. \n",
    "            \n",
    "                duracion_pre = driver.find_element(\"css selector\", \"#__next > main > div > section.ipc-page-background.ipc-page-background--base.sc-304f99f6-0.fSJiHR > section > div:nth-child(4) > section > section > div.sc-491663c0-3.bdjVSf > div.sc-69e49b85-0.jqlHBQ > ul > li:nth-child(3)\").text\n",
    "                duracion_str = duracion_pre.replace(\"h\",\"\").replace(\"min\",\"\").split() # Reemplazamos la h por vacio , y los minutos por espacio en blanco/vacio. \n",
    "                #print (duracion_str)  \n",
    "\n",
    "                if len(duracion_str) == 2:                              # Primera condición ; si son 2 números, (hora y minutos) pasamos todo a minutos. \n",
    "\n",
    "                    duracion = int (duracion_str[0])*60 + int (duracion_str[1])\n",
    "                    \n",
    "                    pelicula.append(duracion)\n",
    "\n",
    "                elif 'R' == duracion_str or \"Not Rated\" == duracion_str or \"pg-13\" == duracion_str or \"g\" == duracion_str or \"pg\" == duracion_str or \"nc-17\": # Segunda condición ; el anterior selector se utiliza para clasificación y la duración en otra parte. Seleccionamos nuevo selector a buscar.\n",
    "\n",
    "                    duracion_pre = driver.find_element(\"css selector\",'#__next > main > div > section.ipc-page-background.ipc-page-background--base.sc-304f99f6-0.fSJiHR > section > div:nth-child(4) > section > section > div.sc-491663c0-3.bdjVSf > div.sc-69e49b85-0.jqlHBQ > ul > li:nth-child(3)').text\n",
    "                    duracion_str = duracion_pre.replace(\"h\",\"\").replace(\"min\",\"\").split()\n",
    "                    #print(\"tiene R\")\n",
    "                    \n",
    "                \n",
    "                    if len(duracion_str) == 2:                                  \n",
    "                        duracion = int(duracion_str[0])*60 + int (duracion_str[1])\n",
    "                        \n",
    "                        pelicula.append(duracion)\n",
    "\n",
    "                    elif len(duracion_str) == 1 and \"h\" in duracion_pre:\n",
    "                        duracion = int(duracion_str[0])*60\n",
    "                        \n",
    "                        pelicula.append(duracion)\n",
    "\n",
    "                    else:\n",
    "                        duracion = int (duracion_str[0])\n",
    "                        \n",
    "                        pelicula.append(duracion)            \n",
    "\n",
    "\n",
    "                elif len(duracion_str) == 1 and \"h\" in duracion_pre:  # Si solo tiene un número y una h , lo pasamos a min. \n",
    "                        duracion = int(duracion_str[0])*60\n",
    "                        \n",
    "                        pelicula.append(duracion)\n",
    "\n",
    "                else:                                                  # Directamente encontramos minutos.\n",
    "                    duracion = int (duracion_str[0])\n",
    "                    \n",
    "                    pelicula.append(duracion)\n",
    "\n",
    "\n",
    "            except:                                         # Tercer selector, por si las dos opciones primeras no funcionan. \n",
    "\n",
    "                duracion_pre = driver.find_element(\"css selector\", '#__next > main > div > section.ipc-page-background.ipc-page-background--base.sc-304f99f6-0.fSJiHR > section > div:nth-child(4) > section > section > div.sc-491663c0-3.bdjVSf > div.sc-69e49b85-0.jqlHBQ > ul > li:nth-child(2)').text\n",
    "                duracion_str = duracion_pre.replace(\"h\",\"\").replace(\"min\",\"\").split()\n",
    "                \n",
    "                if len(duracion_str) == 2:                                \n",
    "                    duracion = int (duracion_str[0])*60 + int (duracion_str[1])\n",
    "                    \n",
    "                    pelicula.append(duracion)\n",
    "\n",
    "                elif len(duracion_str) == 1 and \"h\" in duracion_pre:\n",
    "                    duracion = int(duracion_str[0])*60\n",
    "                    \n",
    "                    pelicula.append(duracion)\n",
    "                else:\n",
    "                    duracion = int (duracion_str[0])\n",
    "                    \n",
    "                    pelicula.append(duracion)\n",
    "\n",
    "        # Si no se cumplen ninguno de las condiciones anteriores, ejecuta no tiene datos. \n",
    "                    \n",
    "        except:\n",
    "            \n",
    "            pelicula.append(\"No tiene datos\")\n",
    "            \n",
    "        # Nombre de la película\n",
    "\n",
    "        try:\n",
    "            nombre_pelicula = driver.find_element(\"css selector\", \"#__next > main > div > section.ipc-page-background.ipc-page-background--base.sc-304f99f6-0.fSJiHR > section > div:nth-child(4) > section > section > div.sc-491663c0-3.bdjVSf > div.sc-69e49b85-0.jqlHBQ > h1 > span\").text\n",
    "            \n",
    "            pelicula.append(nombre_pelicula)\n",
    "\n",
    "        except:\n",
    "            \n",
    "            pelicula.append(\"No tiene datos\")\n",
    "\n",
    "        # Almacenamos en una variable , la conversión de la lista a tupla. \n",
    "            \n",
    "        pelicula_tupla =  tuple(pelicula)\n",
    "        total_pelis.append(pelicula_tupla)\n",
    "        print(indice, pelicula_tupla)\n",
    "        # Salimos a la pag.principal del navegador\n",
    "        \n",
    "        driver.back() \n",
    "\n",
    "    return total_pelis    # Impresion lista total "
   ]
  },
  {
   "cell_type": "code",
   "execution_count": 6,
   "metadata": {},
   "outputs": [],
   "source": [
    "total_pelis = []"
   ]
  },
  {
   "cell_type": "code",
   "execution_count": null,
   "metadata": {},
   "outputs": [],
   "source": [
    "primeras_8000_drama_imdb = datos_imdb(primeras_drama_8000_df)"
   ]
  },
  {
   "cell_type": "code",
   "execution_count": 10,
   "metadata": {},
   "outputs": [
    {
     "data": {
      "text/plain": [
       "('No tiene datos',\n",
       " 'No tiene datos',\n",
       " 'No tiene datos',\n",
       " 'No tiene datos',\n",
       " 'No tiene datos',\n",
       " 'No tiene datos')"
      ]
     },
     "execution_count": 10,
     "metadata": {},
     "output_type": "execute_result"
    }
   ],
   "source": [
    "total_pelis[490]"
   ]
  },
  {
   "cell_type": "code",
   "execution_count": 9,
   "metadata": {},
   "outputs": [
    {
     "data": {
      "text/plain": [
       "4508"
      ]
     },
     "execution_count": 9,
     "metadata": {},
     "output_type": "execute_result"
    }
   ],
   "source": [
    "len(total_pelis)"
   ]
  },
  {
   "cell_type": "code",
   "execution_count": 8,
   "metadata": {},
   "outputs": [],
   "source": [
    "for pelii in total_pelis:\n",
    "    if len(pelii) != 6:\n",
    "        print(\"mal\")"
   ]
  },
  {
   "cell_type": "code",
   "execution_count": 8,
   "metadata": {},
   "outputs": [],
   "source": [
    "# Inicializar navegador\n",
    "def datos_tomatoes (lista):\n",
    "\n",
    "    driver = webdriver.Chrome() \n",
    "\n",
    "    # URL Google para extraer la información solicitada. \n",
    "\n",
    "    url = \"https://www.google.com/\" \n",
    "\n",
    "    # Hacer una solicitud GET a la URL especificada.\n",
    "\n",
    "    driver.get(url)  \n",
    "\n",
    "    # Maximizar la ventana\n",
    "\n",
    "    driver.maximize_window()\n",
    "    \n",
    "\n",
    "\n",
    "    sleep(5)\n",
    "\n",
    "    # Aceptar cookies\n",
    "\n",
    "    driver.find_element(\"css selector\", \"#L2AGLb > div\").click()\n",
    "\n",
    "    # Creamos lista vacía para introducir el resultado de las puntuaciones (tomatometer) de cada pelicula.\n",
    "\n",
    "    #total_puntuacion_tomatoes = []\n",
    "\n",
    "    # Iniciamos bucle for por cada pelicula de los csv que tenemos accediendo por su indice.\n",
    "\n",
    "    for indice,c in enumerate(lista): \n",
    "        \n",
    "\n",
    "        sleep(random.randint(3,10))\n",
    "        #creamos un string para pasarle a Google\n",
    "        peticion = f\"'Tomatometer de {c[1]} del año {c[2]}'\"\n",
    "        #incluimos el string en la barra de busqueda de Google\n",
    "        driver.find_element(\"css selector\",\"#APjFqb\").send_keys(peticion, Keys.ENTER)  \n",
    "\n",
    "        #puntuación (tomatometer)\n",
    "        \n",
    "        try:\n",
    "\n",
    "            #creamos una variable con el nombre de la primera pelicula que aparece en Google\n",
    "            nombre_peli_google = driver.find_element(\"css selector\",\"#rso > div:nth-child(1) > div > div > div.kb0PBd.cvP2Ce.jGGQ5e > div > div > span > a > h3\").text\n",
    "            \n",
    "\n",
    "            #si el nombre es igual al nombre de la pelicula que pedimos la añadimos a la lista\n",
    "            if nombre_peli_google == c[1]:\n",
    "                \n",
    "                puntuacion = driver.find_element(\"css selector\",\"#rso > div:nth-child(1) > div > div > div:nth-child(3) > div > span:nth-child(2)\").text.replace(\"%\",\"\").replace(\"Valoración: \", \"\")\n",
    "                total_puntuacion_tomatoes.append(puntuacion)\n",
    "                print(puntuacion)\n",
    "\n",
    "            else:\n",
    "                try:\n",
    "                    nombre_peli_google2 = driver.find_element(\"css selector\",\"#rso > div:nth-child(2) > div > div > div.kb0PBd.cvP2Ce.jGGQ5e > div > div > span > a > h3\").text\n",
    "\n",
    "                    if nombre_peli_google2 == c[1]:\n",
    "                \n",
    "                        puntuacion = driver.find_element(\"css selector\",\"#rso > div:nth-child(2) > div > div > div:nth-child(3) > div > span:nth-child(2)\").text.replace(\"%\",\"\").replace(\"Valoración: \", \"\")\n",
    "                        total_puntuacion_tomatoes.append(puntuacion)\n",
    "                        print(puntuacion)\n",
    "                    else:\n",
    "                        total_puntuacion_tomatoes.append(\"No tiene datos\")\n",
    "                        print(\"No tiene datos\")\n",
    "                except:\n",
    "                    total_puntuacion_tomatoes.append(\"No tiene datos\")\n",
    "                    print(\"No tiene datos\")\n",
    "        except: \n",
    "\n",
    "            total_puntuacion_tomatoes.append(\"No tiene datos\")\n",
    "            print(\"No tiene datos\")\n",
    "        \n",
    "        print(indice, c[1], c[2], c[4])\n",
    "        # Salimos a la pag.principal del navegador\n",
    "        \n",
    "        driver.back()\n",
    "\n",
    "    return total_puntuacion_tomatoes    # Impresion lista total "
   ]
  },
  {
   "cell_type": "code",
   "execution_count": 19,
   "metadata": {},
   "outputs": [],
   "source": [
    "total_puntuacion_tomatoes = []"
   ]
  },
  {
   "cell_type": "code",
   "execution_count": 20,
   "metadata": {},
   "outputs": [
    {
     "name": "stdout",
     "output_type": "stream",
     "text": [
      "No tiene datos\n",
      "0 Pál Adrienn 2011.0 tt0146592\n",
      "No tiene datos\n",
      "1 Oda az igazság 2010.0 tt0154039\n",
      "No tiene datos\n",
      "2 A zöld sárkány gyermekei 2011.0 tt0162942\n",
      "No tiene datos\n",
      "3 The Final Journey 2010.0 tt0230212\n",
      "13\n",
      "4 In My Sleep 2010.0 tt0326965\n"
     ]
    },
    {
     "ename": "KeyboardInterrupt",
     "evalue": "",
     "output_type": "error",
     "traceback": [
      "\u001b[1;31m---------------------------------------------------------------------------\u001b[0m",
      "\u001b[1;31mKeyboardInterrupt\u001b[0m                         Traceback (most recent call last)",
      "Cell \u001b[1;32mIn[20], line 1\u001b[0m\n\u001b[1;32m----> 1\u001b[0m primeras_1000_drama_tomatoes \u001b[38;5;241m=\u001b[39m \u001b[43mdatos_tomatoes\u001b[49m\u001b[43m(\u001b[49m\u001b[43mprimeras_drama_8000_df\u001b[49m\u001b[43m)\u001b[49m\n",
      "Cell \u001b[1;32mIn[8], line 35\u001b[0m, in \u001b[0;36mdatos_tomatoes\u001b[1;34m(lista)\u001b[0m\n\u001b[0;32m     26\u001b[0m \u001b[38;5;66;03m# Creamos lista vacía para introducir el resultado de las puntuaciones (tomatometer) de cada pelicula.\u001b[39;00m\n\u001b[0;32m     27\u001b[0m \n\u001b[0;32m     28\u001b[0m \u001b[38;5;66;03m#total_puntuacion_tomatoes = []\u001b[39;00m\n\u001b[0;32m     29\u001b[0m \n\u001b[0;32m     30\u001b[0m \u001b[38;5;66;03m# Iniciamos bucle for por cada pelicula de los csv que tenemos accediendo por su indice.\u001b[39;00m\n\u001b[0;32m     32\u001b[0m \u001b[38;5;28;01mfor\u001b[39;00m indice,c \u001b[38;5;129;01min\u001b[39;00m \u001b[38;5;28menumerate\u001b[39m(lista): \n\u001b[1;32m---> 35\u001b[0m     sleep(random\u001b[38;5;241m.\u001b[39mrandint(\u001b[38;5;241m3\u001b[39m,\u001b[38;5;241m10\u001b[39m))\n\u001b[0;32m     36\u001b[0m     \u001b[38;5;66;03m#creamos un string para pasarle a Google\u001b[39;00m\n\u001b[0;32m     37\u001b[0m     peticion \u001b[38;5;241m=\u001b[39m \u001b[38;5;124mf\u001b[39m\u001b[38;5;124m\"\u001b[39m\u001b[38;5;124m'\u001b[39m\u001b[38;5;124mTomatometer de \u001b[39m\u001b[38;5;132;01m{\u001b[39;00mc[\u001b[38;5;241m1\u001b[39m]\u001b[38;5;132;01m}\u001b[39;00m\u001b[38;5;124m del año \u001b[39m\u001b[38;5;132;01m{\u001b[39;00mc[\u001b[38;5;241m2\u001b[39m]\u001b[38;5;132;01m}\u001b[39;00m\u001b[38;5;124m'\u001b[39m\u001b[38;5;124m\"\u001b[39m\n",
      "\u001b[1;31mKeyboardInterrupt\u001b[0m: "
     ]
    }
   ],
   "source": [
    "primeras_1000_drama_tomatoes = datos_tomatoes(primeras_drama_8000_df)"
   ]
  },
  {
   "cell_type": "code",
   "execution_count": null,
   "metadata": {},
   "outputs": [],
   "source": [
    "total_puntuacion_tomatoes"
   ]
  },
  {
   "cell_type": "code",
   "execution_count": 12,
   "metadata": {},
   "outputs": [
    {
     "data": {
      "text/html": [
       "<div>\n",
       "<style scoped>\n",
       "    .dataframe tbody tr th:only-of-type {\n",
       "        vertical-align: middle;\n",
       "    }\n",
       "\n",
       "    .dataframe tbody tr th {\n",
       "        vertical-align: top;\n",
       "    }\n",
       "\n",
       "    .dataframe thead th {\n",
       "        text-align: right;\n",
       "    }\n",
       "</style>\n",
       "<table border=\"1\" class=\"dataframe\">\n",
       "  <thead>\n",
       "    <tr style=\"text-align: right;\">\n",
       "      <th></th>\n",
       "      <th>0</th>\n",
       "    </tr>\n",
       "  </thead>\n",
       "  <tbody>\n",
       "    <tr>\n",
       "      <th>0</th>\n",
       "      <td>No tiene datos</td>\n",
       "    </tr>\n",
       "    <tr>\n",
       "      <th>1</th>\n",
       "      <td>67</td>\n",
       "    </tr>\n",
       "    <tr>\n",
       "      <th>2</th>\n",
       "      <td>No tiene datos</td>\n",
       "    </tr>\n",
       "    <tr>\n",
       "      <th>3</th>\n",
       "      <td>No tiene datos</td>\n",
       "    </tr>\n",
       "    <tr>\n",
       "      <th>4</th>\n",
       "      <td>No tiene datos</td>\n",
       "    </tr>\n",
       "    <tr>\n",
       "      <th>...</th>\n",
       "      <td>...</td>\n",
       "    </tr>\n",
       "    <tr>\n",
       "      <th>2009</th>\n",
       "      <td>50</td>\n",
       "    </tr>\n",
       "    <tr>\n",
       "      <th>2010</th>\n",
       "      <td>70</td>\n",
       "    </tr>\n",
       "    <tr>\n",
       "      <th>2011</th>\n",
       "      <td>No tiene datos</td>\n",
       "    </tr>\n",
       "    <tr>\n",
       "      <th>2012</th>\n",
       "      <td>80</td>\n",
       "    </tr>\n",
       "    <tr>\n",
       "      <th>2013</th>\n",
       "      <td>No tiene datos</td>\n",
       "    </tr>\n",
       "  </tbody>\n",
       "</table>\n",
       "<p>2014 rows × 1 columns</p>\n",
       "</div>"
      ],
      "text/plain": [
       "                   0\n",
       "0     No tiene datos\n",
       "1                 67\n",
       "2     No tiene datos\n",
       "3     No tiene datos\n",
       "4     No tiene datos\n",
       "...              ...\n",
       "2009              50\n",
       "2010              70\n",
       "2011  No tiene datos\n",
       "2012              80\n",
       "2013  No tiene datos\n",
       "\n",
       "[2014 rows x 1 columns]"
      ]
     },
     "execution_count": 12,
     "metadata": {},
     "output_type": "execute_result"
    }
   ],
   "source": [
    "#pasamos lista tomatoes a dataframe\n",
    "df_drama_8000_tomatoes = pd.DataFrame(total_puntuacion_tomatoes)\n",
    "df_drama_8000_tomatoes"
   ]
  },
  {
   "cell_type": "code",
   "execution_count": 13,
   "metadata": {},
   "outputs": [],
   "source": [
    "#guardamos df tomatoes en csv\n",
    "df_drama_8000_tomatoes.to_csv(\"TOTAL_SAIRA_tomatoes_drama_resto.csv\")"
   ]
  },
  {
   "cell_type": "code",
   "execution_count": 21,
   "metadata": {},
   "outputs": [],
   "source": [
    "#traemos csv imdb\n",
    "df_imdb = pd.read_csv(\"TOTAL_SAIRA_IMDB_CORREGIDO.csv\", index_col = 0)"
   ]
  },
  {
   "cell_type": "code",
   "execution_count": 22,
   "metadata": {},
   "outputs": [],
   "source": [
    "#pasamos csv imdb a lista\n",
    "primeras_drama_8000_imdb = df_imdb.values.tolist()"
   ]
  },
  {
   "cell_type": "code",
   "execution_count": 23,
   "metadata": {},
   "outputs": [
    {
     "data": {
      "text/plain": [
       "8000"
      ]
     },
     "execution_count": 23,
     "metadata": {},
     "output_type": "execute_result"
    }
   ],
   "source": [
    "#vemos que tenga 8000 datos\n",
    "len(primeras_drama_8000_imdb)"
   ]
  },
  {
   "cell_type": "code",
   "execution_count": 24,
   "metadata": {},
   "outputs": [],
   "source": [
    "#traemos csv tomatoes\n",
    "df_tomatoes = pd.read_csv(\"TOTAL_SAIRA_tomatoes_drama_de_0_a_7999.csv\", index_col = 0)"
   ]
  },
  {
   "cell_type": "code",
   "execution_count": 25,
   "metadata": {},
   "outputs": [],
   "source": [
    "#pasamos csv tomatoes a lista\n",
    "primeras_drama_8000_tomatoes = df_tomatoes.values.tolist()"
   ]
  },
  {
   "cell_type": "code",
   "execution_count": 26,
   "metadata": {},
   "outputs": [
    {
     "data": {
      "text/plain": [
       "8000"
      ]
     },
     "execution_count": 26,
     "metadata": {},
     "output_type": "execute_result"
    }
   ],
   "source": [
    "#vemos que tenga 8000 datos\n",
    "len(primeras_drama_8000_tomatoes)"
   ]
  },
  {
   "cell_type": "code",
   "execution_count": 31,
   "metadata": {},
   "outputs": [
    {
     "data": {
      "text/plain": [
       "['5.8',\n",
       " 'Dani Minnick',\n",
       " 'Dani Minnick',\n",
       " 'Set in California the story traces the intense summer romance between middle-class Katie (Megan Wilson) and cute and very cool juvenile delinquent Boyd (Brian Vaughan).',\n",
       " '94',\n",
       " 'Falling Like This']"
      ]
     },
     "execution_count": 31,
     "metadata": {},
     "output_type": "execute_result"
    }
   ],
   "source": [
    "primeras_drama_8000_imdb[7996]"
   ]
  },
  {
   "cell_type": "code",
   "execution_count": 30,
   "metadata": {},
   "outputs": [
    {
     "data": {
      "text/plain": [
       "['70']"
      ]
     },
     "execution_count": 30,
     "metadata": {},
     "output_type": "execute_result"
    }
   ],
   "source": [
    "primeras_drama_8000_tomatoes[7996]"
   ]
  },
  {
   "cell_type": "code",
   "execution_count": 34,
   "metadata": {},
   "outputs": [],
   "source": [
    "# Incluir puntuacion tomatoes en la tupla de imdb\n",
    "def fase2_unificada (lista_imdb, lista_tomatoes, lista_df):\n",
    "\n",
    "    lista_final_fase2 = []\n",
    "\n",
    "    for indice, tupla in enumerate(lista_imdb):\n",
    "        lista_incluir_tomatometer = list(tupla)\n",
    "        lista_incluir_tomatometer.append(lista_df[indice][4]) ## QUITAR!! incluyo codigo imdb por si hay que revisar algo\n",
    "        lista_incluir_tomatometer.insert(1, lista_tomatoes[indice])\n",
    "        tupla_completa = tuple(lista_incluir_tomatometer)\n",
    "        lista_final_fase2.append(tupla_completa)\n",
    "        \n",
    "\n",
    "    return lista_final_fase2"
   ]
  },
  {
   "cell_type": "code",
   "execution_count": 35,
   "metadata": {},
   "outputs": [],
   "source": [
    "primeras_8000_drama_todo = fase2_unificada(primeras_drama_8000_imdb, primeras_drama_8000_tomatoes, primeras_drama_8000_df)"
   ]
  },
  {
   "cell_type": "code",
   "execution_count": null,
   "metadata": {},
   "outputs": [],
   "source": [
    "#encabezado = [\"Puntuacion IMDB\", \"Puntuacion Rotten Tomatoes\", \"Direccion\", \"Guionistas\", \"Argumento\", \"Duracion\", \"Nombre\"]"
   ]
  },
  {
   "cell_type": "code",
   "execution_count": 10,
   "metadata": {},
   "outputs": [
    {
     "data": {
      "text/html": [
       "<div>\n",
       "<style scoped>\n",
       "    .dataframe tbody tr th:only-of-type {\n",
       "        vertical-align: middle;\n",
       "    }\n",
       "\n",
       "    .dataframe tbody tr th {\n",
       "        vertical-align: top;\n",
       "    }\n",
       "\n",
       "    .dataframe thead th {\n",
       "        text-align: right;\n",
       "    }\n",
       "</style>\n",
       "<table border=\"1\" class=\"dataframe\">\n",
       "  <thead>\n",
       "    <tr style=\"text-align: right;\">\n",
       "      <th></th>\n",
       "      <th>0</th>\n",
       "      <th>1</th>\n",
       "      <th>2</th>\n",
       "      <th>3</th>\n",
       "      <th>4</th>\n",
       "      <th>5</th>\n",
       "    </tr>\n",
       "  </thead>\n",
       "  <tbody>\n",
       "    <tr>\n",
       "      <th>0</th>\n",
       "      <td>5.8</td>\n",
       "      <td>Taylor Hackford</td>\n",
       "      <td>Art Linson</td>\n",
       "      <td>Un vistazo a la vida de un malhablado y enveje...</td>\n",
       "      <td>120</td>\n",
       "      <td>The Comedian</td>\n",
       "    </tr>\n",
       "    <tr>\n",
       "      <th>1</th>\n",
       "      <td>5.7</td>\n",
       "      <td>Warren Beatty</td>\n",
       "      <td>Warren Beatty</td>\n",
       "      <td>La historia de un amor poco convencional entre...</td>\n",
       "      <td>127</td>\n",
       "      <td>La excepción a la regla</td>\n",
       "    </tr>\n",
       "    <tr>\n",
       "      <th>2</th>\n",
       "      <td>No tiene datos</td>\n",
       "      <td>Marko Sanginetto</td>\n",
       "      <td>Brian Carlton</td>\n",
       "      <td>To escape his memories, a man disappears into ...</td>\n",
       "      <td>No tiene datos</td>\n",
       "      <td>Mud Man</td>\n",
       "    </tr>\n",
       "    <tr>\n",
       "      <th>3</th>\n",
       "      <td>7.2</td>\n",
       "      <td>Duane Andersen</td>\n",
       "      <td>Duane Andersen</td>\n",
       "      <td>A superhero loses his powers shortly after tur...</td>\n",
       "      <td>80</td>\n",
       "      <td>Superpowerless</td>\n",
       "    </tr>\n",
       "    <tr>\n",
       "      <th>4</th>\n",
       "      <td>6.2</td>\n",
       "      <td>Susanna White</td>\n",
       "      <td>John le Carré</td>\n",
       "      <td>Una pareja se ve arrastrada a los planes de de...</td>\n",
       "      <td>108</td>\n",
       "      <td>Un traidor como los nuestros</td>\n",
       "    </tr>\n",
       "    <tr>\n",
       "      <th>...</th>\n",
       "      <td>...</td>\n",
       "      <td>...</td>\n",
       "      <td>...</td>\n",
       "      <td>...</td>\n",
       "      <td>...</td>\n",
       "      <td>...</td>\n",
       "    </tr>\n",
       "    <tr>\n",
       "      <th>4503</th>\n",
       "      <td>6.2</td>\n",
       "      <td>Jane Cusumano</td>\n",
       "      <td>Jane Cusumano</td>\n",
       "      <td>Despite different backgrounds and disapproving...</td>\n",
       "      <td>105</td>\n",
       "      <td>What Matters Most</td>\n",
       "    </tr>\n",
       "    <tr>\n",
       "      <th>4504</th>\n",
       "      <td>5.8</td>\n",
       "      <td>Dani Minnick</td>\n",
       "      <td>Dani Minnick</td>\n",
       "      <td>Set in California the story traces the intense...</td>\n",
       "      <td>94</td>\n",
       "      <td>Falling Like This</td>\n",
       "    </tr>\n",
       "    <tr>\n",
       "      <th>4505</th>\n",
       "      <td>6.0</td>\n",
       "      <td>Stéphane Giusti</td>\n",
       "      <td>Raphaëlle Desplechin, Stéphane Giusti</td>\n",
       "      <td>Nella and Orfeo, communists, flee Tuscany with...</td>\n",
       "      <td>103</td>\n",
       "      <td>Bella ciao</td>\n",
       "    </tr>\n",
       "    <tr>\n",
       "      <th>4506</th>\n",
       "      <td>6.8</td>\n",
       "      <td>Deborah Attoinese</td>\n",
       "      <td>Deborah Attoinese</td>\n",
       "      <td>Three runaway girls hijack a car.</td>\n",
       "      <td>90</td>\n",
       "      <td>Zoe</td>\n",
       "    </tr>\n",
       "    <tr>\n",
       "      <th>4507</th>\n",
       "      <td>2.0</td>\n",
       "      <td>Adam Rifkin</td>\n",
       "      <td>Adam Rifkin</td>\n",
       "      <td>A young woman deals with her first heartbreak ...</td>\n",
       "      <td>90</td>\n",
       "      <td>Without Charlie</td>\n",
       "    </tr>\n",
       "  </tbody>\n",
       "</table>\n",
       "<p>4508 rows × 6 columns</p>\n",
       "</div>"
      ],
      "text/plain": [
       "                   0                  1  \\\n",
       "0                5.8    Taylor Hackford   \n",
       "1                5.7      Warren Beatty   \n",
       "2     No tiene datos   Marko Sanginetto   \n",
       "3                7.2     Duane Andersen   \n",
       "4                6.2      Susanna White   \n",
       "...              ...                ...   \n",
       "4503             6.2      Jane Cusumano   \n",
       "4504             5.8       Dani Minnick   \n",
       "4505             6.0    Stéphane Giusti   \n",
       "4506             6.8  Deborah Attoinese   \n",
       "4507             2.0        Adam Rifkin   \n",
       "\n",
       "                                          2  \\\n",
       "0                                Art Linson   \n",
       "1                             Warren Beatty   \n",
       "2                             Brian Carlton   \n",
       "3                            Duane Andersen   \n",
       "4                             John le Carré   \n",
       "...                                     ...   \n",
       "4503                          Jane Cusumano   \n",
       "4504                           Dani Minnick   \n",
       "4505  Raphaëlle Desplechin, Stéphane Giusti   \n",
       "4506                      Deborah Attoinese   \n",
       "4507                            Adam Rifkin   \n",
       "\n",
       "                                                      3               4  \\\n",
       "0     Un vistazo a la vida de un malhablado y enveje...             120   \n",
       "1     La historia de un amor poco convencional entre...             127   \n",
       "2     To escape his memories, a man disappears into ...  No tiene datos   \n",
       "3     A superhero loses his powers shortly after tur...              80   \n",
       "4     Una pareja se ve arrastrada a los planes de de...             108   \n",
       "...                                                 ...             ...   \n",
       "4503  Despite different backgrounds and disapproving...             105   \n",
       "4504  Set in California the story traces the intense...              94   \n",
       "4505  Nella and Orfeo, communists, flee Tuscany with...             103   \n",
       "4506                  Three runaway girls hijack a car.              90   \n",
       "4507  A young woman deals with her first heartbreak ...              90   \n",
       "\n",
       "                                 5  \n",
       "0                     The Comedian  \n",
       "1          La excepción a la regla  \n",
       "2                          Mud Man  \n",
       "3                   Superpowerless  \n",
       "4     Un traidor como los nuestros  \n",
       "...                            ...  \n",
       "4503             What Matters Most  \n",
       "4504             Falling Like This  \n",
       "4505                    Bella ciao  \n",
       "4506                           Zoe  \n",
       "4507               Without Charlie  \n",
       "\n",
       "[4508 rows x 6 columns]"
      ]
     },
     "execution_count": 10,
     "metadata": {},
     "output_type": "execute_result"
    }
   ],
   "source": [
    "df_drama_imdb_resto = pd.DataFrame(total_pelis)\n",
    "\n",
    "df_drama_imdb_resto"
   ]
  },
  {
   "cell_type": "code",
   "execution_count": 11,
   "metadata": {},
   "outputs": [],
   "source": [
    "df_drama_imdb_resto.to_csv(\"drama_imdb_resto_pelis.csv\")"
   ]
  },
  {
   "cell_type": "code",
   "execution_count": null,
   "metadata": {},
   "outputs": [],
   "source": [
    "primeras_8000_drama_todo_definitiva = []\n",
    "for peli in primeras_8000_drama_todo:\n",
    "    lista = list(peli)\n",
    "    lista[1]= lista[1][0]\n",
    "    tupla = tuple(lista)\n",
    "    primeras_8000_drama_todo_definitiva.append(tupla)\n",
    "    "
   ]
  },
  {
   "cell_type": "code",
   "execution_count": 44,
   "metadata": {},
   "outputs": [
    {
     "data": {
      "text/plain": [
       "'63'"
      ]
     },
     "execution_count": 44,
     "metadata": {},
     "output_type": "execute_result"
    }
   ],
   "source": [
    "a = [\"63\"]\n",
    "a[0]"
   ]
  },
  {
   "cell_type": "code",
   "execution_count": null,
   "metadata": {},
   "outputs": [],
   "source": [
    "primeras_8000_drama_todo_definitiva"
   ]
  },
  {
   "cell_type": "code",
   "execution_count": 53,
   "metadata": {},
   "outputs": [
    {
     "data": {
      "text/html": [
       "<div>\n",
       "<style scoped>\n",
       "    .dataframe tbody tr th:only-of-type {\n",
       "        vertical-align: middle;\n",
       "    }\n",
       "\n",
       "    .dataframe tbody tr th {\n",
       "        vertical-align: top;\n",
       "    }\n",
       "\n",
       "    .dataframe thead th {\n",
       "        text-align: right;\n",
       "    }\n",
       "</style>\n",
       "<table border=\"1\" class=\"dataframe\">\n",
       "  <thead>\n",
       "    <tr style=\"text-align: right;\">\n",
       "      <th></th>\n",
       "      <th>0</th>\n",
       "      <th>1</th>\n",
       "      <th>2</th>\n",
       "      <th>3</th>\n",
       "      <th>4</th>\n",
       "      <th>5</th>\n",
       "      <th>6</th>\n",
       "      <th>7</th>\n",
       "    </tr>\n",
       "  </thead>\n",
       "  <tbody>\n",
       "    <tr>\n",
       "      <th>0</th>\n",
       "      <td>6.7</td>\n",
       "      <td>No tiene datos</td>\n",
       "      <td>Ágnes Kocsis</td>\n",
       "      <td>Ágnes Kocsis, Andrea Roberti</td>\n",
       "      <td>Una enfermera obesa y solitaria, que trabaja e...</td>\n",
       "      <td>136</td>\n",
       "      <td>Pál Adrienn</td>\n",
       "      <td>tt0146592</td>\n",
       "    </tr>\n",
       "    <tr>\n",
       "      <th>1</th>\n",
       "      <td>4.6</td>\n",
       "      <td>No tiene datos</td>\n",
       "      <td>Miklós Jancsó</td>\n",
       "      <td>Miklós Jancsó</td>\n",
       "      <td>Un noble humanista del siglo XV es nombrado Re...</td>\n",
       "      <td>100</td>\n",
       "      <td>So Much for Justice!</td>\n",
       "      <td>tt0154039</td>\n",
       "    </tr>\n",
       "    <tr>\n",
       "      <th>2</th>\n",
       "      <td>6.9</td>\n",
       "      <td>No tiene datos</td>\n",
       "      <td>Bence Miklauzic</td>\n",
       "      <td>Balázs Maruszki, Bence Miklauzic, Gábor Németh</td>\n",
       "      <td>Un agente inmobiliario establece vínculos con ...</td>\n",
       "      <td>89</td>\n",
       "      <td>Los hijos del dragón verde</td>\n",
       "      <td>tt0162942</td>\n",
       "    </tr>\n",
       "    <tr>\n",
       "      <th>3</th>\n",
       "      <td>8.9</td>\n",
       "      <td>No tiene datos</td>\n",
       "      <td>R.J. Adams</td>\n",
       "      <td>Diane C. Adams, R.J. Adams, Paul Kirby</td>\n",
       "      <td>Fotos de archivo y películas muestran las líne...</td>\n",
       "      <td>120</td>\n",
       "      <td>The Final Journey</td>\n",
       "      <td>tt0230212</td>\n",
       "    </tr>\n",
       "    <tr>\n",
       "      <th>4</th>\n",
       "      <td>5.5</td>\n",
       "      <td>13</td>\n",
       "      <td>Allen Wolf</td>\n",
       "      <td>Allen Wolf</td>\n",
       "      <td>A sleepwalking sexaholic masseur wakes up cove...</td>\n",
       "      <td>104</td>\n",
       "      <td>Mientras duermo</td>\n",
       "      <td>tt0326965</td>\n",
       "    </tr>\n",
       "    <tr>\n",
       "      <th>...</th>\n",
       "      <td>...</td>\n",
       "      <td>...</td>\n",
       "      <td>...</td>\n",
       "      <td>...</td>\n",
       "      <td>...</td>\n",
       "      <td>...</td>\n",
       "      <td>...</td>\n",
       "      <td>...</td>\n",
       "    </tr>\n",
       "    <tr>\n",
       "      <th>7995</th>\n",
       "      <td>6.2</td>\n",
       "      <td>50</td>\n",
       "      <td>Jane Cusumano</td>\n",
       "      <td>Jane Cusumano</td>\n",
       "      <td>Despite different backgrounds and disapproving...</td>\n",
       "      <td>105</td>\n",
       "      <td>What Matters Most</td>\n",
       "      <td>tt0266041</td>\n",
       "    </tr>\n",
       "    <tr>\n",
       "      <th>7996</th>\n",
       "      <td>5.8</td>\n",
       "      <td>70</td>\n",
       "      <td>Dani Minnick</td>\n",
       "      <td>Dani Minnick</td>\n",
       "      <td>Set in California the story traces the intense...</td>\n",
       "      <td>94</td>\n",
       "      <td>Falling Like This</td>\n",
       "      <td>tt0266529</td>\n",
       "    </tr>\n",
       "    <tr>\n",
       "      <th>7997</th>\n",
       "      <td>6.0</td>\n",
       "      <td>No tiene datos</td>\n",
       "      <td>Stéphane Giusti</td>\n",
       "      <td>Raphaëlle Desplechin, Stéphane Giusti</td>\n",
       "      <td>Nella and Orfeo, communists, flee Tuscany with...</td>\n",
       "      <td>103</td>\n",
       "      <td>Bella ciao</td>\n",
       "      <td>tt0266316</td>\n",
       "    </tr>\n",
       "    <tr>\n",
       "      <th>7998</th>\n",
       "      <td>6.8</td>\n",
       "      <td>80</td>\n",
       "      <td>Deborah Attoinese</td>\n",
       "      <td>Deborah Attoinese</td>\n",
       "      <td>Three runaway girls hijack a car.</td>\n",
       "      <td>90</td>\n",
       "      <td>Zoe</td>\n",
       "      <td>tt0266102</td>\n",
       "    </tr>\n",
       "    <tr>\n",
       "      <th>7999</th>\n",
       "      <td>2.0</td>\n",
       "      <td>No tiene datos</td>\n",
       "      <td>Adam Rifkin</td>\n",
       "      <td>Adam Rifkin</td>\n",
       "      <td>A young woman deals with her first heartbreak ...</td>\n",
       "      <td>90</td>\n",
       "      <td>Without Charlie</td>\n",
       "      <td>tt0266057</td>\n",
       "    </tr>\n",
       "  </tbody>\n",
       "</table>\n",
       "<p>8000 rows × 8 columns</p>\n",
       "</div>"
      ],
      "text/plain": [
       "        0               1                  2  \\\n",
       "0     6.7  No tiene datos       Ágnes Kocsis   \n",
       "1     4.6  No tiene datos      Miklós Jancsó   \n",
       "2     6.9  No tiene datos    Bence Miklauzic   \n",
       "3     8.9  No tiene datos         R.J. Adams   \n",
       "4     5.5              13         Allen Wolf   \n",
       "...   ...             ...                ...   \n",
       "7995  6.2              50      Jane Cusumano   \n",
       "7996  5.8              70       Dani Minnick   \n",
       "7997  6.0  No tiene datos    Stéphane Giusti   \n",
       "7998  6.8              80  Deborah Attoinese   \n",
       "7999  2.0  No tiene datos        Adam Rifkin   \n",
       "\n",
       "                                                   3  \\\n",
       "0                       Ágnes Kocsis, Andrea Roberti   \n",
       "1                                      Miklós Jancsó   \n",
       "2     Balázs Maruszki, Bence Miklauzic, Gábor Németh   \n",
       "3             Diane C. Adams, R.J. Adams, Paul Kirby   \n",
       "4                                         Allen Wolf   \n",
       "...                                              ...   \n",
       "7995                                   Jane Cusumano   \n",
       "7996                                    Dani Minnick   \n",
       "7997           Raphaëlle Desplechin, Stéphane Giusti   \n",
       "7998                               Deborah Attoinese   \n",
       "7999                                     Adam Rifkin   \n",
       "\n",
       "                                                      4    5  \\\n",
       "0     Una enfermera obesa y solitaria, que trabaja e...  136   \n",
       "1     Un noble humanista del siglo XV es nombrado Re...  100   \n",
       "2     Un agente inmobiliario establece vínculos con ...   89   \n",
       "3     Fotos de archivo y películas muestran las líne...  120   \n",
       "4     A sleepwalking sexaholic masseur wakes up cove...  104   \n",
       "...                                                 ...  ...   \n",
       "7995  Despite different backgrounds and disapproving...  105   \n",
       "7996  Set in California the story traces the intense...   94   \n",
       "7997  Nella and Orfeo, communists, flee Tuscany with...  103   \n",
       "7998                  Three runaway girls hijack a car.   90   \n",
       "7999  A young woman deals with her first heartbreak ...   90   \n",
       "\n",
       "                               6          7  \n",
       "0                    Pál Adrienn  tt0146592  \n",
       "1           So Much for Justice!  tt0154039  \n",
       "2     Los hijos del dragón verde  tt0162942  \n",
       "3              The Final Journey  tt0230212  \n",
       "4                Mientras duermo  tt0326965  \n",
       "...                          ...        ...  \n",
       "7995           What Matters Most  tt0266041  \n",
       "7996           Falling Like This  tt0266529  \n",
       "7997                  Bella ciao  tt0266316  \n",
       "7998                         Zoe  tt0266102  \n",
       "7999             Without Charlie  tt0266057  \n",
       "\n",
       "[8000 rows x 8 columns]"
      ]
     },
     "execution_count": 53,
     "metadata": {},
     "output_type": "execute_result"
    }
   ],
   "source": [
    "df_drama_imdb_resto = pd.DataFrame(primeras_8000_drama_todo_definitiva)\n",
    "\n",
    "df_drama_imdb_resto"
   ]
  },
  {
   "cell_type": "code",
   "execution_count": 54,
   "metadata": {},
   "outputs": [],
   "source": [
    "df_drama_imdb_resto.to_csv(\"drama_0_7999_imdb_tomatoes_DEFINITIVA.csv\")"
   ]
  }
 ],
 "metadata": {
  "kernelspec": {
   "display_name": "Python 3",
   "language": "python",
   "name": "python3"
  },
  "language_info": {
   "codemirror_mode": {
    "name": "ipython",
    "version": 3
   },
   "file_extension": ".py",
   "mimetype": "text/x-python",
   "name": "python",
   "nbconvert_exporter": "python",
   "pygments_lexer": "ipython3",
   "version": "3.11.8"
  }
 },
 "nbformat": 4,
 "nbformat_minor": 2
}
